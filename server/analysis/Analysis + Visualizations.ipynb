{
 "cells": [
  {
   "cell_type": "markdown",
   "metadata": {},
   "source": [
    "# Left, Right, Gender"
   ]
  },
  {
   "cell_type": "markdown",
   "metadata": {},
   "source": [
    "## Supplemental Material -- analysis scripts"
   ]
  },
  {
   "cell_type": "markdown",
   "metadata": {},
   "source": [
    "### Library Imports"
   ]
  },
  {
   "cell_type": "code",
   "execution_count": 1,
   "metadata": {},
   "outputs": [],
   "source": [
    "%matplotlib inline\n",
    "\n",
    "import pandas as pd\n",
    "import numpy as np\n",
    "import matplotlib.pyplot as plt\n",
    "from matplotlib import transforms, pyplot\n",
    "import os\n",
    "import json\n",
    "import ast\n",
    "import matplotlib.cm as cm\n",
    "from matplotlib.patches import Rectangle, Circle\n",
    "from matplotlib.patches import Patch\n",
    "from matplotlib.legend import Legend\n",
    "from matplotlib.lines import Line2D\n",
    "from scipy.stats import kurtosis, skew\n",
    "pd.set_option('display.max_rows', 500)\n",
    "from datetime import datetime\n",
    "import matplotlib.patches as mpatches\n",
    "from matplotlib.ticker import MaxNLocator"
   ]
  },
  {
   "cell_type": "markdown",
   "metadata": {},
   "source": [
    "### Constants"
   ]
  },
  {
   "cell_type": "code",
   "execution_count": 2,
   "metadata": {},
   "outputs": [],
   "source": [
    "experiment_modes = [\"CTRL\", \"SUM\", \"RT\", \"RTSUM\"] # AYS == CTRL\n",
    "colors = ['#b3e2cd','#fdcdac','#cbd5e8','#f4cae4']\n",
    "hatches = [\"\\\\\\\\\", \"o\", \"+\", \"*\"]\n",
    "meancolor = '#3498db'\n",
    "mediancolor = 'red'"
   ]
  },
  {
   "cell_type": "markdown",
   "metadata": {},
   "source": [
    "### Re-used methods"
   ]
  },
  {
   "cell_type": "code",
   "execution_count": 3,
   "metadata": {},
   "outputs": [],
   "source": [
    "def std(x): \n",
    "    return np.std(x)\n",
    "\n",
    "def median(x): \n",
    "    return np.median(x)\n",
    "\n",
    "def kurt(x): \n",
    "    return kurtosis(x)\n",
    "\n",
    "def skewness(x): \n",
    "    return skew(x)   \n",
    "\n",
    "def subfigure_boxplot(df, filename, columns, by):\n",
    "\n",
    "    meanpointprops = dict(marker='s', markeredgecolor='black', markerfacecolor=meancolor, markersize=8)\n",
    "    medianlineprops = dict(linestyle='-', linewidth=3, color=mediancolor)\n",
    "    boxprops = dict(linestyle='-', linewidth=1, color='black')\n",
    "    whiskerprops = dict(linestyle='-', linewidth=1, color='black')\n",
    "    flierprops = dict(linestyle='-', linewidth=1, color='black')\n",
    "    bp_dict = df.boxplot(by=by, \n",
    "                          whiskerprops=whiskerprops, \n",
    "                          boxprops=boxprops, \n",
    "                          vert=False, \n",
    "                          column=columns, \n",
    "                          meanprops=meanpointprops, \n",
    "                          showmeans=True, \n",
    "                          medianprops=medianlineprops,\n",
    "                          layout=(8,1),\n",
    "                          figsize=(2.9, 12),\n",
    "                          return_type='both',\n",
    "                          patch_artist = True,\n",
    "                          widths=[0.7]*4\n",
    "                         )\n",
    "\n",
    "    for row_key, (ax,row) in bp_dict.iteritems():\n",
    "        ax.grid(alpha=0.2, b=True)\n",
    "        ax.set_xticks([1,2,3,4,5])\n",
    "        ax.set_xticklabels([\"1\",\"2\",\"3\",\"4\",\"5\"])\n",
    "        ax_title = ax.get_title()\n",
    "        ax.set_ylabel(ax_title, rotation=0, labelpad=15, fontsize=14, horizontalalignment='right', verticalalignment='center')\n",
    "        ax.set_xlabel('', labelpad=10, fontsize=14)\n",
    "        ax.tick_params(axis='both', which='major', labelsize=12, length=0, pad=5)\n",
    "        ax.set_title('')\n",
    "\n",
    "        for j,s in enumerate(ax.spines):\n",
    "            ax.spines[s].set_visible(False)\n",
    "\n",
    "        for i,box in enumerate(row['boxes']):\n",
    "            box.set_facecolor(colors[i])\n",
    "            box.set_hatch(hatches[i])\n",
    "\n",
    "#     legendpatch1 = mpatches.Patch( facecolor=colors[0],hatch=hatches[0],label=experiment_modes[0])\n",
    "#     legendpatch2 = mpatches.Patch( facecolor=colors[1],hatch=hatches[1],label=experiment_modes[1])\n",
    "#     legendpatch3 = mpatches.Patch( facecolor=colors[2],hatch=hatches[2],label=experiment_modes[2])\n",
    "#     legendpatch4 = mpatches.Patch( facecolor=colors[3],hatch=hatches[3],label=experiment_modes[3])\n",
    "#     plt.legend(handles = [legendpatch1, legendpatch2, legendpatch3, legendpatch4],bbox_to_anchor=(1.05, 1))\n",
    "\n",
    "    stats_list = list()\n",
    "    for col in columns:        \n",
    "        mean_list = list()\n",
    "        for item in df[[col,by[0]]].groupby(by[0]).mean().round(2).reset_index().values.tolist():\n",
    "            mean_obj = dict()\n",
    "            mean_obj[\"experiment_mode\"] = item[0]\n",
    "            mean_obj[\"mean\"] = item[1]\n",
    "            mean_list.append(mean_obj)\n",
    "            \n",
    "        median_list = list()\n",
    "        for item in df[[col,by[0]]].groupby(by[0]).median().round(2).reset_index().values.tolist():\n",
    "            median_obj = dict()\n",
    "            median_obj[\"experiment_mode\"] = item[0]\n",
    "            median_obj[\"median\"] = item[1]\n",
    "            median_list.append(median_obj)\n",
    "\n",
    "        std_list = list()\n",
    "        for item in df[[col,by[0]]].groupby(by[0]).std().round(2).reset_index().values.tolist():\n",
    "            std_obj = dict()\n",
    "            std_obj[\"experiment_mode\"] = item[0]\n",
    "            std_obj[\"std\"] = item[1]\n",
    "            std_list.append(std_obj)\n",
    "            \n",
    "        for index, obj in enumerate(std_list):\n",
    "            stats_dict = dict()\n",
    "            stats_dict[\"column\"] = col\n",
    "            stats_dict[\"experiment_mode\"] = obj[\"experiment_mode\"]\n",
    "            stats_dict[\"mean\"] = mean_list[index][\"mean\"]\n",
    "            stats_dict[\"median\"] = median_list[index][\"median\"]\n",
    "            stats_dict[\"std\"] = std_list[index][\"std\"]\n",
    "            stats_list.append(stats_dict)\n",
    "    \n",
    "    df_stats = pd.DataFrame(stats_list)\n",
    "    print(df_stats)\n",
    "\n",
    "    plt.title(\"\")\n",
    "    plt.suptitle(\"\")\n",
    "    plt.subplots_adjust(wspace=None, hspace=0.3)\n",
    "    plt.savefig(filename, bbox_inches = \"tight\")\n",
    "    plt.show()\n",
    "    \n",
    "    \n",
    "def custom_tick_boxplot(df, filename, columns, by):\n",
    "\n",
    "    meanpointprops = dict(marker='s', markeredgecolor='black', markerfacecolor=meancolor, markersize=8)\n",
    "    medianlineprops = dict(linestyle='-', linewidth=3, color=mediancolor)\n",
    "    boxprops = dict(linestyle='-', linewidth=1, color='black')\n",
    "    whiskerprops = dict(linestyle='-', linewidth=1, color='black')\n",
    "    flierprops = dict(linestyle='-', linewidth=1, color='black')\n",
    "    maxvalue = df[columns[0]].max()\n",
    "    minvalue=0\n",
    "    bp_dict = df.boxplot(by=by, \n",
    "                          whiskerprops=whiskerprops, \n",
    "                          boxprops=boxprops, \n",
    "                          vert=False, \n",
    "                          column=columns, \n",
    "                          meanprops=meanpointprops, \n",
    "                          showmeans=True, \n",
    "                          medianprops=medianlineprops,\n",
    "                          layout=(8,1),\n",
    "                          figsize=(5, 20),\n",
    "                          return_type='both',\n",
    "                          patch_artist = True,\n",
    "                          widths=[0.7]*4\n",
    "                         )\n",
    "\n",
    "    for row_key, (ax,row) in bp_dict.iteritems():\n",
    "        ax.grid(alpha=0.4, b=True)\n",
    "        ax_title = ax.get_title()        \n",
    "\n",
    "        if int(maxvalue/4) > 0:\n",
    "            ax.set_xticks(np.arange(minvalue, maxvalue*1.1, int(maxvalue/4)))\n",
    "        else:\n",
    "            ax.set_xticks(np.arange(minvalue, maxvalue*1.1, maxvalue))\n",
    "\n",
    "        ax.set_ylabel(ax_title, rotation=0, labelpad=15, fontsize=14, horizontalalignment='right', verticalalignment='center')\n",
    "        ax.set_xlabel('', labelpad=10, fontsize=14)\n",
    "        ax.tick_params(axis='both', which='major', labelsize=12, length=0, pad=10)\n",
    "        ax.set_title('')\n",
    "\n",
    "        for j,s in enumerate(ax.spines):\n",
    "            ax.spines[s].set_visible(False)\n",
    "\n",
    "        for i,box in enumerate(row['boxes']):\n",
    "            box.set_facecolor(colors[i])\n",
    "            box.set_hatch(hatches[i])\n",
    "            \n",
    "            \n",
    "    stats_list = list()\n",
    "    for col in columns:        \n",
    "        mean_list = list()\n",
    "        for item in df[[col,by[0]]].groupby(by[0]).mean().round(2).reset_index().values.tolist():\n",
    "            mean_obj = dict()\n",
    "            mean_obj[\"experiment_mode\"] = item[0]\n",
    "            mean_obj[\"mean\"] = item[1]\n",
    "            mean_list.append(mean_obj)\n",
    "            \n",
    "        median_list = list()\n",
    "        for item in df[[col,by[0]]].groupby(by[0]).median().round(2).reset_index().values.tolist():\n",
    "            median_obj = dict()\n",
    "            median_obj[\"experiment_mode\"] = item[0]\n",
    "            median_obj[\"median\"] = item[1]\n",
    "            median_list.append(median_obj)\n",
    "\n",
    "        std_list = list()\n",
    "        for item in df[[col,by[0]]].groupby(by[0]).std().round(2).reset_index().values.tolist():\n",
    "            std_obj = dict()\n",
    "            std_obj[\"experiment_mode\"] = item[0]\n",
    "            std_obj[\"std\"] = item[1]\n",
    "            std_list.append(std_obj)\n",
    "            \n",
    "        for index, obj in enumerate(std_list):\n",
    "            stats_dict = dict()\n",
    "            stats_dict[\"column\"] = col\n",
    "            stats_dict[\"experiment_mode\"] = obj[\"experiment_mode\"]\n",
    "            stats_dict[\"mean\"] = mean_list[index][\"mean\"]\n",
    "            stats_dict[\"median\"] = median_list[index][\"median\"]\n",
    "            stats_dict[\"std\"] = std_list[index][\"std\"]\n",
    "            stats_list.append(stats_dict)\n",
    "\n",
    "    df_stats = pd.DataFrame(stats_list)\n",
    "    print(df_stats)\n",
    "\n",
    "    plt.title(\"\")\n",
    "    plt.suptitle(\"\")\n",
    "    plt.subplots_adjust(wspace=None, hspace=0.5)\n",
    "    plt.savefig(filename, bbox_inches = \"tight\")\n",
    "    plt.show()\n",
    "    \n",
    "    \n",
    "    \n",
    "def custom_bias_boxplot(df, filename, columns, by):\n",
    "\n",
    "    meanpointprops = dict(marker='s', markeredgecolor='black', markerfacecolor=meancolor, markersize=8)\n",
    "    medianlineprops = dict(linestyle='-', linewidth=3, color=mediancolor)\n",
    "    boxprops = dict(linestyle='-', linewidth=1, color='black')\n",
    "    whiskerprops = dict(linestyle='-', linewidth=1, color='black')\n",
    "    flierprops = dict(linestyle='-', linewidth=1, color='black')\n",
    "    maxvalue = 1\n",
    "    minvalue=0\n",
    "    bp_dict = df.boxplot(by=by, \n",
    "                          whiskerprops=whiskerprops, \n",
    "                          boxprops=boxprops, \n",
    "                          vert=False, \n",
    "                          column=columns, \n",
    "                          meanprops=meanpointprops, \n",
    "                          showmeans=True, \n",
    "                          medianprops=medianlineprops,\n",
    "                          layout=(8,1),\n",
    "                          figsize=(5, 20),\n",
    "                          return_type='both',\n",
    "                          patch_artist = True,\n",
    "                          widths=[0.7]*4\n",
    "                         )\n",
    "\n",
    "    for row_key, (ax,row) in bp_dict.iteritems():\n",
    "        ax.grid(alpha=0.4, b=True)\n",
    "        ax_title = ax.get_title()        \n",
    "        ax.set_xticks([0,0.25,0.5,0.75,1])\n",
    "\n",
    "        ax.set_ylabel(ax_title, rotation=0, labelpad=15, fontsize=14, horizontalalignment='right', verticalalignment='center')\n",
    "        ax.set_xlabel('', labelpad=10, fontsize=14)\n",
    "        ax.tick_params(axis='both', which='major', labelsize=12, length=0, pad=10)\n",
    "        ax.set_title('')\n",
    "\n",
    "        for j,s in enumerate(ax.spines):\n",
    "            ax.spines[s].set_visible(False)\n",
    "\n",
    "        for i,box in enumerate(row['boxes']):\n",
    "            box.set_facecolor(colors[i])\n",
    "            box.set_hatch(hatches[i])\n",
    "            \n",
    "            \n",
    "    stats_list = list()\n",
    "    for col in columns:        \n",
    "        mean_list = list()\n",
    "        for item in df[[col,by[0]]].groupby(by[0]).mean().round(2).reset_index().values.tolist():\n",
    "            mean_obj = dict()\n",
    "            mean_obj[\"experiment_mode\"] = item[0]\n",
    "            mean_obj[\"mean\"] = item[1]\n",
    "            mean_list.append(mean_obj)\n",
    "            \n",
    "        median_list = list()\n",
    "        for item in df[[col,by[0]]].groupby(by[0]).median().round(2).reset_index().values.tolist():\n",
    "            median_obj = dict()\n",
    "            median_obj[\"experiment_mode\"] = item[0]\n",
    "            median_obj[\"median\"] = item[1]\n",
    "            median_list.append(median_obj)\n",
    "\n",
    "        std_list = list()\n",
    "        for item in df[[col,by[0]]].groupby(by[0]).std().round(2).reset_index().values.tolist():\n",
    "            std_obj = dict()\n",
    "            std_obj[\"experiment_mode\"] = item[0]\n",
    "            std_obj[\"std\"] = item[1]\n",
    "            std_list.append(std_obj)\n",
    "            \n",
    "        for index, obj in enumerate(std_list):\n",
    "            stats_dict = dict()\n",
    "            stats_dict[\"column\"] = col\n",
    "            stats_dict[\"experiment_mode\"] = obj[\"experiment_mode\"]\n",
    "            stats_dict[\"mean\"] = mean_list[index][\"mean\"]\n",
    "            stats_dict[\"median\"] = median_list[index][\"median\"]\n",
    "            stats_dict[\"std\"] = std_list[index][\"std\"]\n",
    "            stats_list.append(stats_dict)\n",
    "\n",
    "    df_stats = pd.DataFrame(stats_list)\n",
    "    print(df_stats)\n",
    "\n",
    "    plt.title(\"\")\n",
    "    plt.suptitle(\"\")\n",
    "    plt.subplots_adjust(wspace=None, hspace=0.5)\n",
    "    plt.savefig(filename, bbox_inches = \"tight\")\n",
    "    plt.show()"
   ]
  },
  {
   "cell_type": "markdown",
   "metadata": {},
   "source": [
    "## Background"
   ]
  },
  {
   "cell_type": "code",
   "execution_count": 4,
   "metadata": {},
   "outputs": [],
   "source": [
    "background_file = f\"Qualtrics/CLEAN/Background.xlsx\"\n",
    "df_background = pd.read_excel(background_file)\n",
    "    \n",
    "df_background.rename(columns={\n",
    "    \"LRG ID\": \"ID\",\n",
    "    \"ID - Final\": \"PID\",\n",
    "    \"What is your age? - 4 - Text\": \"Age\",\n",
    "    \"With which gender identity do you most identify? - Selected Choice\": \"Gender\",\n",
    "    \"What is the highest level of education you have either completed or are currently pursuing?\": \"Education\",\n",
    "    \"What is your major field of study (if you are a student) or field of occupation?\": \"Field\",\n",
    "    \"What is your level of experience looking at data in a visual form (e.g., scatterplot, bar chart, etc)? - I have no experience:I consider myself an expert\": \"VIS Literacy\"\n",
    "}, inplace=True)"
   ]
  },
  {
   "cell_type": "code",
   "execution_count": 5,
   "metadata": {},
   "outputs": [
    {
     "data": {
      "text/plain": [
       "Index(['Recorded Date', 'Duration (in seconds)', 'PID', 'ID', 'What is 9+4?',\n",
       "       'Gender', 'Age', 'Education', 'Field', 'VIS Literacy'],\n",
       "      dtype='object')"
      ]
     },
     "execution_count": 5,
     "metadata": {},
     "output_type": "execute_result"
    }
   ],
   "source": [
    "df_background.columns"
   ]
  },
  {
   "cell_type": "markdown",
   "metadata": {},
   "source": [
    "### Age"
   ]
  },
  {
   "cell_type": "code",
   "execution_count": 6,
   "metadata": {},
   "outputs": [
    {
     "name": "stdout",
     "output_type": "stream",
     "text": [
      "1 = Prefer Not To Say\n",
      "\n",
      "Others (below)\n",
      "Median:  39.0\n"
     ]
    },
    {
     "data": {
      "text/plain": [
       "count    49.000000\n",
       "mean     40.326531\n",
       "std      11.565732\n",
       "min      24.000000\n",
       "25%      31.000000\n",
       "50%      39.000000\n",
       "75%      49.000000\n",
       "max      69.000000\n",
       "Name: Age, dtype: float64"
      ]
     },
     "execution_count": 6,
     "metadata": {},
     "output_type": "execute_result"
    }
   ],
   "source": [
    "print(\"1 = Prefer Not To Say\\n\")\n",
    "print(\"Others (below)\")\n",
    "print(\"Median: \", df_background[~df_background.Age.str.isalpha().notnull()][\"Age\"].astype('int').median())\n",
    "df_background[~df_background.Age.str.isalpha().notnull()][\"Age\"].astype('int').describe()"
   ]
  },
  {
   "cell_type": "markdown",
   "metadata": {},
   "source": [
    "### Gender"
   ]
  },
  {
   "cell_type": "code",
   "execution_count": 7,
   "metadata": {},
   "outputs": [
    {
     "data": {
      "text/html": [
       "<div>\n",
       "<style scoped>\n",
       "    .dataframe tbody tr th:only-of-type {\n",
       "        vertical-align: middle;\n",
       "    }\n",
       "\n",
       "    .dataframe tbody tr th {\n",
       "        vertical-align: top;\n",
       "    }\n",
       "\n",
       "    .dataframe thead th {\n",
       "        text-align: right;\n",
       "    }\n",
       "</style>\n",
       "<table border=\"1\" class=\"dataframe\">\n",
       "  <thead>\n",
       "    <tr style=\"text-align: right;\">\n",
       "      <th></th>\n",
       "      <th>ID</th>\n",
       "    </tr>\n",
       "    <tr>\n",
       "      <th>Gender</th>\n",
       "      <th></th>\n",
       "    </tr>\n",
       "  </thead>\n",
       "  <tbody>\n",
       "    <tr>\n",
       "      <th>Female</th>\n",
       "      <td>28</td>\n",
       "    </tr>\n",
       "    <tr>\n",
       "      <th>Male</th>\n",
       "      <td>21</td>\n",
       "    </tr>\n",
       "    <tr>\n",
       "      <th>agender</th>\n",
       "      <td>1</td>\n",
       "    </tr>\n",
       "  </tbody>\n",
       "</table>\n",
       "</div>"
      ],
      "text/plain": [
       "         ID\n",
       "Gender     \n",
       "Female   28\n",
       "Male     21\n",
       "agender   1"
      ]
     },
     "execution_count": 7,
     "metadata": {},
     "output_type": "execute_result"
    }
   ],
   "source": [
    "df_background[[\"ID\", \"Gender\"]].groupby(\"Gender\").count()"
   ]
  },
  {
   "cell_type": "markdown",
   "metadata": {},
   "source": [
    "### VIS Literacy"
   ]
  },
  {
   "cell_type": "code",
   "execution_count": 8,
   "metadata": {},
   "outputs": [
    {
     "name": "stdout",
     "output_type": "stream",
     "text": [
      "Median:  3.0\n"
     ]
    },
    {
     "data": {
      "text/plain": [
       "count    50.000000\n",
       "mean      3.080000\n",
       "std       0.899887\n",
       "min       1.000000\n",
       "25%       3.000000\n",
       "50%       3.000000\n",
       "75%       4.000000\n",
       "max       5.000000\n",
       "Name: VIS Literacy, dtype: float64"
      ]
     },
     "execution_count": 8,
     "metadata": {},
     "output_type": "execute_result"
    }
   ],
   "source": [
    "print(\"Median: \", df_background[\"VIS Literacy\"].astype('int').median())\n",
    "df_background[\"VIS Literacy\"].astype('int').describe()"
   ]
  },
  {
   "cell_type": "markdown",
   "metadata": {},
   "source": [
    "### Education"
   ]
  },
  {
   "cell_type": "code",
   "execution_count": 9,
   "metadata": {},
   "outputs": [
    {
     "data": {
      "text/html": [
       "<div>\n",
       "<style scoped>\n",
       "    .dataframe tbody tr th:only-of-type {\n",
       "        vertical-align: middle;\n",
       "    }\n",
       "\n",
       "    .dataframe tbody tr th {\n",
       "        vertical-align: top;\n",
       "    }\n",
       "\n",
       "    .dataframe thead th {\n",
       "        text-align: right;\n",
       "    }\n",
       "</style>\n",
       "<table border=\"1\" class=\"dataframe\">\n",
       "  <thead>\n",
       "    <tr style=\"text-align: right;\">\n",
       "      <th></th>\n",
       "      <th>ID</th>\n",
       "    </tr>\n",
       "    <tr>\n",
       "      <th>Education</th>\n",
       "      <th></th>\n",
       "    </tr>\n",
       "  </thead>\n",
       "  <tbody>\n",
       "    <tr>\n",
       "      <th>Associate's Degree</th>\n",
       "      <td>7</td>\n",
       "    </tr>\n",
       "    <tr>\n",
       "      <th>Bachelor's Degree</th>\n",
       "      <td>20</td>\n",
       "    </tr>\n",
       "    <tr>\n",
       "      <th>High School</th>\n",
       "      <td>6</td>\n",
       "    </tr>\n",
       "    <tr>\n",
       "      <th>Master's Degree</th>\n",
       "      <td>3</td>\n",
       "    </tr>\n",
       "    <tr>\n",
       "      <th>Post-graduate Degree</th>\n",
       "      <td>2</td>\n",
       "    </tr>\n",
       "    <tr>\n",
       "      <th>Some College</th>\n",
       "      <td>12</td>\n",
       "    </tr>\n",
       "  </tbody>\n",
       "</table>\n",
       "</div>"
      ],
      "text/plain": [
       "                      ID\n",
       "Education               \n",
       "Associate's Degree     7\n",
       "Bachelor's Degree     20\n",
       "High School            6\n",
       "Master's Degree        3\n",
       "Post-graduate Degree   2\n",
       "Some College          12"
      ]
     },
     "execution_count": 9,
     "metadata": {},
     "output_type": "execute_result"
    }
   ],
   "source": [
    "df_background[[\"ID\", \"Education\"]].groupby(\"Education\").count()"
   ]
  },
  {
   "cell_type": "markdown",
   "metadata": {},
   "source": [
    "### Field"
   ]
  },
  {
   "cell_type": "code",
   "execution_count": 10,
   "metadata": {},
   "outputs": [
    {
     "data": {
      "text/html": [
       "<div>\n",
       "<style scoped>\n",
       "    .dataframe tbody tr th:only-of-type {\n",
       "        vertical-align: middle;\n",
       "    }\n",
       "\n",
       "    .dataframe tbody tr th {\n",
       "        vertical-align: top;\n",
       "    }\n",
       "\n",
       "    .dataframe thead th {\n",
       "        text-align: right;\n",
       "    }\n",
       "</style>\n",
       "<table border=\"1\" class=\"dataframe\">\n",
       "  <thead>\n",
       "    <tr style=\"text-align: right;\">\n",
       "      <th></th>\n",
       "      <th>ID</th>\n",
       "    </tr>\n",
       "    <tr>\n",
       "      <th>Field</th>\n",
       "      <th></th>\n",
       "    </tr>\n",
       "  </thead>\n",
       "  <tbody>\n",
       "    <tr>\n",
       "      <th>Analyst</th>\n",
       "      <td>1</td>\n",
       "    </tr>\n",
       "    <tr>\n",
       "      <th>Art</th>\n",
       "      <td>1</td>\n",
       "    </tr>\n",
       "    <tr>\n",
       "      <th>Biology</th>\n",
       "      <td>2</td>\n",
       "    </tr>\n",
       "    <tr>\n",
       "      <th>Bookkeeper</th>\n",
       "      <td>1</td>\n",
       "    </tr>\n",
       "    <tr>\n",
       "      <th>Business</th>\n",
       "      <td>3</td>\n",
       "    </tr>\n",
       "    <tr>\n",
       "      <th>Business Admin</th>\n",
       "      <td>1</td>\n",
       "    </tr>\n",
       "    <tr>\n",
       "      <th>Business owner and manager</th>\n",
       "      <td>1</td>\n",
       "    </tr>\n",
       "    <tr>\n",
       "      <th>Computer Science</th>\n",
       "      <td>3</td>\n",
       "    </tr>\n",
       "    <tr>\n",
       "      <th>Computer engineering</th>\n",
       "      <td>1</td>\n",
       "    </tr>\n",
       "    <tr>\n",
       "      <th>Criminal Justice</th>\n",
       "      <td>1</td>\n",
       "    </tr>\n",
       "    <tr>\n",
       "      <th>Education</th>\n",
       "      <td>1</td>\n",
       "    </tr>\n",
       "    <tr>\n",
       "      <th>Information technology</th>\n",
       "      <td>2</td>\n",
       "    </tr>\n",
       "    <tr>\n",
       "      <th>Internet Technology</th>\n",
       "      <td>1</td>\n",
       "    </tr>\n",
       "    <tr>\n",
       "      <th>Machine operator</th>\n",
       "      <td>1</td>\n",
       "    </tr>\n",
       "    <tr>\n",
       "      <th>Marketing/Advertising</th>\n",
       "      <td>1</td>\n",
       "    </tr>\n",
       "    <tr>\n",
       "      <th>Microbiology</th>\n",
       "      <td>1</td>\n",
       "    </tr>\n",
       "    <tr>\n",
       "      <th>Office Worker</th>\n",
       "      <td>1</td>\n",
       "    </tr>\n",
       "    <tr>\n",
       "      <th>Online English Teacher</th>\n",
       "      <td>1</td>\n",
       "    </tr>\n",
       "    <tr>\n",
       "      <th>Operations Manager</th>\n",
       "      <td>1</td>\n",
       "    </tr>\n",
       "    <tr>\n",
       "      <th>Political Science</th>\n",
       "      <td>1</td>\n",
       "    </tr>\n",
       "    <tr>\n",
       "      <th>Project Manager (Arts and Entertainment)</th>\n",
       "      <td>1</td>\n",
       "    </tr>\n",
       "    <tr>\n",
       "      <th>Sales</th>\n",
       "      <td>1</td>\n",
       "    </tr>\n",
       "    <tr>\n",
       "      <th>Social Work</th>\n",
       "      <td>1</td>\n",
       "    </tr>\n",
       "    <tr>\n",
       "      <th>Software engineer</th>\n",
       "      <td>1</td>\n",
       "    </tr>\n",
       "    <tr>\n",
       "      <th>Technology</th>\n",
       "      <td>1</td>\n",
       "    </tr>\n",
       "    <tr>\n",
       "      <th>accounting</th>\n",
       "      <td>1</td>\n",
       "    </tr>\n",
       "    <tr>\n",
       "      <th>art</th>\n",
       "      <td>1</td>\n",
       "    </tr>\n",
       "    <tr>\n",
       "      <th>attorney</th>\n",
       "      <td>1</td>\n",
       "    </tr>\n",
       "    <tr>\n",
       "      <th>audio engineering</th>\n",
       "      <td>1</td>\n",
       "    </tr>\n",
       "    <tr>\n",
       "      <th>computer programming</th>\n",
       "      <td>1</td>\n",
       "    </tr>\n",
       "    <tr>\n",
       "      <th>education</th>\n",
       "      <td>1</td>\n",
       "    </tr>\n",
       "    <tr>\n",
       "      <th>electrical engineering</th>\n",
       "      <td>1</td>\n",
       "    </tr>\n",
       "    <tr>\n",
       "      <th>law</th>\n",
       "      <td>1</td>\n",
       "    </tr>\n",
       "    <tr>\n",
       "      <th>manufacturing</th>\n",
       "      <td>1</td>\n",
       "    </tr>\n",
       "    <tr>\n",
       "      <th>marketing</th>\n",
       "      <td>1</td>\n",
       "    </tr>\n",
       "    <tr>\n",
       "      <th>none</th>\n",
       "      <td>1</td>\n",
       "    </tr>\n",
       "    <tr>\n",
       "      <th>office administration</th>\n",
       "      <td>1</td>\n",
       "    </tr>\n",
       "    <tr>\n",
       "      <th>quality analyst</th>\n",
       "      <td>1</td>\n",
       "    </tr>\n",
       "    <tr>\n",
       "      <th>sales</th>\n",
       "      <td>1</td>\n",
       "    </tr>\n",
       "    <tr>\n",
       "      <th>self employed</th>\n",
       "      <td>1</td>\n",
       "    </tr>\n",
       "    <tr>\n",
       "      <th>writing</th>\n",
       "      <td>1</td>\n",
       "    </tr>\n",
       "  </tbody>\n",
       "</table>\n",
       "</div>"
      ],
      "text/plain": [
       "                                          ID\n",
       "Field                                       \n",
       "Analyst                                    1\n",
       "Art                                        1\n",
       "Biology                                    2\n",
       "Bookkeeper                                 1\n",
       "Business                                   3\n",
       "Business Admin                             1\n",
       "Business owner and manager                 1\n",
       "Computer Science                           3\n",
       "Computer engineering                       1\n",
       "Criminal Justice                           1\n",
       "Education                                  1\n",
       "Information technology                     2\n",
       "Internet Technology                        1\n",
       "Machine operator                           1\n",
       "Marketing/Advertising                      1\n",
       "Microbiology                               1\n",
       "Office Worker                              1\n",
       "Online English Teacher                     1\n",
       "Operations Manager                         1\n",
       "Political Science                          1\n",
       "Project Manager (Arts and Entertainment)   1\n",
       "Sales                                      1\n",
       "Social Work                                1\n",
       "Software engineer                          1\n",
       "Technology                                 1\n",
       "accounting                                 1\n",
       "art                                        1\n",
       "attorney                                   1\n",
       "audio engineering                          1\n",
       "computer programming                       1\n",
       "education                                  1\n",
       "electrical engineering                     1\n",
       "law                                        1\n",
       "manufacturing                              1\n",
       "marketing                                  1\n",
       "none                                       1\n",
       "office administration                      1\n",
       "quality analyst                            1\n",
       "sales                                      1\n",
       "self employed                              1\n",
       "writing                                    1"
      ]
     },
     "execution_count": 10,
     "metadata": {},
     "output_type": "execute_result"
    }
   ],
   "source": [
    "df_background[[\"ID\", \"Field\"]].groupby(\"Field\").count()"
   ]
  },
  {
   "cell_type": "markdown",
   "metadata": {},
   "source": [
    "## Pre-Survey - Politics"
   ]
  },
  {
   "cell_type": "code",
   "execution_count": 11,
   "metadata": {},
   "outputs": [],
   "source": [
    "background_file = f\"Qualtrics/CLEAN/Pre-Survey-Politics.xlsx\"\n",
    "df_pre_survey = pd.read_excel(background_file)\n",
    "    \n",
    "df_pre_survey.rename(columns={\n",
    "    \"LRG ID\": \"ID\",\n",
    "    \"ID - Final\": \"PID\",\n",
    "    \"What types of political elections have you voted in? (Select all that apply or None of the above)\": \"Political Elections\",\n",
    "    \"Candidates from which political party are you most likely to vote for in the next US political election?\": \"Political Affiliation\",\n",
    "    \"Where on the left-right political spectrum do your political views most closely fall?\": \"Political Spectrum\",\n",
    "}, inplace=True)"
   ]
  },
  {
   "cell_type": "code",
   "execution_count": 12,
   "metadata": {},
   "outputs": [
    {
     "data": {
      "text/plain": [
       "Index(['Recorded Date', 'Duration (in seconds)', 'PID', 'ID',\n",
       "       'Political Elections', 'Which of the following is NOT a fruit?',\n",
       "       'Political Affiliation', 'Political Spectrum'],\n",
       "      dtype='object')"
      ]
     },
     "execution_count": 12,
     "metadata": {},
     "output_type": "execute_result"
    }
   ],
   "source": [
    "df_pre_survey.columns"
   ]
  },
  {
   "cell_type": "markdown",
   "metadata": {},
   "source": [
    "### Types of Political Elections Voted in"
   ]
  },
  {
   "cell_type": "code",
   "execution_count": 13,
   "metadata": {},
   "outputs": [
    {
     "data": {
      "text/html": [
       "<div>\n",
       "<style scoped>\n",
       "    .dataframe tbody tr th:only-of-type {\n",
       "        vertical-align: middle;\n",
       "    }\n",
       "\n",
       "    .dataframe tbody tr th {\n",
       "        vertical-align: top;\n",
       "    }\n",
       "\n",
       "    .dataframe thead th {\n",
       "        text-align: right;\n",
       "    }\n",
       "</style>\n",
       "<table border=\"1\" class=\"dataframe\">\n",
       "  <thead>\n",
       "    <tr style=\"text-align: right;\">\n",
       "      <th></th>\n",
       "      <th>ID</th>\n",
       "    </tr>\n",
       "    <tr>\n",
       "      <th>Political Elections</th>\n",
       "      <th></th>\n",
       "    </tr>\n",
       "  </thead>\n",
       "  <tbody>\n",
       "    <tr>\n",
       "      <th>US Presidential election</th>\n",
       "      <td>7</td>\n",
       "    </tr>\n",
       "    <tr>\n",
       "      <th>US Presidential election,US State election</th>\n",
       "      <td>7</td>\n",
       "    </tr>\n",
       "    <tr>\n",
       "      <th>US Presidential election,US State election,US Local election</th>\n",
       "      <td>35</td>\n",
       "    </tr>\n",
       "    <tr>\n",
       "      <th>US State election</th>\n",
       "      <td>1</td>\n",
       "    </tr>\n",
       "  </tbody>\n",
       "</table>\n",
       "</div>"
      ],
      "text/plain": [
       "                                                    ID\n",
       "Political Elections                                   \n",
       "US Presidential election                             7\n",
       "US Presidential election,US State election           7\n",
       "US Presidential election,US State election,US L...  35\n",
       "US State election                                    1"
      ]
     },
     "execution_count": 13,
     "metadata": {},
     "output_type": "execute_result"
    }
   ],
   "source": [
    "df_pre_survey[[\"ID\", \"Political Elections\"]].groupby(\"Political Elections\").count()"
   ]
  },
  {
   "cell_type": "markdown",
   "metadata": {},
   "source": [
    "### Political Affiliation"
   ]
  },
  {
   "cell_type": "code",
   "execution_count": 14,
   "metadata": {},
   "outputs": [
    {
     "data": {
      "text/html": [
       "<div>\n",
       "<style scoped>\n",
       "    .dataframe tbody tr th:only-of-type {\n",
       "        vertical-align: middle;\n",
       "    }\n",
       "\n",
       "    .dataframe tbody tr th {\n",
       "        vertical-align: top;\n",
       "    }\n",
       "\n",
       "    .dataframe thead th {\n",
       "        text-align: right;\n",
       "    }\n",
       "</style>\n",
       "<table border=\"1\" class=\"dataframe\">\n",
       "  <thead>\n",
       "    <tr style=\"text-align: right;\">\n",
       "      <th></th>\n",
       "      <th>ID</th>\n",
       "    </tr>\n",
       "    <tr>\n",
       "      <th>Political Affiliation</th>\n",
       "      <th></th>\n",
       "    </tr>\n",
       "  </thead>\n",
       "  <tbody>\n",
       "    <tr>\n",
       "      <th>Democratic</th>\n",
       "      <td>35</td>\n",
       "    </tr>\n",
       "    <tr>\n",
       "      <th>Republican</th>\n",
       "      <td>15</td>\n",
       "    </tr>\n",
       "  </tbody>\n",
       "</table>\n",
       "</div>"
      ],
      "text/plain": [
       "                       ID\n",
       "Political Affiliation    \n",
       "Democratic             35\n",
       "Republican             15"
      ]
     },
     "execution_count": 14,
     "metadata": {},
     "output_type": "execute_result"
    }
   ],
   "source": [
    "df_pre_survey[[\"ID\", \"Political Affiliation\"]].groupby(\"Political Affiliation\").count()"
   ]
  },
  {
   "cell_type": "markdown",
   "metadata": {},
   "source": [
    "### Political Spectrum"
   ]
  },
  {
   "cell_type": "code",
   "execution_count": 15,
   "metadata": {},
   "outputs": [
    {
     "data": {
      "text/html": [
       "<div>\n",
       "<style scoped>\n",
       "    .dataframe tbody tr th:only-of-type {\n",
       "        vertical-align: middle;\n",
       "    }\n",
       "\n",
       "    .dataframe tbody tr th {\n",
       "        vertical-align: top;\n",
       "    }\n",
       "\n",
       "    .dataframe thead th {\n",
       "        text-align: right;\n",
       "    }\n",
       "</style>\n",
       "<table border=\"1\" class=\"dataframe\">\n",
       "  <thead>\n",
       "    <tr style=\"text-align: right;\">\n",
       "      <th></th>\n",
       "      <th>ID</th>\n",
       "    </tr>\n",
       "    <tr>\n",
       "      <th>Political Spectrum</th>\n",
       "      <th></th>\n",
       "    </tr>\n",
       "  </thead>\n",
       "  <tbody>\n",
       "    <tr>\n",
       "      <th>Conservative</th>\n",
       "      <td>2</td>\n",
       "    </tr>\n",
       "    <tr>\n",
       "      <th>Liberal</th>\n",
       "      <td>17</td>\n",
       "    </tr>\n",
       "    <tr>\n",
       "      <th>Moderate</th>\n",
       "      <td>8</td>\n",
       "    </tr>\n",
       "    <tr>\n",
       "      <th>Moderate Conservative</th>\n",
       "      <td>9</td>\n",
       "    </tr>\n",
       "    <tr>\n",
       "      <th>Moderate Liberal</th>\n",
       "      <td>14</td>\n",
       "    </tr>\n",
       "  </tbody>\n",
       "</table>\n",
       "</div>"
      ],
      "text/plain": [
       "                       ID\n",
       "Political Spectrum       \n",
       "Conservative            2\n",
       "Liberal                17\n",
       "Moderate                8\n",
       "Moderate Conservative   9\n",
       "Moderate Liberal       14"
      ]
     },
     "execution_count": 15,
     "metadata": {},
     "output_type": "execute_result"
    }
   ],
   "source": [
    "df_pre_survey[[\"ID\", \"Political Spectrum\"]].groupby(\"Political Spectrum\").count()"
   ]
  },
  {
   "cell_type": "markdown",
   "metadata": {},
   "source": [
    "## Pre-Survey Movies"
   ]
  },
  {
   "cell_type": "code",
   "execution_count": 16,
   "metadata": {},
   "outputs": [],
   "source": [
    "background_file = f\"Qualtrics/CLEAN/Pre-Survey-Movies.xlsx\"\n",
    "df_pre_survey = pd.read_excel(background_file)\n",
    "    \n",
    "df_pre_survey.rename(columns={\n",
    "    \"LRG ID\": \"ID\",\n",
    "    \"ID - Final\": \"PID\",\n",
    "    \"How much importance do you place on movies personally?\": \"Importance on Movies\",\n",
    "    \"How often do you watch movies? (Choose the period that most closely matches your experience)\": \"Frequency of Watching Movies\",\n",
    "    \"What genre(s) of movies do you watch? (Select all that apply)\": \"Genres Watched\",\n",
    "    \"What rating service(s) do you use when determining movie quality? (Select all that apply) - Selected Choice\": \"Preferred Rating Service\",\n",
    "}, inplace=True)"
   ]
  },
  {
   "cell_type": "code",
   "execution_count": 17,
   "metadata": {},
   "outputs": [
    {
     "data": {
      "text/plain": [
       "Index(['Recorded Date', 'Duration (in seconds)', 'PID', 'ID',\n",
       "       'Importance on Movies', 'Frequency of Watching Movies',\n",
       "       'Which domain did you complete the practice task about?',\n",
       "       'Genres Watched', 'Preferred Rating Service'],\n",
       "      dtype='object')"
      ]
     },
     "execution_count": 17,
     "metadata": {},
     "output_type": "execute_result"
    }
   ],
   "source": [
    "df_pre_survey.columns"
   ]
  },
  {
   "cell_type": "markdown",
   "metadata": {},
   "source": [
    "### Importance on Movies"
   ]
  },
  {
   "cell_type": "code",
   "execution_count": 18,
   "metadata": {},
   "outputs": [
    {
     "data": {
      "text/html": [
       "<div>\n",
       "<style scoped>\n",
       "    .dataframe tbody tr th:only-of-type {\n",
       "        vertical-align: middle;\n",
       "    }\n",
       "\n",
       "    .dataframe tbody tr th {\n",
       "        vertical-align: top;\n",
       "    }\n",
       "\n",
       "    .dataframe thead th {\n",
       "        text-align: right;\n",
       "    }\n",
       "</style>\n",
       "<table border=\"1\" class=\"dataframe\">\n",
       "  <thead>\n",
       "    <tr style=\"text-align: right;\">\n",
       "      <th></th>\n",
       "      <th>ID</th>\n",
       "    </tr>\n",
       "    <tr>\n",
       "      <th>Importance on Movies</th>\n",
       "      <th></th>\n",
       "    </tr>\n",
       "  </thead>\n",
       "  <tbody>\n",
       "    <tr>\n",
       "      <th>Large importance</th>\n",
       "      <td>12</td>\n",
       "    </tr>\n",
       "    <tr>\n",
       "      <th>Little importance</th>\n",
       "      <td>15</td>\n",
       "    </tr>\n",
       "    <tr>\n",
       "      <th>Moderate importance</th>\n",
       "      <td>20</td>\n",
       "    </tr>\n",
       "    <tr>\n",
       "      <th>No importance whatsoever</th>\n",
       "      <td>2</td>\n",
       "    </tr>\n",
       "    <tr>\n",
       "      <th>They are one of the most important parts of my life</th>\n",
       "      <td>1</td>\n",
       "    </tr>\n",
       "  </tbody>\n",
       "</table>\n",
       "</div>"
      ],
      "text/plain": [
       "                                                    ID\n",
       "Importance on Movies                                  \n",
       "Large importance                                    12\n",
       "Little importance                                   15\n",
       "Moderate importance                                 20\n",
       "No importance whatsoever                             2\n",
       "They are one of the most important parts of my ...   1"
      ]
     },
     "execution_count": 18,
     "metadata": {},
     "output_type": "execute_result"
    }
   ],
   "source": [
    "df_pre_survey[[\"ID\", \"Importance on Movies\"]].groupby(\"Importance on Movies\").count()"
   ]
  },
  {
   "cell_type": "markdown",
   "metadata": {},
   "source": [
    "### Frequency of Watching Movies"
   ]
  },
  {
   "cell_type": "code",
   "execution_count": 19,
   "metadata": {},
   "outputs": [
    {
     "data": {
      "text/html": [
       "<div>\n",
       "<style scoped>\n",
       "    .dataframe tbody tr th:only-of-type {\n",
       "        vertical-align: middle;\n",
       "    }\n",
       "\n",
       "    .dataframe tbody tr th {\n",
       "        vertical-align: top;\n",
       "    }\n",
       "\n",
       "    .dataframe thead th {\n",
       "        text-align: right;\n",
       "    }\n",
       "</style>\n",
       "<table border=\"1\" class=\"dataframe\">\n",
       "  <thead>\n",
       "    <tr style=\"text-align: right;\">\n",
       "      <th></th>\n",
       "      <th>ID</th>\n",
       "    </tr>\n",
       "    <tr>\n",
       "      <th>Frequency of Watching Movies</th>\n",
       "      <th></th>\n",
       "    </tr>\n",
       "  </thead>\n",
       "  <tbody>\n",
       "    <tr>\n",
       "      <th>Daily</th>\n",
       "      <td>4</td>\n",
       "    </tr>\n",
       "    <tr>\n",
       "      <th>Monthly</th>\n",
       "      <td>16</td>\n",
       "    </tr>\n",
       "    <tr>\n",
       "      <th>Weekly</th>\n",
       "      <td>30</td>\n",
       "    </tr>\n",
       "  </tbody>\n",
       "</table>\n",
       "</div>"
      ],
      "text/plain": [
       "                              ID\n",
       "Frequency of Watching Movies    \n",
       "Daily                          4\n",
       "Monthly                       16\n",
       "Weekly                        30"
      ]
     },
     "execution_count": 19,
     "metadata": {},
     "output_type": "execute_result"
    }
   ],
   "source": [
    "df_pre_survey[[\"ID\", \"Frequency of Watching Movies\"]].groupby(\"Frequency of Watching Movies\").count()"
   ]
  },
  {
   "cell_type": "markdown",
   "metadata": {},
   "source": [
    "### Preferred Rating Service"
   ]
  },
  {
   "cell_type": "code",
   "execution_count": 20,
   "metadata": {},
   "outputs": [
    {
     "data": {
      "text/html": [
       "<div>\n",
       "<style scoped>\n",
       "    .dataframe tbody tr th:only-of-type {\n",
       "        vertical-align: middle;\n",
       "    }\n",
       "\n",
       "    .dataframe tbody tr th {\n",
       "        vertical-align: top;\n",
       "    }\n",
       "\n",
       "    .dataframe thead th {\n",
       "        text-align: right;\n",
       "    }\n",
       "</style>\n",
       "<table border=\"1\" class=\"dataframe\">\n",
       "  <thead>\n",
       "    <tr style=\"text-align: right;\">\n",
       "      <th></th>\n",
       "      <th>ID</th>\n",
       "    </tr>\n",
       "    <tr>\n",
       "      <th>Preferred Rating Service</th>\n",
       "      <th></th>\n",
       "    </tr>\n",
       "  </thead>\n",
       "  <tbody>\n",
       "    <tr>\n",
       "      <th>I don't use rating services</th>\n",
       "      <td>8</td>\n",
       "    </tr>\n",
       "    <tr>\n",
       "      <th>Internet Movie Database (IMDB)</th>\n",
       "      <td>16</td>\n",
       "    </tr>\n",
       "    <tr>\n",
       "      <th>Internet Movie Database (IMDB),I don't use rating services</th>\n",
       "      <td>1</td>\n",
       "    </tr>\n",
       "    <tr>\n",
       "      <th>Rotten Tomatoes</th>\n",
       "      <td>10</td>\n",
       "    </tr>\n",
       "    <tr>\n",
       "      <th>Rotten Tomatoes,Internet Movie Database (IMDB)</th>\n",
       "      <td>13</td>\n",
       "    </tr>\n",
       "    <tr>\n",
       "      <th>Rotten Tomatoes,Internet Movie Database (IMDB),Fandango</th>\n",
       "      <td>1</td>\n",
       "    </tr>\n",
       "    <tr>\n",
       "      <th>Rotten Tomatoes,Internet Movie Database (IMDB),Google Reviews</th>\n",
       "      <td>1</td>\n",
       "    </tr>\n",
       "  </tbody>\n",
       "</table>\n",
       "</div>"
      ],
      "text/plain": [
       "                                                    ID\n",
       "Preferred Rating Service                              \n",
       "I don't use rating services                          8\n",
       "Internet Movie Database (IMDB)                      16\n",
       "Internet Movie Database (IMDB),I don't use rati...   1\n",
       "Rotten Tomatoes                                     10\n",
       "Rotten Tomatoes,Internet Movie Database (IMDB)      13\n",
       "Rotten Tomatoes,Internet Movie Database (IMDB),...   1\n",
       "Rotten Tomatoes,Internet Movie Database (IMDB),...   1"
      ]
     },
     "execution_count": 20,
     "metadata": {},
     "output_type": "execute_result"
    }
   ],
   "source": [
    "df_pre_survey[[\"ID\", \"Preferred Rating Service\"]].groupby(\"Preferred Rating Service\").count()"
   ]
  },
  {
   "cell_type": "markdown",
   "metadata": {},
   "source": [
    "### Genres Watched"
   ]
  },
  {
   "cell_type": "code",
   "execution_count": 21,
   "metadata": {},
   "outputs": [
    {
     "data": {
      "text/html": [
       "<div>\n",
       "<style scoped>\n",
       "    .dataframe tbody tr th:only-of-type {\n",
       "        vertical-align: middle;\n",
       "    }\n",
       "\n",
       "    .dataframe tbody tr th {\n",
       "        vertical-align: top;\n",
       "    }\n",
       "\n",
       "    .dataframe thead th {\n",
       "        text-align: right;\n",
       "    }\n",
       "</style>\n",
       "<table border=\"1\" class=\"dataframe\">\n",
       "  <thead>\n",
       "    <tr style=\"text-align: right;\">\n",
       "      <th></th>\n",
       "      <th>ID</th>\n",
       "    </tr>\n",
       "    <tr>\n",
       "      <th>Genres Watched</th>\n",
       "      <th></th>\n",
       "    </tr>\n",
       "  </thead>\n",
       "  <tbody>\n",
       "    <tr>\n",
       "      <th>Action</th>\n",
       "      <td>1</td>\n",
       "    </tr>\n",
       "    <tr>\n",
       "      <th>Action,Comedy,Documentary</th>\n",
       "      <td>3</td>\n",
       "    </tr>\n",
       "    <tr>\n",
       "      <th>Action,Comedy,Documentary,Drama</th>\n",
       "      <td>1</td>\n",
       "    </tr>\n",
       "    <tr>\n",
       "      <th>Action,Comedy,Documentary,Drama,Musical,Thriller</th>\n",
       "      <td>8</td>\n",
       "    </tr>\n",
       "    <tr>\n",
       "      <th>Action,Comedy,Documentary,Drama,Thriller</th>\n",
       "      <td>10</td>\n",
       "    </tr>\n",
       "    <tr>\n",
       "      <th>Action,Comedy,Documentary,Thriller</th>\n",
       "      <td>1</td>\n",
       "    </tr>\n",
       "    <tr>\n",
       "      <th>Action,Comedy,Drama,Thriller</th>\n",
       "      <td>2</td>\n",
       "    </tr>\n",
       "    <tr>\n",
       "      <th>Action,Comedy,Thriller</th>\n",
       "      <td>2</td>\n",
       "    </tr>\n",
       "    <tr>\n",
       "      <th>Action,Documentary,Drama,Musical</th>\n",
       "      <td>1</td>\n",
       "    </tr>\n",
       "    <tr>\n",
       "      <th>Action,Documentary,Drama,Musical,Thriller</th>\n",
       "      <td>1</td>\n",
       "    </tr>\n",
       "    <tr>\n",
       "      <th>Action,Documentary,Drama,Thriller</th>\n",
       "      <td>2</td>\n",
       "    </tr>\n",
       "    <tr>\n",
       "      <th>Action,Drama</th>\n",
       "      <td>1</td>\n",
       "    </tr>\n",
       "    <tr>\n",
       "      <th>Action,Drama,Musical,Thriller</th>\n",
       "      <td>1</td>\n",
       "    </tr>\n",
       "    <tr>\n",
       "      <th>Comedy,Documentary,Drama</th>\n",
       "      <td>4</td>\n",
       "    </tr>\n",
       "    <tr>\n",
       "      <th>Comedy,Documentary,Drama,Musical</th>\n",
       "      <td>1</td>\n",
       "    </tr>\n",
       "    <tr>\n",
       "      <th>Comedy,Documentary,Thriller</th>\n",
       "      <td>2</td>\n",
       "    </tr>\n",
       "    <tr>\n",
       "      <th>Comedy,Thriller</th>\n",
       "      <td>1</td>\n",
       "    </tr>\n",
       "    <tr>\n",
       "      <th>Documentary</th>\n",
       "      <td>1</td>\n",
       "    </tr>\n",
       "    <tr>\n",
       "      <th>Documentary,Drama</th>\n",
       "      <td>1</td>\n",
       "    </tr>\n",
       "    <tr>\n",
       "      <th>Documentary,Drama,Thriller</th>\n",
       "      <td>1</td>\n",
       "    </tr>\n",
       "    <tr>\n",
       "      <th>Documentary,Thriller</th>\n",
       "      <td>1</td>\n",
       "    </tr>\n",
       "    <tr>\n",
       "      <th>Drama,Musical,Thriller</th>\n",
       "      <td>1</td>\n",
       "    </tr>\n",
       "    <tr>\n",
       "      <th>Drama,Thriller</th>\n",
       "      <td>1</td>\n",
       "    </tr>\n",
       "    <tr>\n",
       "      <th>Thriller</th>\n",
       "      <td>2</td>\n",
       "    </tr>\n",
       "  </tbody>\n",
       "</table>\n",
       "</div>"
      ],
      "text/plain": [
       "                                                  ID\n",
       "Genres Watched                                      \n",
       "Action                                             1\n",
       "Action,Comedy,Documentary                          3\n",
       "Action,Comedy,Documentary,Drama                    1\n",
       "Action,Comedy,Documentary,Drama,Musical,Thriller   8\n",
       "Action,Comedy,Documentary,Drama,Thriller          10\n",
       "Action,Comedy,Documentary,Thriller                 1\n",
       "Action,Comedy,Drama,Thriller                       2\n",
       "Action,Comedy,Thriller                             2\n",
       "Action,Documentary,Drama,Musical                   1\n",
       "Action,Documentary,Drama,Musical,Thriller          1\n",
       "Action,Documentary,Drama,Thriller                  2\n",
       "Action,Drama                                       1\n",
       "Action,Drama,Musical,Thriller                      1\n",
       "Comedy,Documentary,Drama                           4\n",
       "Comedy,Documentary,Drama,Musical                   1\n",
       "Comedy,Documentary,Thriller                        2\n",
       "Comedy,Thriller                                    1\n",
       "Documentary                                        1\n",
       "Documentary,Drama                                  1\n",
       "Documentary,Drama,Thriller                         1\n",
       "Documentary,Thriller                               1\n",
       "Drama,Musical,Thriller                             1\n",
       "Drama,Thriller                                     1\n",
       "Thriller                                           2"
      ]
     },
     "execution_count": 21,
     "metadata": {},
     "output_type": "execute_result"
    }
   ],
   "source": [
    "df_pre_survey[[\"ID\", \"Genres Watched\"]].groupby(\"Genres Watched\").count()"
   ]
  },
  {
   "cell_type": "markdown",
   "metadata": {},
   "source": [
    "# Post-Survey-Politics"
   ]
  },
  {
   "cell_type": "code",
   "execution_count": 22,
   "metadata": {},
   "outputs": [],
   "source": [
    "df_post_study_survey = pd.DataFrame()\n",
    "for experiment_mode in experiment_modes:\n",
    "    survey_file = f\"Qualtrics/CLEAN/Post-Survey-Politics-{experiment_mode}.xlsx\"\n",
    "    _df = pd.read_excel(survey_file)\n",
    "    _df[\"experiment_mode\"] = experiment_mode\n",
    "    df_post_study_survey = df_post_study_survey.append(_df)\n",
    "    \n",
    "df_post_study_survey.rename(columns={\n",
    "    \"LRG ID\": \"ID\",\n",
    "    \"ID - Final\": \"PID\",\n",
    "    \"How useful did you find the SCATTERPLOT VIEW in the interface to be? - Not at all useful:Very useful\": \"SCATTERPLOT VIEW\",\n",
    "    \"How useful did you find the DETAIL VIEW in the interface to be?​​​​​​​ - Not at all useful:Very useful\": \"DETAIL VIEW\",\n",
    "    \"How useful did you find the FILTER VIEW in the interface to be? - Not at all useful:Very useful\": \"FILTER VIEW\",\n",
    "    \"How useful did you find the SELECTED COMMITTEE LIST in the interface to be? - Not at all useful:Very useful\": \"SELECTED COMMITTEE LIST\",\n",
    "    \"How useful did you find the SUMMATIVE VISUALIZATION in the interface to be after your revised committee submission? - Not at all useful:Very useful\": \"SUMMATIVE VISUALIZATION-After Revision\",\n",
    "    \"How useful did you find the COLORING OF DATA POINTS in the SCATTERPLOT VIEW to be? - Not at all useful:Very useful\": \"IN-SITU INTERACTION TRACES\",\n",
    "    \"How useful did you find the DISTRIBUTION PANEL in the interface to be? - Not at all useful:Very Useful\": \"EX-SITU INTERACTION TRACES\",\n",
    "    \"How useful did you find the SUMMATIVE VISUALIZATION in the interface to be after your initial committee submission? - Not at all useful:Very useful\": \"SUMMATIVE VISUALIZATION-After Initial Selection\"    \n",
    "}, inplace=True)"
   ]
  },
  {
   "cell_type": "code",
   "execution_count": 23,
   "metadata": {
    "scrolled": false
   },
   "outputs": [
    {
     "name": "stderr",
     "output_type": "stream",
     "text": [
      "/Users/curiosity/anaconda3/lib/python3.8/site-packages/numpy/core/_asarray.py:83: VisibleDeprecationWarning: Creating an ndarray from ragged nested sequences (which is a list-or-tuple of lists-or-tuples-or ndarrays with different lengths or shapes) is deprecated. If you meant to do this, you must specify 'dtype=object' when creating the ndarray\n",
      "  return array(a, dtype, copy=False, order=order)\n",
      "/Users/curiosity/anaconda3/lib/python3.8/site-packages/numpy/core/_asarray.py:83: VisibleDeprecationWarning: Creating an ndarray from ragged nested sequences (which is a list-or-tuple of lists-or-tuples-or ndarrays with different lengths or shapes) is deprecated. If you meant to do this, you must specify 'dtype=object' when creating the ndarray\n",
      "  return array(a, dtype, copy=False, order=order)\n",
      "/Users/curiosity/anaconda3/lib/python3.8/site-packages/numpy/core/_asarray.py:83: VisibleDeprecationWarning: Creating an ndarray from ragged nested sequences (which is a list-or-tuple of lists-or-tuples-or ndarrays with different lengths or shapes) is deprecated. If you meant to do this, you must specify 'dtype=object' when creating the ndarray\n",
      "  return array(a, dtype, copy=False, order=order)\n",
      "/Users/curiosity/anaconda3/lib/python3.8/site-packages/numpy/core/_asarray.py:83: VisibleDeprecationWarning: Creating an ndarray from ragged nested sequences (which is a list-or-tuple of lists-or-tuples-or ndarrays with different lengths or shapes) is deprecated. If you meant to do this, you must specify 'dtype=object' when creating the ndarray\n",
      "  return array(a, dtype, copy=False, order=order)\n",
      "/Users/curiosity/anaconda3/lib/python3.8/site-packages/numpy/core/_asarray.py:83: VisibleDeprecationWarning: Creating an ndarray from ragged nested sequences (which is a list-or-tuple of lists-or-tuples-or ndarrays with different lengths or shapes) is deprecated. If you meant to do this, you must specify 'dtype=object' when creating the ndarray\n",
      "  return array(a, dtype, copy=False, order=order)\n",
      "/Users/curiosity/anaconda3/lib/python3.8/site-packages/numpy/core/_asarray.py:83: VisibleDeprecationWarning: Creating an ndarray from ragged nested sequences (which is a list-or-tuple of lists-or-tuples-or ndarrays with different lengths or shapes) is deprecated. If you meant to do this, you must specify 'dtype=object' when creating the ndarray\n",
      "  return array(a, dtype, copy=False, order=order)\n",
      "/Users/curiosity/anaconda3/lib/python3.8/site-packages/numpy/core/_asarray.py:83: VisibleDeprecationWarning: Creating an ndarray from ragged nested sequences (which is a list-or-tuple of lists-or-tuples-or ndarrays with different lengths or shapes) is deprecated. If you meant to do this, you must specify 'dtype=object' when creating the ndarray\n",
      "  return array(a, dtype, copy=False, order=order)\n",
      "/Users/curiosity/anaconda3/lib/python3.8/site-packages/numpy/core/_asarray.py:83: VisibleDeprecationWarning: Creating an ndarray from ragged nested sequences (which is a list-or-tuple of lists-or-tuples-or ndarrays with different lengths or shapes) is deprecated. If you meant to do this, you must specify 'dtype=object' when creating the ndarray\n",
      "  return array(a, dtype, copy=False, order=order)\n"
     ]
    },
    {
     "name": "stdout",
     "output_type": "stream",
     "text": [
      "                                             column experiment_mode  mean  \\\n",
      "0                                  SCATTERPLOT VIEW            CTRL  4.08   \n",
      "1                                  SCATTERPLOT VIEW              RT  4.27   \n",
      "2                                  SCATTERPLOT VIEW           RTSUM  4.08   \n",
      "3                                  SCATTERPLOT VIEW             SUM  4.00   \n",
      "4                                       DETAIL VIEW            CTRL  3.69   \n",
      "5                                       DETAIL VIEW              RT  4.73   \n",
      "6                                       DETAIL VIEW           RTSUM  4.17   \n",
      "7                                       DETAIL VIEW             SUM  4.57   \n",
      "8                                       FILTER VIEW            CTRL  4.31   \n",
      "9                                       FILTER VIEW              RT  3.73   \n",
      "10                                      FILTER VIEW           RTSUM  4.00   \n",
      "11                                      FILTER VIEW             SUM  3.57   \n",
      "12                          SELECTED COMMITTEE LIST            CTRL  3.92   \n",
      "13                          SELECTED COMMITTEE LIST              RT  3.73   \n",
      "14                          SELECTED COMMITTEE LIST           RTSUM  3.50   \n",
      "15                          SELECTED COMMITTEE LIST             SUM  3.71   \n",
      "16                       IN-SITU INTERACTION TRACES            CTRL   NaN   \n",
      "17                       IN-SITU INTERACTION TRACES              RT  3.82   \n",
      "18                       IN-SITU INTERACTION TRACES           RTSUM  4.00   \n",
      "19                       IN-SITU INTERACTION TRACES             SUM   NaN   \n",
      "20                       EX-SITU INTERACTION TRACES            CTRL   NaN   \n",
      "21                       EX-SITU INTERACTION TRACES              RT  3.45   \n",
      "22                       EX-SITU INTERACTION TRACES           RTSUM  2.58   \n",
      "23                       EX-SITU INTERACTION TRACES             SUM   NaN   \n",
      "24  SUMMATIVE VISUALIZATION-After Initial Selection            CTRL   NaN   \n",
      "25  SUMMATIVE VISUALIZATION-After Initial Selection              RT   NaN   \n",
      "26  SUMMATIVE VISUALIZATION-After Initial Selection           RTSUM  2.83   \n",
      "27  SUMMATIVE VISUALIZATION-After Initial Selection             SUM  3.43   \n",
      "28           SUMMATIVE VISUALIZATION-After Revision            CTRL  3.54   \n",
      "29           SUMMATIVE VISUALIZATION-After Revision              RT  3.73   \n",
      "30           SUMMATIVE VISUALIZATION-After Revision           RTSUM   NaN   \n",
      "31           SUMMATIVE VISUALIZATION-After Revision             SUM   NaN   \n",
      "\n",
      "    median   std  \n",
      "0      4.0  0.95  \n",
      "1      4.0  0.79  \n",
      "2      4.0  0.79  \n",
      "3      4.0  1.04  \n",
      "4      4.0  1.25  \n",
      "5      5.0  0.90  \n",
      "6      4.5  1.11  \n",
      "7      5.0  0.76  \n",
      "8      5.0  0.85  \n",
      "9      4.0  1.10  \n",
      "10     4.0  0.74  \n",
      "11     4.0  1.22  \n",
      "12     4.0  1.19  \n",
      "13     4.0  1.35  \n",
      "14     3.5  0.80  \n",
      "15     4.0  1.14  \n",
      "16     NaN   NaN  \n",
      "17     4.0  1.08  \n",
      "18     4.0  0.74  \n",
      "19     NaN   NaN  \n",
      "20     NaN   NaN  \n",
      "21     4.0  1.51  \n",
      "22     2.0  1.38  \n",
      "23     NaN   NaN  \n",
      "24     NaN   NaN  \n",
      "25     NaN   NaN  \n",
      "26     3.0  1.11  \n",
      "27     3.5  0.85  \n",
      "28     4.0  1.33  \n",
      "29     4.0  1.49  \n",
      "30     NaN   NaN  \n",
      "31     NaN   NaN  \n"
     ]
    },
    {
     "data": {
      "image/png": "[encoded data removed]",
      "text/plain": [
       "<Figure size 208.8x864 with 8 Axes>"
      ]
     },
     "metadata": {
      "needs_background": "light"
     },
     "output_type": "display_data"
    }
   ],
   "source": [
    "columns = [\n",
    "    \"SCATTERPLOT VIEW\",\n",
    "    \"DETAIL VIEW\",\n",
    "    \"FILTER VIEW\",\n",
    "    \"SELECTED COMMITTEE LIST\",\n",
    "    \"IN-SITU INTERACTION TRACES\",\n",
    "    \"EX-SITU INTERACTION TRACES\",\n",
    "    \"SUMMATIVE VISUALIZATION-After Initial Selection\",\n",
    "    \"SUMMATIVE VISUALIZATION-After Revision\",\n",
    "]\n",
    "by = [\"experiment_mode\"]\n",
    "filename=\"charts/basic_eda/politics/usefulness-scores-ui-features.pdf\"\n",
    "subfigure_boxplot(df=df_post_study_survey, \n",
    "                          by=by,\n",
    "                          columns=columns, \n",
    "                          filename=filename)"
   ]
  },
  {
   "cell_type": "markdown",
   "metadata": {},
   "source": [
    "### Usefulness scores of showing Interaction Traces in different views as reported by Awareness participants"
   ]
  },
  {
   "cell_type": "markdown",
   "metadata": {},
   "source": [
    "## Summary plots - Attribute"
   ]
  },
  {
   "cell_type": "markdown",
   "metadata": {},
   "source": [
    "#### Create a combined DF with both Control and Awareness"
   ]
  },
  {
   "cell_type": "code",
   "execution_count": 24,
   "metadata": {},
   "outputs": [],
   "source": [
    "df_attribute_stats = pd.DataFrame()\n",
    "for experiment_mode in experiment_modes:\n",
    "    inputfile_attribute_stats = f\"{experiment_mode}/all_{experiment_mode}_politics_attr_stats.csv\"\n",
    "    _df = pd.read_csv(inputfile_attribute_stats, sep=\",\")\n",
    "    _df[\"experiment_mode\"] = experiment_mode\n",
    "    df_attribute_stats = df_attribute_stats.append(_df)\n",
    "    \n",
    "df_attribute_stats[\"total_attribute_interactions\"] = df_attribute_stats[\"count_encode_changed\"] + df_attribute_stats[\"count_filter_changed\"] + df_attribute_stats[\"count_dist_card_click\"]"
   ]
  },
  {
   "cell_type": "markdown",
   "metadata": {},
   "source": [
    "### Which Condition clicked more on the Distribution Panel Cards?"
   ]
  },
  {
   "cell_type": "code",
   "execution_count": 25,
   "metadata": {},
   "outputs": [
    {
     "name": "stderr",
     "output_type": "stream",
     "text": [
      "/Users/curiosity/anaconda3/lib/python3.8/site-packages/numpy/core/_asarray.py:83: VisibleDeprecationWarning: Creating an ndarray from ragged nested sequences (which is a list-or-tuple of lists-or-tuples-or ndarrays with different lengths or shapes) is deprecated. If you meant to do this, you must specify 'dtype=object' when creating the ndarray\n",
      "  return array(a, dtype, copy=False, order=order)\n"
     ]
    },
    {
     "name": "stdout",
     "output_type": "stream",
     "text": [
      "                  column experiment_mode  mean  median   std\n",
      "0  count_dist_card_click            CTRL  0.00       0  0.00\n",
      "1  count_dist_card_click              RT  0.23       0  0.53\n",
      "2  count_dist_card_click           RTSUM  0.15       0  0.49\n",
      "3  count_dist_card_click             SUM  0.00       0  0.00\n"
     ]
    },
    {
     "data": {
      "image/png": "[encoded data removed]",
      "text/plain": [
       "<Figure size 360x1440 with 8 Axes>"
      ]
     },
     "metadata": {
      "needs_background": "light"
     },
     "output_type": "display_data"
    }
   ],
   "source": [
    "columns = [\"count_dist_card_click\"]\n",
    "by = [\"experiment_mode\"]\n",
    "filename=\"charts/basic_eda/politics/count_distribution_card_changed.pdf\"\n",
    "custom_tick_boxplot(df=df_attribute_stats, \n",
    "                      by=by,\n",
    "                      columns=columns, \n",
    "                      filename=filename)"
   ]
  },
  {
   "cell_type": "markdown",
   "metadata": {},
   "source": [
    "### Which Condition _changed_ more attribute Filters?"
   ]
  },
  {
   "cell_type": "code",
   "execution_count": 26,
   "metadata": {
    "scrolled": false
   },
   "outputs": [
    {
     "name": "stderr",
     "output_type": "stream",
     "text": [
      "/Users/curiosity/anaconda3/lib/python3.8/site-packages/numpy/core/_asarray.py:83: VisibleDeprecationWarning: Creating an ndarray from ragged nested sequences (which is a list-or-tuple of lists-or-tuples-or ndarrays with different lengths or shapes) is deprecated. If you meant to do this, you must specify 'dtype=object' when creating the ndarray\n",
      "  return array(a, dtype, copy=False, order=order)\n"
     ]
    },
    {
     "name": "stdout",
     "output_type": "stream",
     "text": [
      "                 column experiment_mode  mean  median   std\n",
      "0  count_filter_changed            CTRL  0.65       0  1.25\n",
      "1  count_filter_changed              RT  0.96       0  1.75\n",
      "2  count_filter_changed           RTSUM  1.12       0  2.07\n",
      "3  count_filter_changed             SUM  0.95       0  1.85\n"
     ]
    },
    {
     "data": {
      "image/png": "[encoded data removed]",
      "text/plain": [
       "<Figure size 360x1440 with 8 Axes>"
      ]
     },
     "metadata": {
      "needs_background": "light"
     },
     "output_type": "display_data"
    }
   ],
   "source": [
    "columns = [\"count_filter_changed\"]\n",
    "by = [\"experiment_mode\"]\n",
    "filename=\"charts/basic_eda/politics/count_filter_changed.pdf\"\n",
    "custom_tick_boxplot(df=df_attribute_stats, \n",
    "                      by=by,\n",
    "                      columns=columns, \n",
    "                      filename=filename)"
   ]
  },
  {
   "cell_type": "markdown",
   "metadata": {},
   "source": [
    "### Which Condition _changed_ more attributes as  Encodings?"
   ]
  },
  {
   "cell_type": "code",
   "execution_count": 27,
   "metadata": {},
   "outputs": [
    {
     "name": "stderr",
     "output_type": "stream",
     "text": [
      "/Users/curiosity/anaconda3/lib/python3.8/site-packages/numpy/core/_asarray.py:83: VisibleDeprecationWarning: Creating an ndarray from ragged nested sequences (which is a list-or-tuple of lists-or-tuples-or ndarrays with different lengths or shapes) is deprecated. If you meant to do this, you must specify 'dtype=object' when creating the ndarray\n",
      "  return array(a, dtype, copy=False, order=order)\n"
     ]
    },
    {
     "name": "stdout",
     "output_type": "stream",
     "text": [
      "                 column experiment_mode  mean  median   std\n",
      "0  count_encode_changed            CTRL  0.52       0  0.75\n",
      "1  count_encode_changed              RT  0.64       0  1.05\n",
      "2  count_encode_changed           RTSUM  0.81       0  1.11\n",
      "3  count_encode_changed             SUM  0.56       0  0.84\n"
     ]
    },
    {
     "data": {
      "image/png": "[encoded data removed]",
      "text/plain": [
       "<Figure size 360x1440 with 8 Axes>"
      ]
     },
     "metadata": {
      "needs_background": "light"
     },
     "output_type": "display_data"
    }
   ],
   "source": [
    "columns = [\"count_encode_changed\"]\n",
    "by = [\"experiment_mode\"]\n",
    "filename=\"charts/basic_eda/politics/count_encode_changed.pdf\"\n",
    "custom_tick_boxplot(df=df_attribute_stats, \n",
    "                      by=by,\n",
    "                      columns=columns, \n",
    "                      filename=filename)"
   ]
  },
  {
   "cell_type": "markdown",
   "metadata": {},
   "source": [
    "### Which Condition _changed_ more attributes as  Encodings + Filter + Distribution Card?"
   ]
  },
  {
   "cell_type": "code",
   "execution_count": 28,
   "metadata": {},
   "outputs": [
    {
     "name": "stderr",
     "output_type": "stream",
     "text": [
      "/Users/curiosity/anaconda3/lib/python3.8/site-packages/numpy/core/_asarray.py:83: VisibleDeprecationWarning: Creating an ndarray from ragged nested sequences (which is a list-or-tuple of lists-or-tuples-or ndarrays with different lengths or shapes) is deprecated. If you meant to do this, you must specify 'dtype=object' when creating the ndarray\n",
      "  return array(a, dtype, copy=False, order=order)\n"
     ]
    },
    {
     "name": "stdout",
     "output_type": "stream",
     "text": [
      "                         column experiment_mode  mean  median   std\n",
      "0  total_attribute_interactions            CTRL  1.17       1  1.32\n",
      "1  total_attribute_interactions              RT  1.83       1  1.94\n",
      "2  total_attribute_interactions           RTSUM  2.07       1  2.32\n",
      "3  total_attribute_interactions             SUM  1.52       1  2.07\n"
     ]
    },
    {
     "data": {
      "image/png": "[encoded data removed]",
      "text/plain": [
       "<Figure size 360x1440 with 8 Axes>"
      ]
     },
     "metadata": {
      "needs_background": "light"
     },
     "output_type": "display_data"
    }
   ],
   "source": [
    "columns = [\"total_attribute_interactions\"]\n",
    "by = [\"experiment_mode\"]\n",
    "filename=\"charts/basic_eda/politics/total_attribute_interactions.pdf\"\n",
    "custom_tick_boxplot(df=df_attribute_stats, \n",
    "                      by=by,\n",
    "                      columns=columns, \n",
    "                      filename=filename)"
   ]
  },
  {
   "cell_type": "markdown",
   "metadata": {},
   "source": [
    "### AC final and avg"
   ]
  },
  {
   "cell_type": "code",
   "execution_count": 29,
   "metadata": {},
   "outputs": [
    {
     "name": "stderr",
     "output_type": "stream",
     "text": [
      "/Users/curiosity/anaconda3/lib/python3.8/site-packages/numpy/core/_asarray.py:83: VisibleDeprecationWarning: Creating an ndarray from ragged nested sequences (which is a list-or-tuple of lists-or-tuples-or ndarrays with different lengths or shapes) is deprecated. If you meant to do this, you must specify 'dtype=object' when creating the ndarray\n",
      "  return array(a, dtype, copy=False, order=order)\n"
     ]
    },
    {
     "name": "stdout",
     "output_type": "stream",
     "text": [
      "            column experiment_mode  mean  median   std\n",
      "0  ac_metric_final            CTRL  0.13     0.0  0.22\n",
      "1  ac_metric_final              RT  0.09     0.0  0.19\n",
      "2  ac_metric_final           RTSUM  0.04     0.0  0.12\n",
      "3  ac_metric_final             SUM  0.13     0.0  0.21\n"
     ]
    },
    {
     "data": {
      "image/png": "[encoded data removed]",
      "text/plain": [
       "<Figure size 360x1440 with 8 Axes>"
      ]
     },
     "metadata": {
      "needs_background": "light"
     },
     "output_type": "display_data"
    }
   ],
   "source": [
    "columns = [\"ac_metric_final\"]\n",
    "by = [\"experiment_mode\"]\n",
    "filename=\"charts/basic_eda/politics/ac_metric_final.pdf\"\n",
    "custom_bias_boxplot(df=df_attribute_stats, \n",
    "                      by=by,\n",
    "                      columns=columns, \n",
    "                      filename=filename)"
   ]
  },
  {
   "cell_type": "code",
   "execution_count": 30,
   "metadata": {},
   "outputs": [
    {
     "name": "stderr",
     "output_type": "stream",
     "text": [
      "/Users/curiosity/anaconda3/lib/python3.8/site-packages/numpy/core/_asarray.py:83: VisibleDeprecationWarning: Creating an ndarray from ragged nested sequences (which is a list-or-tuple of lists-or-tuples-or ndarrays with different lengths or shapes) is deprecated. If you meant to do this, you must specify 'dtype=object' when creating the ndarray\n",
      "  return array(a, dtype, copy=False, order=order)\n"
     ]
    },
    {
     "name": "stdout",
     "output_type": "stream",
     "text": [
      "          column experiment_mode  mean  median   std\n",
      "0  ac_metric_avg            CTRL  0.14    0.03  0.18\n",
      "1  ac_metric_avg              RT  0.11    0.03  0.16\n",
      "2  ac_metric_avg           RTSUM  0.08    0.01  0.13\n",
      "3  ac_metric_avg             SUM  0.15    0.08  0.16\n"
     ]
    },
    {
     "data": {
      "image/png": "[encoded data removed]",
      "text/plain": [
       "<Figure size 360x1440 with 8 Axes>"
      ]
     },
     "metadata": {
      "needs_background": "light"
     },
     "output_type": "display_data"
    }
   ],
   "source": [
    "columns = [\"ac_metric_avg\"]\n",
    "by = [\"experiment_mode\"]\n",
    "filename=\"charts/basic_eda/politics/ac_metric_avg.pdf\"\n",
    "custom_bias_boxplot(df=df_attribute_stats, \n",
    "                      by=by,\n",
    "                      columns=columns, \n",
    "                      filename=filename)"
   ]
  },
  {
   "cell_type": "markdown",
   "metadata": {},
   "source": [
    "### AD final and avg"
   ]
  },
  {
   "cell_type": "code",
   "execution_count": 31,
   "metadata": {},
   "outputs": [
    {
     "name": "stderr",
     "output_type": "stream",
     "text": [
      "/Users/curiosity/anaconda3/lib/python3.8/site-packages/numpy/core/_asarray.py:83: VisibleDeprecationWarning: Creating an ndarray from ragged nested sequences (which is a list-or-tuple of lists-or-tuples-or ndarrays with different lengths or shapes) is deprecated. If you meant to do this, you must specify 'dtype=object' when creating the ndarray\n",
      "  return array(a, dtype, copy=False, order=order)\n"
     ]
    },
    {
     "name": "stdout",
     "output_type": "stream",
     "text": [
      "            column experiment_mode  mean  median   std\n",
      "0  ad_metric_final            CTRL  0.46    0.34  0.34\n",
      "1  ad_metric_final              RT  0.45    0.28  0.34\n",
      "2  ad_metric_final           RTSUM  0.42    0.27  0.34\n",
      "3  ad_metric_final             SUM  0.56    0.50  0.33\n"
     ]
    },
    {
     "data": {
      "image/png": "[encoded data removed]",
      "text/plain": [
       "<Figure size 360x1440 with 8 Axes>"
      ]
     },
     "metadata": {
      "needs_background": "light"
     },
     "output_type": "display_data"
    }
   ],
   "source": [
    "columns = [\"ad_metric_final\"]\n",
    "by = [\"experiment_mode\"]\n",
    "filename=\"charts/basic_eda/politics/ad_metric_final.pdf\"\n",
    "custom_bias_boxplot(df=df_attribute_stats, \n",
    "                      by=by,\n",
    "                      columns=columns, \n",
    "                      filename=filename)"
   ]
  },
  {
   "cell_type": "code",
   "execution_count": 32,
   "metadata": {},
   "outputs": [
    {
     "name": "stderr",
     "output_type": "stream",
     "text": [
      "/Users/curiosity/anaconda3/lib/python3.8/site-packages/numpy/core/_asarray.py:83: VisibleDeprecationWarning: Creating an ndarray from ragged nested sequences (which is a list-or-tuple of lists-or-tuples-or ndarrays with different lengths or shapes) is deprecated. If you meant to do this, you must specify 'dtype=object' when creating the ndarray\n",
      "  return array(a, dtype, copy=False, order=order)\n"
     ]
    },
    {
     "name": "stdout",
     "output_type": "stream",
     "text": [
      "          column experiment_mode  mean  median   std\n",
      "0  ad_metric_avg            CTRL  0.37    0.30  0.23\n",
      "1  ad_metric_avg              RT  0.41    0.32  0.26\n",
      "2  ad_metric_avg           RTSUM  0.40    0.29  0.28\n",
      "3  ad_metric_avg             SUM  0.49    0.41  0.24\n"
     ]
    },
    {
     "data": {
      "image/png": "[encoded data removed]",
      "text/plain": [
       "<Figure size 360x1440 with 8 Axes>"
      ]
     },
     "metadata": {
      "needs_background": "light"
     },
     "output_type": "display_data"
    }
   ],
   "source": [
    "columns = [\"ad_metric_avg\"]\n",
    "by = [\"experiment_mode\"]\n",
    "filename=\"charts/basic_eda/politics/ad_metric_avg.pdf\"\n",
    "custom_bias_boxplot(df=df_attribute_stats, \n",
    "                      by=by,\n",
    "                      columns=columns, \n",
    "                      filename=filename)"
   ]
  },
  {
   "cell_type": "markdown",
   "metadata": {},
   "source": [
    "## AD and AC for different Attributes Across Conditions"
   ]
  },
  {
   "cell_type": "markdown",
   "metadata": {},
   "source": [
    "## Final"
   ]
  },
  {
   "cell_type": "code",
   "execution_count": 33,
   "metadata": {},
   "outputs": [
    {
     "data": {
      "text/html": [
       "<div>\n",
       "<style scoped>\n",
       "    .dataframe tbody tr th:only-of-type {\n",
       "        vertical-align: middle;\n",
       "    }\n",
       "\n",
       "    .dataframe tbody tr th {\n",
       "        vertical-align: top;\n",
       "    }\n",
       "\n",
       "    .dataframe thead th {\n",
       "        text-align: right;\n",
       "    }\n",
       "</style>\n",
       "<table border=\"1\" class=\"dataframe\">\n",
       "  <thead>\n",
       "    <tr style=\"text-align: right;\">\n",
       "      <th></th>\n",
       "      <th>experiment_mode</th>\n",
       "      <th>attribute</th>\n",
       "      <th>avg_ad</th>\n",
       "      <th>avg_ac</th>\n",
       "    </tr>\n",
       "  </thead>\n",
       "  <tbody>\n",
       "    <tr>\n",
       "      <th>0</th>\n",
       "      <td>CTRL</td>\n",
       "      <td>age</td>\n",
       "      <td>0.231854</td>\n",
       "      <td>0.057692</td>\n",
       "    </tr>\n",
       "  </tbody>\n",
       "</table>\n",
       "</div>"
      ],
      "text/plain": [
       "  experiment_mode attribute    avg_ad    avg_ac\n",
       "0            CTRL       age  0.231854  0.057692"
      ]
     },
     "execution_count": 33,
     "metadata": {},
     "output_type": "execute_result"
    }
   ],
   "source": [
    "groupby_cols = [\"experiment_mode\", \"attribute\"]\n",
    "subset_cols = groupby_cols + [\"ad_metric_final\",\"ac_metric_final\"]\n",
    "df_ad_ac = df_attribute_stats[subset_cols].groupby(groupby_cols).agg(avg_ad=(\"ad_metric_final\",\"mean\"),\n",
    "                                                               avg_ac=(\"ac_metric_final\",\"mean\")\n",
    "                                                               )\n",
    "df_ad_ac.reset_index(inplace=True)\n",
    "df_ad_ac.head(1)"
   ]
  },
  {
   "cell_type": "markdown",
   "metadata": {},
   "source": [
    "### AD"
   ]
  },
  {
   "cell_type": "code",
   "execution_count": 34,
   "metadata": {},
   "outputs": [
    {
     "data": {
      "image/png": "[encoded data removed]",
      "text/plain": [
       "<Figure size 864x288 with 1 Axes>"
      ]
     },
     "metadata": {
      "needs_background": "light"
     },
     "output_type": "display_data"
    }
   ],
   "source": [
    "avg_ad_ctrl = df_ad_ac[df_ad_ac[\"experiment_mode\"]==\"CTRL\"][[\"attribute\",\"avg_ad\"]]\n",
    "avg_ad_ctrl.columns = ['attribute', 'avg_ad_ctrl']\n",
    "\n",
    "avg_ad_rt = df_ad_ac[df_ad_ac[\"experiment_mode\"]==\"RT\"][[\"attribute\",\"avg_ad\"]]\n",
    "avg_ad_rt.columns = ['attribute', 'avg_ad_rt']\n",
    "\n",
    "avg_ad_sum = df_ad_ac[df_ad_ac[\"experiment_mode\"]==\"SUM\"][[\"attribute\",\"avg_ad\"]]\n",
    "avg_ad_sum.columns = ['attribute', 'avg_ad_sum']\n",
    "\n",
    "avg_ad_rtsum = df_ad_ac[df_ad_ac[\"experiment_mode\"]==\"RTSUM\"][[\"attribute\",\"avg_ad\"]]\n",
    "avg_ad_rtsum.columns = ['attribute', 'avg_ad_rtsum']\n",
    "\n",
    "df_ad_merged_1 = avg_ad_ctrl.merge(avg_ad_rt, on=[\"attribute\"], how=\"left\")\n",
    "df_ad_merged_2 = avg_ad_sum.merge(avg_ad_rtsum, on=[\"attribute\"], how=\"left\")\n",
    "df_ad_merged = df_ad_merged_1.merge(df_ad_merged_2, on=[\"attribute\"], how=\"left\")\n",
    "\n",
    "labels = df_ad_merged[\"attribute\"]\n",
    "x = np.arange(len(labels))  # the label locations\n",
    "width = 0.2  # the width of the bars\n",
    "\n",
    "fig, ax = plt.subplots()\n",
    "rects1 = ax.bar(x - width*3/2, df_ad_merged[\"avg_ad_ctrl\"], width, label='CTRL')\n",
    "rects2 = ax.bar(x - width/2, df_ad_merged[\"avg_ad_rt\"], width, label='RT')\n",
    "rects3 = ax.bar(x + width/2, df_ad_merged[\"avg_ad_sum\"], width, label='SUM')\n",
    "rects4 = ax.bar(x + width*3/2, df_ad_merged[\"avg_ad_rtsum\"], width, label='RTSUM')\n",
    "\n",
    "# Add some text for labels, title and custom x-axis tick labels, etc.\n",
    "ax.set_ylabel('Avg of Final AD')\n",
    "ax.set_title('Avg of Final AD values across attributes across conditions for POLITICS')\n",
    "ax.set_xticks(x)\n",
    "ax.set_xticklabels(labels)\n",
    "ax.set_yticks([0, 0.25, 0.5, 0.75, 1])\n",
    "ax.legend()\n",
    "\n",
    "plt.xticks(x, df_ad_merged[\"attribute\"], rotation=15, ha=\"right\") \n",
    "plt.legend([\"CTRL\", \"RT\", \"SUM\", \"RTSUM\"])\n",
    "fig = plt.gcf()\n",
    "fig.set_size_inches(12, 4)\n",
    "plt.savefig(\"charts/basic_eda/politics/final-ad-across-attributes-across-conditions.pdf\", bbox_inches = \"tight\")\n",
    "\n",
    "plt.show()"
   ]
  },
  {
   "cell_type": "markdown",
   "metadata": {},
   "source": [
    "### AC"
   ]
  },
  {
   "cell_type": "code",
   "execution_count": 35,
   "metadata": {},
   "outputs": [
    {
     "data": {
      "image/png": "[encoded data removed]",
      "text/plain": [
       "<Figure size 864x288 with 1 Axes>"
      ]
     },
     "metadata": {
      "needs_background": "light"
     },
     "output_type": "display_data"
    }
   ],
   "source": [
    "avg_ac_ctrl = df_ad_ac[df_ad_ac[\"experiment_mode\"]==\"CTRL\"][[\"attribute\",\"avg_ac\"]]\n",
    "avg_ac_ctrl.columns = ['attribute', 'avg_ac_ctrl']\n",
    "\n",
    "avg_ac_rt = df_ad_ac[df_ad_ac[\"experiment_mode\"]==\"RT\"][[\"attribute\",\"avg_ac\"]]\n",
    "avg_ac_rt.columns = ['attribute', 'avg_ac_rt']\n",
    "\n",
    "avg_ac_sum = df_ad_ac[df_ad_ac[\"experiment_mode\"]==\"SUM\"][[\"attribute\",\"avg_ac\"]]\n",
    "avg_ac_sum.columns = ['attribute', 'avg_ac_sum']\n",
    "\n",
    "avg_ac_rtsum = df_ad_ac[df_ad_ac[\"experiment_mode\"]==\"RTSUM\"][[\"attribute\",\"avg_ac\"]]\n",
    "avg_ac_rtsum.columns = ['attribute', 'avg_ac_rtsum']\n",
    "\n",
    "df_ac_merged_1 = avg_ac_ctrl.merge(avg_ac_rt, on=[\"attribute\"], how=\"left\")\n",
    "df_ac_merged_2 = avg_ac_sum.merge(avg_ac_rtsum, on=[\"attribute\"], how=\"left\")\n",
    "df_ac_merged = df_ac_merged_1.merge(df_ac_merged_2, on=[\"attribute\"], how=\"left\")\n",
    "\n",
    "labels = df_ac_merged[\"attribute\"]\n",
    "x = np.arange(len(labels))  # the label locations\n",
    "width = 0.2  # the width of the bars\n",
    "\n",
    "fig, ax = plt.subplots()\n",
    "rects1 = ax.bar(x - width*3/2, df_ac_merged[\"avg_ac_ctrl\"], width, label='CTRL')\n",
    "rects2 = ax.bar(x - width/2, df_ac_merged[\"avg_ac_rt\"], width, label='RT')\n",
    "rects3 = ax.bar(x + width/2, df_ac_merged[\"avg_ac_sum\"], width, label='SUM')\n",
    "rects4 = ax.bar(x + width*3/2, df_ac_merged[\"avg_ac_rtsum\"], width, label='RTSUM')\n",
    "\n",
    "# Add some text for labels, title and custom x-axis tick labels, etc.\n",
    "ax.set_ylabel('Avg of Final AC')\n",
    "ax.set_title('Avg of Final AC values across attributes across conditions for POLITICS')\n",
    "ax.set_xticks(x)\n",
    "ax.set_xticklabels(labels)\n",
    "ax.set_yticks([0, 0.25, 0.5, 0.75, 1])\n",
    "ax.legend()\n",
    "\n",
    "plt.xticks(x, df_ac_merged[\"attribute\"], rotation=15, ha=\"right\") \n",
    "plt.legend([\"CTRL\", \"RT\", \"SUM\", \"RTSUM\"])\n",
    "fig = plt.gcf()\n",
    "fig.set_size_inches(12, 4)\n",
    "plt.savefig(\"charts/basic_eda/politics/final-ac-across-attributes-across-conditions.pdf\", bbox_inches = \"tight\")\n",
    "\n",
    "plt.show()"
   ]
  },
  {
   "cell_type": "markdown",
   "metadata": {},
   "source": [
    "## Average"
   ]
  },
  {
   "cell_type": "code",
   "execution_count": 36,
   "metadata": {},
   "outputs": [
    {
     "data": {
      "text/html": [
       "<div>\n",
       "<style scoped>\n",
       "    .dataframe tbody tr th:only-of-type {\n",
       "        vertical-align: middle;\n",
       "    }\n",
       "\n",
       "    .dataframe tbody tr th {\n",
       "        vertical-align: top;\n",
       "    }\n",
       "\n",
       "    .dataframe thead th {\n",
       "        text-align: right;\n",
       "    }\n",
       "</style>\n",
       "<table border=\"1\" class=\"dataframe\">\n",
       "  <thead>\n",
       "    <tr style=\"text-align: right;\">\n",
       "      <th></th>\n",
       "      <th>experiment_mode</th>\n",
       "      <th>attribute</th>\n",
       "      <th>avg_ad</th>\n",
       "      <th>avg_ac</th>\n",
       "    </tr>\n",
       "  </thead>\n",
       "  <tbody>\n",
       "    <tr>\n",
       "      <th>0</th>\n",
       "      <td>CTRL</td>\n",
       "      <td>age</td>\n",
       "      <td>0.204558</td>\n",
       "      <td>0.075262</td>\n",
       "    </tr>\n",
       "  </tbody>\n",
       "</table>\n",
       "</div>"
      ],
      "text/plain": [
       "  experiment_mode attribute    avg_ad    avg_ac\n",
       "0            CTRL       age  0.204558  0.075262"
      ]
     },
     "execution_count": 36,
     "metadata": {},
     "output_type": "execute_result"
    }
   ],
   "source": [
    "groupby_cols = [\"experiment_mode\", \"attribute\"]\n",
    "subset_cols = groupby_cols + [\"ad_metric_avg\",\"ac_metric_avg\"]\n",
    "df_ad_ac = df_attribute_stats[subset_cols].groupby(groupby_cols).agg(avg_ad=(\"ad_metric_avg\",\"mean\"),\n",
    "                                                               avg_ac=(\"ac_metric_avg\",\"mean\")\n",
    "                                                               )\n",
    "df_ad_ac.reset_index(inplace=True)\n",
    "df_ad_ac.head(1)"
   ]
  },
  {
   "cell_type": "markdown",
   "metadata": {},
   "source": [
    "### AD"
   ]
  },
  {
   "cell_type": "code",
   "execution_count": 37,
   "metadata": {},
   "outputs": [
    {
     "data": {
      "image/png": "[encoded data removed]",
      "text/plain": [
       "<Figure size 864x288 with 1 Axes>"
      ]
     },
     "metadata": {
      "needs_background": "light"
     },
     "output_type": "display_data"
    }
   ],
   "source": [
    "avg_ad_ctrl = df_ad_ac[df_ad_ac[\"experiment_mode\"]==\"CTRL\"][[\"attribute\",\"avg_ad\"]]\n",
    "avg_ad_ctrl.columns = ['attribute', 'avg_ad_ctrl']\n",
    "\n",
    "avg_ad_rt = df_ad_ac[df_ad_ac[\"experiment_mode\"]==\"RT\"][[\"attribute\",\"avg_ad\"]]\n",
    "avg_ad_rt.columns = ['attribute', 'avg_ad_rt']\n",
    "\n",
    "avg_ad_sum = df_ad_ac[df_ad_ac[\"experiment_mode\"]==\"SUM\"][[\"attribute\",\"avg_ad\"]]\n",
    "avg_ad_sum.columns = ['attribute', 'avg_ad_sum']\n",
    "\n",
    "avg_ad_rtsum = df_ad_ac[df_ad_ac[\"experiment_mode\"]==\"RTSUM\"][[\"attribute\",\"avg_ad\"]]\n",
    "avg_ad_rtsum.columns = ['attribute', 'avg_ad_rtsum']\n",
    "\n",
    "df_ad_merged_1 = avg_ad_ctrl.merge(avg_ad_rt, on=[\"attribute\"], how=\"left\")\n",
    "df_ad_merged_2 = avg_ad_sum.merge(avg_ad_rtsum, on=[\"attribute\"], how=\"left\")\n",
    "df_ad_merged = df_ad_merged_1.merge(df_ad_merged_2, on=[\"attribute\"], how=\"left\")\n",
    "\n",
    "labels = df_ad_merged[\"attribute\"]\n",
    "x = np.arange(len(labels))  # the label locations\n",
    "width = 0.2  # the width of the bars\n",
    "\n",
    "fig, ax = plt.subplots()\n",
    "rects1 = ax.bar(x - width*3/2, df_ad_merged[\"avg_ad_ctrl\"], width, label='CTRL')\n",
    "rects2 = ax.bar(x - width/2, df_ad_merged[\"avg_ad_rt\"], width, label='RT')\n",
    "rects3 = ax.bar(x + width/2, df_ad_merged[\"avg_ad_sum\"], width, label='SUM')\n",
    "rects4 = ax.bar(x + width*3/2, df_ad_merged[\"avg_ad_rtsum\"], width, label='RTSUM')\n",
    "\n",
    "# Add some text for labels, title and custom x-axis tick labels, etc.\n",
    "ax.set_ylabel('Avg of Avg AD')\n",
    "ax.set_title('Avg of Average AD values across attributes across conditions for POLITICS')\n",
    "ax.set_xticks(x)\n",
    "ax.set_xticklabels(labels)\n",
    "ax.set_yticks([0, 0.25, 0.5, 0.75, 1])\n",
    "ax.legend()\n",
    "\n",
    "plt.xticks(x, df_ad_merged[\"attribute\"], rotation=15, ha=\"right\") \n",
    "plt.legend([\"CTRL\", \"RT\", \"SUM\", \"RTSUM\"])\n",
    "fig = plt.gcf()\n",
    "fig.set_size_inches(12, 4)\n",
    "plt.savefig(\"charts/basic_eda/politics/avg-ad-across-attributes-across-conditions.pdf\", bbox_inches = \"tight\")\n",
    "\n",
    "plt.show()"
   ]
  },
  {
   "cell_type": "markdown",
   "metadata": {},
   "source": [
    "### AC"
   ]
  },
  {
   "cell_type": "code",
   "execution_count": 38,
   "metadata": {},
   "outputs": [
    {
     "data": {
      "image/png": "[encoded data removed]",
      "text/plain": [
       "<Figure size 864x288 with 1 Axes>"
      ]
     },
     "metadata": {
      "needs_background": "light"
     },
     "output_type": "display_data"
    }
   ],
   "source": [
    "avg_ac_ctrl = df_ad_ac[df_ad_ac[\"experiment_mode\"]==\"CTRL\"][[\"attribute\",\"avg_ac\"]]\n",
    "avg_ac_ctrl.columns = ['attribute', 'avg_ac_ctrl']\n",
    "\n",
    "avg_ac_rt = df_ad_ac[df_ad_ac[\"experiment_mode\"]==\"RT\"][[\"attribute\",\"avg_ac\"]]\n",
    "avg_ac_rt.columns = ['attribute', 'avg_ac_rt']\n",
    "\n",
    "avg_ac_sum = df_ad_ac[df_ad_ac[\"experiment_mode\"]==\"SUM\"][[\"attribute\",\"avg_ac\"]]\n",
    "avg_ac_sum.columns = ['attribute', 'avg_ac_sum']\n",
    "\n",
    "avg_ac_rtsum = df_ad_ac[df_ad_ac[\"experiment_mode\"]==\"RTSUM\"][[\"attribute\",\"avg_ac\"]]\n",
    "avg_ac_rtsum.columns = ['attribute', 'avg_ac_rtsum']\n",
    "\n",
    "df_ac_merged_1 = avg_ac_ctrl.merge(avg_ac_rt, on=[\"attribute\"], how=\"left\")\n",
    "df_ac_merged_2 = avg_ac_sum.merge(avg_ac_rtsum, on=[\"attribute\"], how=\"left\")\n",
    "df_ac_merged = df_ac_merged_1.merge(df_ac_merged_2, on=[\"attribute\"], how=\"left\")\n",
    "\n",
    "labels = df_ac_merged[\"attribute\"]\n",
    "x = np.arange(len(labels))  # the label locations\n",
    "width = 0.2  # the width of the bars\n",
    "\n",
    "fig, ax = plt.subplots()\n",
    "rects1 = ax.bar(x - width*3/2, df_ac_merged[\"avg_ac_ctrl\"], width, label='CTRL')\n",
    "rects2 = ax.bar(x - width/2, df_ac_merged[\"avg_ac_rt\"], width, label='RT')\n",
    "rects3 = ax.bar(x + width/2, df_ac_merged[\"avg_ac_sum\"], width, label='SUM')\n",
    "rects4 = ax.bar(x + width*3/2, df_ac_merged[\"avg_ac_rtsum\"], width, label='RTSUM')\n",
    "\n",
    "# Add some text for labels, title and custom x-axis tick labels, etc.\n",
    "ax.set_ylabel('Avg of Average AC')\n",
    "ax.set_title('Avg of Average AC values across attributes across conditions for POLITICS')\n",
    "ax.set_xticks(x)\n",
    "ax.set_yticks([0, 0.25, 0.5, 0.75, 1])\n",
    "\n",
    "ax.set_xticklabels(labels)\n",
    "ax.legend()\n",
    "\n",
    "plt.xticks(x, df_ac_merged[\"attribute\"], rotation=15, ha=\"right\") \n",
    "plt.legend([\"CTRL\", \"RT\", \"SUM\", \"RTSUM\"])\n",
    "fig = plt.gcf()\n",
    "fig.set_size_inches(12, 4)\n",
    "plt.savefig(\"charts/basic_eda/politics/avg-ac-across-attributes-across-conditions.pdf\", bbox_inches = \"tight\")\n",
    "\n",
    "plt.show()"
   ]
  },
  {
   "cell_type": "markdown",
   "metadata": {},
   "source": [
    "### Which Condition interacted with more _Unique_ Attributes overall?"
   ]
  },
  {
   "cell_type": "code",
   "execution_count": 39,
   "metadata": {},
   "outputs": [
    {
     "name": "stderr",
     "output_type": "stream",
     "text": [
      "/Users/curiosity/anaconda3/lib/python3.8/site-packages/numpy/core/_asarray.py:83: VisibleDeprecationWarning: Creating an ndarray from ragged nested sequences (which is a list-or-tuple of lists-or-tuples-or ndarrays with different lengths or shapes) is deprecated. If you meant to do this, you must specify 'dtype=object' when creating the ndarray\n",
      "  return array(a, dtype, copy=False, order=order)\n"
     ]
    },
    {
     "name": "stdout",
     "output_type": "stream",
     "text": [
      "                          column experiment_mode  mean  median   std\n",
      "0  unique_attribute_interactions            CTRL  5.62     5.0  1.94\n",
      "1  unique_attribute_interactions              RT  6.45     6.0  2.58\n",
      "2  unique_attribute_interactions           RTSUM  6.08     6.0  2.19\n",
      "3  unique_attribute_interactions             SUM  5.50     5.5  2.38\n"
     ]
    },
    {
     "data": {
      "image/png": "[encoded data removed]",
      "text/plain": [
       "<Figure size 360x1440 with 8 Axes>"
      ]
     },
     "metadata": {
      "needs_background": "light"
     },
     "output_type": "display_data"
    }
   ],
   "source": [
    "groupby_cols = [\"experiment_mode\", \"pid\"]\n",
    "subset_cols = groupby_cols + [\"attribute\"]\n",
    "df_unique_interacted_attributes = df_attribute_stats[df_attribute_stats[\"total_attribute_interactions\"] > 0][subset_cols].groupby(groupby_cols).agg(unique_attribute_interactions=(\"attribute\",\"count\"))\n",
    "df_unique_interacted_attributes.reset_index(inplace=True)\n",
    "\n",
    "columns = [\"unique_attribute_interactions\"]\n",
    "by = [\"experiment_mode\"]\n",
    "filename=\"charts/basic_eda/politics/unique_attribute_interactions.pdf\"\n",
    "custom_tick_boxplot(df=df_unique_interacted_attributes, \n",
    "                      by=by,\n",
    "                      columns=columns, \n",
    "                      filename=filename)"
   ]
  },
  {
   "cell_type": "markdown",
   "metadata": {},
   "source": [
    "### Which Conditon had a higher Ratio of Total and Unique interacted Attributes?"
   ]
  },
  {
   "cell_type": "code",
   "execution_count": 40,
   "metadata": {},
   "outputs": [
    {
     "name": "stderr",
     "output_type": "stream",
     "text": [
      "/Users/curiosity/anaconda3/lib/python3.8/site-packages/numpy/core/_asarray.py:83: VisibleDeprecationWarning: Creating an ndarray from ragged nested sequences (which is a list-or-tuple of lists-or-tuples-or ndarrays with different lengths or shapes) is deprecated. If you meant to do this, you must specify 'dtype=object' when creating the ndarray\n",
      "  return array(a, dtype, copy=False, order=order)\n"
     ]
    },
    {
     "name": "stdout",
     "output_type": "stream",
     "text": [
      "                                     column experiment_mode  mean  median  \\\n",
      "0  ratio_total_unique_interacted_attributes            CTRL  0.21    0.14   \n",
      "1  ratio_total_unique_interacted_attributes              RT  0.26    0.17   \n",
      "2  ratio_total_unique_interacted_attributes           RTSUM  0.31    0.25   \n",
      "3  ratio_total_unique_interacted_attributes             SUM  0.25    0.14   \n",
      "\n",
      "    std  \n",
      "0  0.26  \n",
      "1  0.27  \n",
      "2  0.32  \n",
      "3  0.31  \n"
     ]
    },
    {
     "data": {
      "image/png": "[encoded data removed]",
      "text/plain": [
       "<Figure size 360x1440 with 8 Axes>"
      ]
     },
     "metadata": {
      "needs_background": "light"
     },
     "output_type": "display_data"
    }
   ],
   "source": [
    "df_total_vs_unique_attributes = df_unique_interacted_attributes.merge(df_attribute_stats, on=[\"experiment_mode\", \"pid\"], how=\"inner\")\n",
    "df_total_vs_unique_attributes[\"ratio_total_unique_interacted_attributes\"] = df_total_vs_unique_attributes[\"total_attribute_interactions\"] / df_total_vs_unique_attributes[\"unique_attribute_interactions\"]\n",
    "\n",
    "columns = [\"ratio_total_unique_interacted_attributes\"]\n",
    "by=[\"experiment_mode\"]\n",
    "filename=\"charts/basic_eda/politics/ratio_total_unique_interacted_attributes.pdf\"\n",
    "custom_tick_boxplot(df=df_total_vs_unique_attributes, \n",
    "                      by=by,\n",
    "                      columns=columns, \n",
    "                      filename=filename)"
   ]
  },
  {
   "cell_type": "markdown",
   "metadata": {},
   "source": [
    "## Summary plots - DataPoints"
   ]
  },
  {
   "cell_type": "code",
   "execution_count": 41,
   "metadata": {},
   "outputs": [],
   "source": [
    "df_datapoint_stats = pd.DataFrame()\n",
    "for experiment_mode in experiment_modes:\n",
    "    inputfile_datapoint_stats = f\"{experiment_mode}/all_{experiment_mode}_politics_datapoint_stats.csv\"\n",
    "    _df = pd.read_csv(inputfile_datapoint_stats, sep=\",\")\n",
    "    _df[\"experiment_mode\"] = experiment_mode\n",
    "    df_datapoint_stats = df_datapoint_stats.append(_df)\n",
    "    \n",
    "    \n",
    "df_datapoint_stats[\"count_hovers\"] = df_datapoint_stats[\"count_vis_hovers\"] + df_datapoint_stats[\"count_list_hovers\"]\n",
    "df_datapoint_stats[\"count_click_add\"] = df_datapoint_stats[\"count_vis_click_add\"] + df_datapoint_stats[\"count_card_click_add\"]\n",
    "df_datapoint_stats[\"count_click_remove\"] = df_datapoint_stats[\"count_list_click_remove\"] + df_datapoint_stats[\"count_card_click_remove\"]"
   ]
  },
  {
   "cell_type": "code",
   "execution_count": 42,
   "metadata": {},
   "outputs": [
    {
     "data": {
      "text/plain": [
       "Index(['pid', 'id', 'count_vis_hovers', 'count_vis_click_add',\n",
       "       'count_list_hovers', 'count_list_click_remove', 'count_card_click_add',\n",
       "       'count_card_click_remove', 'experiment_mode', 'count_hovers',\n",
       "       'count_click_add', 'count_click_remove'],\n",
       "      dtype='object')"
      ]
     },
     "execution_count": 42,
     "metadata": {},
     "output_type": "execute_result"
    }
   ],
   "source": [
    "df_datapoint_stats.columns"
   ]
  },
  {
   "cell_type": "code",
   "execution_count": 43,
   "metadata": {},
   "outputs": [
    {
     "data": {
      "text/html": [
       "<div>\n",
       "<style scoped>\n",
       "    .dataframe tbody tr th:only-of-type {\n",
       "        vertical-align: middle;\n",
       "    }\n",
       "\n",
       "    .dataframe tbody tr th {\n",
       "        vertical-align: top;\n",
       "    }\n",
       "\n",
       "    .dataframe thead th {\n",
       "        text-align: right;\n",
       "    }\n",
       "</style>\n",
       "<table border=\"1\" class=\"dataframe\">\n",
       "  <thead>\n",
       "    <tr style=\"text-align: right;\">\n",
       "      <th></th>\n",
       "      <th>experiment_mode</th>\n",
       "      <th>pid</th>\n",
       "      <th>count_hovers</th>\n",
       "      <th>count_click_add</th>\n",
       "      <th>count_click_remove</th>\n",
       "      <th>count_vis_hovers</th>\n",
       "      <th>count_vis_click_add</th>\n",
       "      <th>count_list_hovers</th>\n",
       "      <th>count_list_click_remove</th>\n",
       "      <th>count_card_click_add</th>\n",
       "      <th>count_card_click_remove</th>\n",
       "    </tr>\n",
       "  </thead>\n",
       "  <tbody>\n",
       "    <tr>\n",
       "      <th>0</th>\n",
       "      <td>CTRL</td>\n",
       "      <td>0Odg8Ya9cQZM</td>\n",
       "      <td>21</td>\n",
       "      <td>10</td>\n",
       "      <td>0</td>\n",
       "      <td>21</td>\n",
       "      <td>10</td>\n",
       "      <td>0</td>\n",
       "      <td>0</td>\n",
       "      <td>0</td>\n",
       "      <td>0</td>\n",
       "    </tr>\n",
       "  </tbody>\n",
       "</table>\n",
       "</div>"
      ],
      "text/plain": [
       "  experiment_mode           pid  count_hovers  count_click_add  \\\n",
       "0            CTRL  0Odg8Ya9cQZM            21               10   \n",
       "\n",
       "   count_click_remove  count_vis_hovers  count_vis_click_add  \\\n",
       "0                   0                21                   10   \n",
       "\n",
       "   count_list_hovers  count_list_click_remove  count_card_click_add  \\\n",
       "0                  0                        0                     0   \n",
       "\n",
       "   count_card_click_remove  \n",
       "0                        0  "
      ]
     },
     "execution_count": 43,
     "metadata": {},
     "output_type": "execute_result"
    }
   ],
   "source": [
    "df_datapoint_stats_agg = df_datapoint_stats.groupby([\"experiment_mode\",\"pid\"]).agg(\n",
    "    count_hovers=(\"count_hovers\", \"sum\"),\n",
    "    count_click_add=(\"count_click_add\", \"sum\"),\n",
    "    count_click_remove=(\"count_click_remove\", \"sum\"),\n",
    "    count_vis_hovers=(\"count_vis_hovers\",\"sum\"),\n",
    "    count_vis_click_add=(\"count_vis_click_add\",\"sum\"),\n",
    "    count_list_hovers=(\"count_list_hovers\",\"sum\"),\n",
    "    count_list_click_remove=(\"count_list_click_remove\",\"sum\"),\n",
    "    count_card_click_add=(\"count_card_click_add\", \"sum\"),\n",
    "    count_card_click_remove=(\"count_card_click_remove\", \"sum\")\n",
    ")\n",
    "df_datapoint_stats_agg.reset_index(inplace=True)\n",
    "df_datapoint_stats_agg.head(1)"
   ]
  },
  {
   "cell_type": "markdown",
   "metadata": {},
   "source": [
    "### How many Total DataPoints Did the Participants Interact With?"
   ]
  },
  {
   "cell_type": "code",
   "execution_count": 44,
   "metadata": {},
   "outputs": [
    {
     "data": {
      "text/html": [
       "<div>\n",
       "<style scoped>\n",
       "    .dataframe tbody tr th:only-of-type {\n",
       "        vertical-align: middle;\n",
       "    }\n",
       "\n",
       "    .dataframe tbody tr th {\n",
       "        vertical-align: top;\n",
       "    }\n",
       "\n",
       "    .dataframe thead th {\n",
       "        text-align: right;\n",
       "    }\n",
       "</style>\n",
       "<table border=\"1\" class=\"dataframe\">\n",
       "  <thead>\n",
       "    <tr style=\"text-align: right;\">\n",
       "      <th></th>\n",
       "      <th>experiment_mode</th>\n",
       "      <th>pid</th>\n",
       "      <th>total_no_of_interacted_datapoints</th>\n",
       "    </tr>\n",
       "  </thead>\n",
       "  <tbody>\n",
       "    <tr>\n",
       "      <th>0</th>\n",
       "      <td>CTRL</td>\n",
       "      <td>0Odg8Ya9cQZM</td>\n",
       "      <td>21</td>\n",
       "    </tr>\n",
       "  </tbody>\n",
       "</table>\n",
       "</div>"
      ],
      "text/plain": [
       "  experiment_mode           pid  total_no_of_interacted_datapoints\n",
       "0            CTRL  0Odg8Ya9cQZM                                 21"
      ]
     },
     "execution_count": 44,
     "metadata": {},
     "output_type": "execute_result"
    }
   ],
   "source": [
    "groupby_cols = [\"experiment_mode\", \"pid\"]\n",
    "subset_cols = groupby_cols + [\"count_hovers\"]\n",
    "df_total_interacted_datapoints = df_datapoint_stats_agg[df_datapoint_stats_agg[\"count_hovers\"] > 0][subset_cols].groupby(groupby_cols).agg(total_no_of_interacted_datapoints=(\"count_hovers\",\"sum\"))\n",
    "df_total_interacted_datapoints.reset_index(inplace=True)\n",
    "df_total_interacted_datapoints.head(1)"
   ]
  },
  {
   "cell_type": "markdown",
   "metadata": {},
   "source": [
    "### How many Unique DataPoints Did the Participants Interact With?"
   ]
  },
  {
   "cell_type": "code",
   "execution_count": 45,
   "metadata": {
    "scrolled": false
   },
   "outputs": [
    {
     "data": {
      "text/html": [
       "<div>\n",
       "<style scoped>\n",
       "    .dataframe tbody tr th:only-of-type {\n",
       "        vertical-align: middle;\n",
       "    }\n",
       "\n",
       "    .dataframe tbody tr th {\n",
       "        vertical-align: top;\n",
       "    }\n",
       "\n",
       "    .dataframe thead th {\n",
       "        text-align: right;\n",
       "    }\n",
       "</style>\n",
       "<table border=\"1\" class=\"dataframe\">\n",
       "  <thead>\n",
       "    <tr style=\"text-align: right;\">\n",
       "      <th></th>\n",
       "      <th>experiment_mode</th>\n",
       "      <th>pid</th>\n",
       "      <th>no_of_unique_interacted_datapoints</th>\n",
       "    </tr>\n",
       "  </thead>\n",
       "  <tbody>\n",
       "    <tr>\n",
       "      <th>0</th>\n",
       "      <td>CTRL</td>\n",
       "      <td>0Odg8Ya9cQZM</td>\n",
       "      <td>14</td>\n",
       "    </tr>\n",
       "  </tbody>\n",
       "</table>\n",
       "</div>"
      ],
      "text/plain": [
       "  experiment_mode           pid  no_of_unique_interacted_datapoints\n",
       "0            CTRL  0Odg8Ya9cQZM                                  14"
      ]
     },
     "execution_count": 45,
     "metadata": {},
     "output_type": "execute_result"
    }
   ],
   "source": [
    "groupby_cols = [\"experiment_mode\", \"pid\"]\n",
    "subset_cols = groupby_cols + [\"id\"]\n",
    "df_unique_interacted_datapoints = df_datapoint_stats[df_datapoint_stats[\"count_hovers\"] > 0][subset_cols].groupby(groupby_cols).agg(no_of_unique_interacted_datapoints=(\"id\",\"count\"))\n",
    "df_unique_interacted_datapoints.reset_index(inplace=True)\n",
    "df_unique_interacted_datapoints.head(1)"
   ]
  },
  {
   "cell_type": "markdown",
   "metadata": {},
   "source": [
    "### How many Datapoints were Hovered across Conditions?"
   ]
  },
  {
   "cell_type": "code",
   "execution_count": 46,
   "metadata": {},
   "outputs": [
    {
     "name": "stderr",
     "output_type": "stream",
     "text": [
      "/Users/curiosity/anaconda3/lib/python3.8/site-packages/numpy/core/_asarray.py:83: VisibleDeprecationWarning: Creating an ndarray from ragged nested sequences (which is a list-or-tuple of lists-or-tuples-or ndarrays with different lengths or shapes) is deprecated. If you meant to do this, you must specify 'dtype=object' when creating the ndarray\n",
      "  return array(a, dtype, copy=False, order=order)\n"
     ]
    },
    {
     "name": "stdout",
     "output_type": "stream",
     "text": [
      "         column experiment_mode   mean  median    std\n",
      "0  count_hovers            CTRL  31.46    25.0  21.44\n",
      "1  count_hovers              RT  67.18    66.0  38.11\n",
      "2  count_hovers           RTSUM  96.17    84.0  78.13\n",
      "3  count_hovers             SUM  60.36    49.5  43.85\n"
     ]
    },
    {
     "data": {
      "image/png": "[encoded data removed]",
      "text/plain": [
       "<Figure size 360x1440 with 8 Axes>"
      ]
     },
     "metadata": {
      "needs_background": "light"
     },
     "output_type": "display_data"
    }
   ],
   "source": [
    "columns = [\"count_hovers\"]\n",
    "by = [\"experiment_mode\"]\n",
    "filename=\"charts/basic_eda/politics/count_hovers.pdf\"\n",
    "custom_tick_boxplot(df=df_datapoint_stats_agg, \n",
    "                      by=by,\n",
    "                      columns=columns, \n",
    "                      filename=filename)"
   ]
  },
  {
   "cell_type": "markdown",
   "metadata": {},
   "source": [
    "### How many Datapoints were Clicked+Added across Conditions?"
   ]
  },
  {
   "cell_type": "code",
   "execution_count": 47,
   "metadata": {},
   "outputs": [
    {
     "name": "stderr",
     "output_type": "stream",
     "text": [
      "/Users/curiosity/anaconda3/lib/python3.8/site-packages/numpy/core/_asarray.py:83: VisibleDeprecationWarning: Creating an ndarray from ragged nested sequences (which is a list-or-tuple of lists-or-tuples-or ndarrays with different lengths or shapes) is deprecated. If you meant to do this, you must specify 'dtype=object' when creating the ndarray\n",
      "  return array(a, dtype, copy=False, order=order)\n"
     ]
    },
    {
     "name": "stdout",
     "output_type": "stream",
     "text": [
      "            column experiment_mode   mean  median   std\n",
      "0  count_click_add            CTRL  12.77      11  4.40\n",
      "1  count_click_add              RT  12.82      12  3.66\n",
      "2  count_click_add           RTSUM  13.67      12  5.52\n",
      "3  count_click_add             SUM  15.21      14  4.26\n"
     ]
    },
    {
     "data": {
      "image/png": "[encoded data removed]",
      "text/plain": [
       "<Figure size 360x1440 with 8 Axes>"
      ]
     },
     "metadata": {
      "needs_background": "light"
     },
     "output_type": "display_data"
    }
   ],
   "source": [
    "columns = [\"count_click_add\"]\n",
    "by = [\"experiment_mode\"]\n",
    "filename=\"charts/basic_eda/politics/count_click_add.pdf\"\n",
    "custom_tick_boxplot(df=df_datapoint_stats_agg, \n",
    "                      by=by,\n",
    "                      columns=columns, \n",
    "                      filename=filename)"
   ]
  },
  {
   "cell_type": "markdown",
   "metadata": {},
   "source": [
    "### How many Datapoints were Clicked+Removed across Conditions?"
   ]
  },
  {
   "cell_type": "code",
   "execution_count": 48,
   "metadata": {},
   "outputs": [
    {
     "name": "stderr",
     "output_type": "stream",
     "text": [
      "/Users/curiosity/anaconda3/lib/python3.8/site-packages/numpy/core/_asarray.py:83: VisibleDeprecationWarning: Creating an ndarray from ragged nested sequences (which is a list-or-tuple of lists-or-tuples-or ndarrays with different lengths or shapes) is deprecated. If you meant to do this, you must specify 'dtype=object' when creating the ndarray\n",
      "  return array(a, dtype, copy=False, order=order)\n"
     ]
    },
    {
     "name": "stdout",
     "output_type": "stream",
     "text": [
      "               column experiment_mode  mean  median   std\n",
      "0  count_click_remove            CTRL  1.85       1  3.24\n",
      "1  count_click_remove              RT  1.55       1  2.07\n",
      "2  count_click_remove           RTSUM  3.33       2  5.52\n",
      "3  count_click_remove             SUM  3.57       2  4.03\n"
     ]
    },
    {
     "data": {
      "image/png": "[encoded data removed]",
      "text/plain": [
       "<Figure size 360x1440 with 8 Axes>"
      ]
     },
     "metadata": {
      "needs_background": "light"
     },
     "output_type": "display_data"
    }
   ],
   "source": [
    "columns = [\"count_click_remove\"]\n",
    "by = [\"experiment_mode\"]\n",
    "filename=\"charts/basic_eda/politics/count_click_remove.pdf\"\n",
    "custom_tick_boxplot(df=df_datapoint_stats_agg, \n",
    "                      by=by,\n",
    "                      columns=columns, \n",
    "                      filename=filename)"
   ]
  },
  {
   "cell_type": "markdown",
   "metadata": {},
   "source": [
    "### How many Unique Datapoints interacted across Conditions?"
   ]
  },
  {
   "cell_type": "code",
   "execution_count": 49,
   "metadata": {},
   "outputs": [
    {
     "name": "stderr",
     "output_type": "stream",
     "text": [
      "/Users/curiosity/anaconda3/lib/python3.8/site-packages/numpy/core/_asarray.py:83: VisibleDeprecationWarning: Creating an ndarray from ragged nested sequences (which is a list-or-tuple of lists-or-tuples-or ndarrays with different lengths or shapes) is deprecated. If you meant to do this, you must specify 'dtype=object' when creating the ndarray\n",
      "  return array(a, dtype, copy=False, order=order)\n"
     ]
    },
    {
     "name": "stdout",
     "output_type": "stream",
     "text": [
      "                               column experiment_mode   mean  median    std\n",
      "0  no_of_unique_interacted_datapoints            CTRL  16.62    13.0   7.23\n",
      "1  no_of_unique_interacted_datapoints              RT  41.00    42.0  24.75\n",
      "2  no_of_unique_interacted_datapoints           RTSUM  47.25    34.5  34.49\n",
      "3  no_of_unique_interacted_datapoints             SUM  25.71    24.5  12.50\n"
     ]
    },
    {
     "data": {
      "image/png": "[encoded data removed]",
      "text/plain": [
       "<Figure size 360x1440 with 8 Axes>"
      ]
     },
     "metadata": {
      "needs_background": "light"
     },
     "output_type": "display_data"
    }
   ],
   "source": [
    "df_total_vs_unique_datapoints = df_unique_interacted_datapoints.merge(df_total_interacted_datapoints, on=[\"experiment_mode\", \"pid\"], how=\"inner\")\n",
    "df_total_vs_unique_datapoints[\"ratio_total_unique_interacted_datapoints\"] = df_total_vs_unique_datapoints[\"total_no_of_interacted_datapoints\"] / df_total_vs_unique_datapoints[\"no_of_unique_interacted_datapoints\"]\n",
    "df_total_vs_unique_datapoints.head(1)\n",
    "\n",
    "columns = [\"no_of_unique_interacted_datapoints\"]\n",
    "by = [\"experiment_mode\"]\n",
    "filename=\"charts/basic_eda/politics/unique-datapoints-across-condition.pdf\"\n",
    "custom_tick_boxplot(df=df_total_vs_unique_datapoints, \n",
    "                      by=by,\n",
    "                      columns=columns, \n",
    "                      filename=filename)"
   ]
  },
  {
   "cell_type": "markdown",
   "metadata": {},
   "source": [
    "### Ratio of Total and Unique Datapoints interacted across Conditions"
   ]
  },
  {
   "cell_type": "code",
   "execution_count": 50,
   "metadata": {
    "scrolled": false
   },
   "outputs": [
    {
     "name": "stderr",
     "output_type": "stream",
     "text": [
      "/Users/curiosity/anaconda3/lib/python3.8/site-packages/numpy/core/_asarray.py:83: VisibleDeprecationWarning: Creating an ndarray from ragged nested sequences (which is a list-or-tuple of lists-or-tuples-or ndarrays with different lengths or shapes) is deprecated. If you meant to do this, you must specify 'dtype=object' when creating the ndarray\n",
      "  return array(a, dtype, copy=False, order=order)\n"
     ]
    },
    {
     "name": "stdout",
     "output_type": "stream",
     "text": [
      "                                     column experiment_mode  mean  median  \\\n",
      "0  ratio_total_unique_interacted_datapoints            CTRL  1.84    1.64   \n",
      "1  ratio_total_unique_interacted_datapoints              RT  1.85    1.39   \n",
      "2  ratio_total_unique_interacted_datapoints           RTSUM  1.95    1.56   \n",
      "3  ratio_total_unique_interacted_datapoints             SUM  2.21    2.08   \n",
      "\n",
      "    std  \n",
      "0  0.86  \n",
      "1  1.02  \n",
      "2  1.05  \n",
      "3  0.78  \n"
     ]
    },
    {
     "data": {
      "image/png": "[encoded data removed]",
      "text/plain": [
       "<Figure size 360x1440 with 8 Axes>"
      ]
     },
     "metadata": {
      "needs_background": "light"
     },
     "output_type": "display_data"
    }
   ],
   "source": [
    "columns = [\"ratio_total_unique_interacted_datapoints\"]\n",
    "by = [\"experiment_mode\"]\n",
    "filename=\"charts/basic_eda/politics/ratio-total-unique-datapoints-across-condition.pdf\"\n",
    "custom_tick_boxplot(df=df_total_vs_unique_datapoints, \n",
    "                      by=by,\n",
    "                      columns=columns, \n",
    "                      filename=filename)"
   ]
  },
  {
   "cell_type": "markdown",
   "metadata": {},
   "source": [
    "## DPD and DPC (Wall et al.'s metrics)"
   ]
  },
  {
   "cell_type": "markdown",
   "metadata": {},
   "source": [
    "### FINAL"
   ]
  },
  {
   "cell_type": "code",
   "execution_count": 51,
   "metadata": {},
   "outputs": [],
   "source": [
    "df_dpc_dpd = df_attribute_stats[[\"experiment_mode\",\"pid\",\"dpc_metric_final\",\"dpd_metric_final\"]].groupby([\"experiment_mode\",\"pid\"]).first()\n",
    "df_dpc_dpd.reset_index(inplace=True)"
   ]
  },
  {
   "cell_type": "code",
   "execution_count": 52,
   "metadata": {},
   "outputs": [
    {
     "name": "stderr",
     "output_type": "stream",
     "text": [
      "/Users/curiosity/anaconda3/lib/python3.8/site-packages/numpy/core/_asarray.py:83: VisibleDeprecationWarning: Creating an ndarray from ragged nested sequences (which is a list-or-tuple of lists-or-tuples-or ndarrays with different lengths or shapes) is deprecated. If you meant to do this, you must specify 'dtype=object' when creating the ndarray\n",
      "  return array(a, dtype, copy=False, order=order)\n"
     ]
    },
    {
     "name": "stdout",
     "output_type": "stream",
     "text": [
      "             column experiment_mode  mean  median   std\n",
      "0  dpc_metric_final            CTRL  0.56    0.53  0.12\n",
      "1  dpc_metric_final              RT  0.38    0.41  0.23\n",
      "2  dpc_metric_final           RTSUM  0.40    0.41  0.18\n",
      "3  dpc_metric_final             SUM  0.57    0.57  0.11\n"
     ]
    },
    {
     "data": {
      "image/png": "[encoded data removed]",
      "text/plain": [
       "<Figure size 360x1440 with 8 Axes>"
      ]
     },
     "metadata": {
      "needs_background": "light"
     },
     "output_type": "display_data"
    }
   ],
   "source": [
    "columns = [\"dpc_metric_final\"]\n",
    "by = [\"experiment_mode\"]\n",
    "filename=\"charts/basic_eda/politics/dpc-metric-final-by-condition.pdf\"\n",
    "custom_bias_boxplot(df=df_dpc_dpd, \n",
    "                      by=by,\n",
    "                      columns=columns, \n",
    "                      filename=filename)"
   ]
  },
  {
   "cell_type": "code",
   "execution_count": 53,
   "metadata": {},
   "outputs": [
    {
     "name": "stderr",
     "output_type": "stream",
     "text": [
      "/Users/curiosity/anaconda3/lib/python3.8/site-packages/numpy/core/_asarray.py:83: VisibleDeprecationWarning: Creating an ndarray from ragged nested sequences (which is a list-or-tuple of lists-or-tuples-or ndarrays with different lengths or shapes) is deprecated. If you meant to do this, you must specify 'dtype=object' when creating the ndarray\n",
      "  return array(a, dtype, copy=False, order=order)\n"
     ]
    },
    {
     "name": "stdout",
     "output_type": "stream",
     "text": [
      "             column experiment_mode  mean  median  std\n",
      "0  dpd_metric_final            CTRL   1.0     1.0  0.0\n",
      "1  dpd_metric_final              RT   1.0     1.0  0.0\n",
      "2  dpd_metric_final           RTSUM   1.0     1.0  0.0\n",
      "3  dpd_metric_final             SUM   1.0     1.0  0.0\n"
     ]
    },
    {
     "data": {
      "image/png": "[encoded data removed]",
      "text/plain": [
       "<Figure size 360x1440 with 8 Axes>"
      ]
     },
     "metadata": {
      "needs_background": "light"
     },
     "output_type": "display_data"
    }
   ],
   "source": [
    "columns = [\"dpd_metric_final\"]\n",
    "by = [\"experiment_mode\"]\n",
    "filename=\"charts/basic_eda/politics/dpd-metric-final-by-condition.pdf\"\n",
    "custom_bias_boxplot(df=df_dpc_dpd, \n",
    "                      by=by,\n",
    "                      columns=columns, \n",
    "                      filename=filename)\n"
   ]
  },
  {
   "cell_type": "markdown",
   "metadata": {},
   "source": [
    "### Average"
   ]
  },
  {
   "cell_type": "code",
   "execution_count": 54,
   "metadata": {},
   "outputs": [],
   "source": [
    "df_dpc_dpd = df_attribute_stats[[\"experiment_mode\",\"pid\",\"dpc_metric_avg\",\"dpd_metric_avg\"]].groupby([\"experiment_mode\",\"pid\"]).first()\n",
    "df_dpc_dpd.reset_index(inplace=True)"
   ]
  },
  {
   "cell_type": "code",
   "execution_count": 55,
   "metadata": {},
   "outputs": [
    {
     "name": "stderr",
     "output_type": "stream",
     "text": [
      "/Users/curiosity/anaconda3/lib/python3.8/site-packages/numpy/core/_asarray.py:83: VisibleDeprecationWarning: Creating an ndarray from ragged nested sequences (which is a list-or-tuple of lists-or-tuples-or ndarrays with different lengths or shapes) is deprecated. If you meant to do this, you must specify 'dtype=object' when creating the ndarray\n",
      "  return array(a, dtype, copy=False, order=order)\n"
     ]
    },
    {
     "name": "stdout",
     "output_type": "stream",
     "text": [
      "           column experiment_mode  mean  median   std\n",
      "0  dpc_metric_avg            CTRL  0.38    0.35  0.13\n",
      "1  dpc_metric_avg              RT  0.31    0.31  0.14\n",
      "2  dpc_metric_avg           RTSUM  0.31    0.29  0.12\n",
      "3  dpc_metric_avg             SUM  0.46    0.49  0.11\n"
     ]
    },
    {
     "data": {
      "image/png": "[encoded data removed]",
      "text/plain": [
       "<Figure size 360x1440 with 8 Axes>"
      ]
     },
     "metadata": {
      "needs_background": "light"
     },
     "output_type": "display_data"
    }
   ],
   "source": [
    "columns = [\"dpc_metric_avg\"]\n",
    "by = [\"experiment_mode\"]\n",
    "filename=\"charts/basic_eda/politics/dpc-metric-avg-by-condition.pdf\"\n",
    "custom_bias_boxplot(df=df_dpc_dpd, \n",
    "                      by=by,\n",
    "                      columns=columns, \n",
    "                      filename=filename)"
   ]
  },
  {
   "cell_type": "code",
   "execution_count": 56,
   "metadata": {},
   "outputs": [
    {
     "name": "stderr",
     "output_type": "stream",
     "text": [
      "/Users/curiosity/anaconda3/lib/python3.8/site-packages/numpy/core/_asarray.py:83: VisibleDeprecationWarning: Creating an ndarray from ragged nested sequences (which is a list-or-tuple of lists-or-tuples-or ndarrays with different lengths or shapes) is deprecated. If you meant to do this, you must specify 'dtype=object' when creating the ndarray\n",
      "  return array(a, dtype, copy=False, order=order)\n"
     ]
    },
    {
     "name": "stdout",
     "output_type": "stream",
     "text": [
      "           column experiment_mode  mean  median   std\n",
      "0  dpd_metric_avg            CTRL  0.76    0.76  0.10\n",
      "1  dpd_metric_avg              RT  0.83    0.86  0.10\n",
      "2  dpd_metric_avg           RTSUM  0.83    0.88  0.13\n",
      "3  dpd_metric_avg             SUM  0.84    0.86  0.09\n"
     ]
    },
    {
     "data": {
      "image/png": "[encoded data removed]",
      "text/plain": [
       "<Figure size 360x1440 with 8 Axes>"
      ]
     },
     "metadata": {
      "needs_background": "light"
     },
     "output_type": "display_data"
    }
   ],
   "source": [
    "columns = [\"dpd_metric_avg\"]\n",
    "by = [\"experiment_mode\"]\n",
    "filename=\"charts/basic_eda/politics/dpd-metric-avg-by-condition.pdf\"\n",
    "custom_bias_boxplot(df=df_dpc_dpd, \n",
    "                      by=by,\n",
    "                      columns=columns, \n",
    "                      filename=filename)\n"
   ]
  },
  {
   "cell_type": "code",
   "execution_count": null,
   "metadata": {},
   "outputs": [],
   "source": []
  },
  {
   "cell_type": "markdown",
   "metadata": {},
   "source": []
  },
  {
   "cell_type": "markdown",
   "metadata": {},
   "source": []
  },
  {
   "cell_type": "markdown",
   "metadata": {},
   "source": []
  },
  {
   "cell_type": "markdown",
   "metadata": {},
   "source": [
    "# Post-Survey-Movies"
   ]
  },
  {
   "cell_type": "code",
   "execution_count": 57,
   "metadata": {},
   "outputs": [],
   "source": [
    "df_post_study_survey = pd.DataFrame()\n",
    "for experiment_mode in experiment_modes:\n",
    "    survey_file = f\"Qualtrics/CLEAN/Post-Survey-Movies-{experiment_mode}.xlsx\"\n",
    "    _df = pd.read_excel(survey_file)\n",
    "    _df[\"experiment_mode\"] = experiment_mode\n",
    "    df_post_study_survey = df_post_study_survey.append(_df)\n",
    "    \n",
    "df_post_study_survey.rename(columns={\n",
    "    \"LRG ID\": \"ID\",\n",
    "    \"ID - Final\": \"PID\",\n",
    "    \"How useful did you find the SCATTERPLOT VIEW in the interface to be? - Not at all useful:Very useful\": \"SCATTERPLOT VIEW\",\n",
    "    \"How useful did you find the DETAIL VIEW in the interface to be? - Not at all useful:Very useful\": \"DETAIL VIEW\",\n",
    "    \"How useful did you find the FILTER VIEW in the interface to be? - Not at all useful:Very useful\": \"FILTER VIEW\",\n",
    "    \"How useful did you find the SELECTED MOVIES LIST in the interface to be? - Not at all useful:Very useful\": \"SELECTED COMMITTEE LIST\",\n",
    "    \"How useful did you find the SUMMATIVE VISUALIZATION in the interface to be after your revised movies submission? - Not at all useful:Very useful\": \"SUMMATIVE VISUALIZATION-After Revision\",\n",
    "    \"How useful did you find the COLORING OF DATA POINTS in the SCATTERPLOT VIEW to be? - Not at all useful:Very useful\": \"IN-SITU INTERACTION TRACES\",\n",
    "    \"How useful did you find the DISTRIBUTION PANEL in the interface to be? - Not at all useful:Very Useful\": \"EX-SITU INTERACTION TRACES\",\n",
    "    \"How useful did you find the SUMMATIVE VISUALIZATION in the interface to be after your initial movies submission? - Not at all useful:Very useful\": \"SUMMATIVE VISUALIZATION-After Initial Selection\"    \n",
    "}, inplace=True)"
   ]
  },
  {
   "cell_type": "code",
   "execution_count": 58,
   "metadata": {},
   "outputs": [
    {
     "data": {
      "text/plain": [
       "Index(['Recorded Date', 'Duration (in seconds)', 'PID', 'ID',\n",
       "       'What was your criteria for selecting movies?', 'SCATTERPLOT VIEW',\n",
       "       'DETAIL VIEW', 'FILTER VIEW',\n",
       "       'Please choose option 5 (Very useful) for this question. - Not at all useful:Very useful',\n",
       "       'SELECTED COMMITTEE LIST', 'SUMMATIVE VISUALIZATION-After Revision',\n",
       "       'experiment_mode', 'SUMMATIVE VISUALIZATION-After Initial Selection',\n",
       "       'IN-SITU INTERACTION TRACES', 'EX-SITU INTERACTION TRACES'],\n",
       "      dtype='object')"
      ]
     },
     "execution_count": 58,
     "metadata": {},
     "output_type": "execute_result"
    }
   ],
   "source": [
    "df_post_study_survey.columns"
   ]
  },
  {
   "cell_type": "markdown",
   "metadata": {},
   "source": [
    "### Usefulness scores of different Lumos views experienced by both Control and Awareness conditions'"
   ]
  },
  {
   "cell_type": "code",
   "execution_count": 59,
   "metadata": {
    "scrolled": false
   },
   "outputs": [
    {
     "name": "stderr",
     "output_type": "stream",
     "text": [
      "/Users/curiosity/anaconda3/lib/python3.8/site-packages/numpy/core/_asarray.py:83: VisibleDeprecationWarning: Creating an ndarray from ragged nested sequences (which is a list-or-tuple of lists-or-tuples-or ndarrays with different lengths or shapes) is deprecated. If you meant to do this, you must specify 'dtype=object' when creating the ndarray\n",
      "  return array(a, dtype, copy=False, order=order)\n",
      "/Users/curiosity/anaconda3/lib/python3.8/site-packages/numpy/core/_asarray.py:83: VisibleDeprecationWarning: Creating an ndarray from ragged nested sequences (which is a list-or-tuple of lists-or-tuples-or ndarrays with different lengths or shapes) is deprecated. If you meant to do this, you must specify 'dtype=object' when creating the ndarray\n",
      "  return array(a, dtype, copy=False, order=order)\n",
      "/Users/curiosity/anaconda3/lib/python3.8/site-packages/numpy/core/_asarray.py:83: VisibleDeprecationWarning: Creating an ndarray from ragged nested sequences (which is a list-or-tuple of lists-or-tuples-or ndarrays with different lengths or shapes) is deprecated. If you meant to do this, you must specify 'dtype=object' when creating the ndarray\n",
      "  return array(a, dtype, copy=False, order=order)\n",
      "/Users/curiosity/anaconda3/lib/python3.8/site-packages/numpy/core/_asarray.py:83: VisibleDeprecationWarning: Creating an ndarray from ragged nested sequences (which is a list-or-tuple of lists-or-tuples-or ndarrays with different lengths or shapes) is deprecated. If you meant to do this, you must specify 'dtype=object' when creating the ndarray\n",
      "  return array(a, dtype, copy=False, order=order)\n",
      "/Users/curiosity/anaconda3/lib/python3.8/site-packages/numpy/core/_asarray.py:83: VisibleDeprecationWarning: Creating an ndarray from ragged nested sequences (which is a list-or-tuple of lists-or-tuples-or ndarrays with different lengths or shapes) is deprecated. If you meant to do this, you must specify 'dtype=object' when creating the ndarray\n",
      "  return array(a, dtype, copy=False, order=order)\n",
      "/Users/curiosity/anaconda3/lib/python3.8/site-packages/numpy/core/_asarray.py:83: VisibleDeprecationWarning: Creating an ndarray from ragged nested sequences (which is a list-or-tuple of lists-or-tuples-or ndarrays with different lengths or shapes) is deprecated. If you meant to do this, you must specify 'dtype=object' when creating the ndarray\n",
      "  return array(a, dtype, copy=False, order=order)\n",
      "/Users/curiosity/anaconda3/lib/python3.8/site-packages/numpy/core/_asarray.py:83: VisibleDeprecationWarning: Creating an ndarray from ragged nested sequences (which is a list-or-tuple of lists-or-tuples-or ndarrays with different lengths or shapes) is deprecated. If you meant to do this, you must specify 'dtype=object' when creating the ndarray\n",
      "  return array(a, dtype, copy=False, order=order)\n",
      "/Users/curiosity/anaconda3/lib/python3.8/site-packages/numpy/core/_asarray.py:83: VisibleDeprecationWarning: Creating an ndarray from ragged nested sequences (which is a list-or-tuple of lists-or-tuples-or ndarrays with different lengths or shapes) is deprecated. If you meant to do this, you must specify 'dtype=object' when creating the ndarray\n",
      "  return array(a, dtype, copy=False, order=order)\n"
     ]
    },
    {
     "name": "stdout",
     "output_type": "stream",
     "text": [
      "                                             column experiment_mode  mean  \\\n",
      "0                                  SCATTERPLOT VIEW            CTRL  4.23   \n",
      "1                                  SCATTERPLOT VIEW              RT  4.00   \n",
      "2                                  SCATTERPLOT VIEW           RTSUM  4.25   \n",
      "3                                  SCATTERPLOT VIEW             SUM  4.07   \n",
      "4                                       DETAIL VIEW            CTRL  4.00   \n",
      "5                                       DETAIL VIEW              RT  4.27   \n",
      "6                                       DETAIL VIEW           RTSUM  3.92   \n",
      "7                                       DETAIL VIEW             SUM  4.07   \n",
      "8                                       FILTER VIEW            CTRL  3.69   \n",
      "9                                       FILTER VIEW              RT  3.91   \n",
      "10                                      FILTER VIEW           RTSUM  3.25   \n",
      "11                                      FILTER VIEW             SUM  3.57   \n",
      "12                          SELECTED COMMITTEE LIST            CTRL  4.15   \n",
      "13                          SELECTED COMMITTEE LIST              RT  3.55   \n",
      "14                          SELECTED COMMITTEE LIST           RTSUM  3.33   \n",
      "15                          SELECTED COMMITTEE LIST             SUM  3.21   \n",
      "16                       IN-SITU INTERACTION TRACES            CTRL   NaN   \n",
      "17                       IN-SITU INTERACTION TRACES              RT  3.64   \n",
      "18                       IN-SITU INTERACTION TRACES           RTSUM  3.75   \n",
      "19                       IN-SITU INTERACTION TRACES             SUM   NaN   \n",
      "20                       EX-SITU INTERACTION TRACES            CTRL   NaN   \n",
      "21                       EX-SITU INTERACTION TRACES              RT  3.45   \n",
      "22                       EX-SITU INTERACTION TRACES           RTSUM  3.00   \n",
      "23                       EX-SITU INTERACTION TRACES             SUM   NaN   \n",
      "24  SUMMATIVE VISUALIZATION-After Initial Selection            CTRL   NaN   \n",
      "25  SUMMATIVE VISUALIZATION-After Initial Selection              RT   NaN   \n",
      "26  SUMMATIVE VISUALIZATION-After Initial Selection           RTSUM  3.25   \n",
      "27  SUMMATIVE VISUALIZATION-After Initial Selection             SUM  3.57   \n",
      "28           SUMMATIVE VISUALIZATION-After Revision            CTRL  3.69   \n",
      "29           SUMMATIVE VISUALIZATION-After Revision              RT  3.73   \n",
      "30           SUMMATIVE VISUALIZATION-After Revision           RTSUM   NaN   \n",
      "31           SUMMATIVE VISUALIZATION-After Revision             SUM   NaN   \n",
      "\n",
      "    median   std  \n",
      "0      5.0  1.01  \n",
      "1      5.0  1.34  \n",
      "2      4.0  0.87  \n",
      "3      4.0  0.73  \n",
      "4      4.0  0.91  \n",
      "5      5.0  1.01  \n",
      "6      4.0  1.16  \n",
      "7      4.0  1.00  \n",
      "8      4.0  1.32  \n",
      "9      5.0  1.51  \n",
      "10     3.0  1.06  \n",
      "11     4.0  1.02  \n",
      "12     5.0  1.28  \n",
      "13     4.0  1.44  \n",
      "14     3.0  0.98  \n",
      "15     3.0  1.19  \n",
      "16     NaN   NaN  \n",
      "17     4.0  1.57  \n",
      "18     4.0  1.14  \n",
      "19     NaN   NaN  \n",
      "20     NaN   NaN  \n",
      "21     4.0  1.51  \n",
      "22     3.0  1.13  \n",
      "23     NaN   NaN  \n",
      "24     NaN   NaN  \n",
      "25     NaN   NaN  \n",
      "26     3.0  1.36  \n",
      "27     4.0  1.28  \n",
      "28     4.0  1.18  \n",
      "29     4.0  1.42  \n",
      "30     NaN   NaN  \n",
      "31     NaN   NaN  \n"
     ]
    },
    {
     "data": {
      "image/png": "[encoded data removed]",
      "text/plain": [
       "<Figure size 208.8x864 with 8 Axes>"
      ]
     },
     "metadata": {
      "needs_background": "light"
     },
     "output_type": "display_data"
    }
   ],
   "source": [
    "columns = [\n",
    "    \"SCATTERPLOT VIEW\",\n",
    "    \"DETAIL VIEW\",\n",
    "    \"FILTER VIEW\",\n",
    "    \"SELECTED COMMITTEE LIST\",\n",
    "    \"IN-SITU INTERACTION TRACES\",\n",
    "    \"EX-SITU INTERACTION TRACES\",\n",
    "    \"SUMMATIVE VISUALIZATION-After Initial Selection\",\n",
    "    \"SUMMATIVE VISUALIZATION-After Revision\",\n",
    "]\n",
    "by = [\"experiment_mode\"]\n",
    "filename=\"charts/basic_eda/movies/usefulness-scores-ui-features.pdf\"\n",
    "subfigure_boxplot(df=df_post_study_survey, \n",
    "                          by=by,\n",
    "                          columns=columns, \n",
    "                          filename=filename)"
   ]
  },
  {
   "cell_type": "markdown",
   "metadata": {},
   "source": [
    "## Summary plots - Attribute"
   ]
  },
  {
   "cell_type": "markdown",
   "metadata": {},
   "source": [
    "#### Create a combined DF with both Control and Awareness"
   ]
  },
  {
   "cell_type": "code",
   "execution_count": 60,
   "metadata": {},
   "outputs": [],
   "source": [
    "df_attribute_stats = pd.DataFrame()\n",
    "for experiment_mode in experiment_modes:\n",
    "    inputfile_attribute_stats = f\"{experiment_mode}/all_{experiment_mode}_movies_attr_stats.csv\"\n",
    "    _df = pd.read_csv(inputfile_attribute_stats, sep=\",\")\n",
    "    _df[\"experiment_mode\"] = experiment_mode\n",
    "    df_attribute_stats = df_attribute_stats.append(_df)\n",
    "    \n",
    "df_attribute_stats[\"total_attribute_interactions\"] = df_attribute_stats[\"count_encode_changed\"] + df_attribute_stats[\"count_filter_changed\"] + df_attribute_stats[\"count_dist_card_click\"]"
   ]
  },
  {
   "cell_type": "markdown",
   "metadata": {},
   "source": [
    "### Which Condition clicked more on the Distribution Panel Cards?"
   ]
  },
  {
   "cell_type": "code",
   "execution_count": 61,
   "metadata": {},
   "outputs": [
    {
     "name": "stderr",
     "output_type": "stream",
     "text": [
      "/Users/curiosity/anaconda3/lib/python3.8/site-packages/numpy/core/_asarray.py:83: VisibleDeprecationWarning: Creating an ndarray from ragged nested sequences (which is a list-or-tuple of lists-or-tuples-or ndarrays with different lengths or shapes) is deprecated. If you meant to do this, you must specify 'dtype=object' when creating the ndarray\n",
      "  return array(a, dtype, copy=False, order=order)\n"
     ]
    },
    {
     "name": "stdout",
     "output_type": "stream",
     "text": [
      "                  column experiment_mode  mean  median   std\n",
      "0  count_dist_card_click            CTRL  0.00       0  0.00\n",
      "1  count_dist_card_click              RT  0.35       0  0.73\n",
      "2  count_dist_card_click           RTSUM  0.23       0  0.59\n",
      "3  count_dist_card_click             SUM  0.00       0  0.00\n"
     ]
    },
    {
     "data": {
      "image/png": "[encoded data removed]",
      "text/plain": [
       "<Figure size 360x1440 with 8 Axes>"
      ]
     },
     "metadata": {
      "needs_background": "light"
     },
     "output_type": "display_data"
    }
   ],
   "source": [
    "columns = [\"count_dist_card_click\"]\n",
    "by = [\"experiment_mode\"]\n",
    "filename=\"charts/basic_eda/movies/count_distribution_card_changed.pdf\"\n",
    "custom_tick_boxplot(df=df_attribute_stats, \n",
    "                      by=by,\n",
    "                      columns=columns, \n",
    "                      filename=filename)"
   ]
  },
  {
   "cell_type": "markdown",
   "metadata": {},
   "source": [
    "### Which Condition _changed_ more attribute Filters?"
   ]
  },
  {
   "cell_type": "code",
   "execution_count": 62,
   "metadata": {
    "scrolled": true
   },
   "outputs": [
    {
     "name": "stderr",
     "output_type": "stream",
     "text": [
      "/Users/curiosity/anaconda3/lib/python3.8/site-packages/numpy/core/_asarray.py:83: VisibleDeprecationWarning: Creating an ndarray from ragged nested sequences (which is a list-or-tuple of lists-or-tuples-or ndarrays with different lengths or shapes) is deprecated. If you meant to do this, you must specify 'dtype=object' when creating the ndarray\n",
      "  return array(a, dtype, copy=False, order=order)\n"
     ]
    },
    {
     "name": "stdout",
     "output_type": "stream",
     "text": [
      "                 column experiment_mode  mean  median   std\n",
      "0  count_filter_changed            CTRL  1.14       0  2.34\n",
      "1  count_filter_changed              RT  0.92       0  2.63\n",
      "2  count_filter_changed           RTSUM  2.08       0  5.54\n",
      "3  count_filter_changed             SUM  1.29       0  2.46\n"
     ]
    },
    {
     "data": {
      "image/png": "[encoded data removed]",
      "text/plain": [
       "<Figure size 360x1440 with 8 Axes>"
      ]
     },
     "metadata": {
      "needs_background": "light"
     },
     "output_type": "display_data"
    }
   ],
   "source": [
    "columns = [\"count_filter_changed\"]\n",
    "by = [\"experiment_mode\"]\n",
    "filename=\"charts/basic_eda/movies/count_filter_changed.pdf\"\n",
    "custom_tick_boxplot(df=df_attribute_stats, \n",
    "                      by=by,\n",
    "                      columns=columns, \n",
    "                      filename=filename)"
   ]
  },
  {
   "cell_type": "markdown",
   "metadata": {},
   "source": [
    "### Which Condition _changed_ more attributes as  Encodings?"
   ]
  },
  {
   "cell_type": "code",
   "execution_count": 63,
   "metadata": {},
   "outputs": [
    {
     "name": "stderr",
     "output_type": "stream",
     "text": [
      "/Users/curiosity/anaconda3/lib/python3.8/site-packages/numpy/core/_asarray.py:83: VisibleDeprecationWarning: Creating an ndarray from ragged nested sequences (which is a list-or-tuple of lists-or-tuples-or ndarrays with different lengths or shapes) is deprecated. If you meant to do this, you must specify 'dtype=object' when creating the ndarray\n",
      "  return array(a, dtype, copy=False, order=order)\n"
     ]
    },
    {
     "name": "stdout",
     "output_type": "stream",
     "text": [
      "                 column experiment_mode  mean  median   std\n",
      "0  count_encode_changed            CTRL  0.74       0  1.41\n",
      "1  count_encode_changed              RT  0.49       0  0.91\n",
      "2  count_encode_changed           RTSUM  0.80       0  1.58\n",
      "3  count_encode_changed             SUM  1.12       0  2.50\n"
     ]
    },
    {
     "data": {
      "image/png": "[encoded data removed]",
      "text/plain": [
       "<Figure size 360x1440 with 8 Axes>"
      ]
     },
     "metadata": {
      "needs_background": "light"
     },
     "output_type": "display_data"
    }
   ],
   "source": [
    "columns = [\"count_encode_changed\"]\n",
    "by = [\"experiment_mode\"]\n",
    "filename=\"charts/basic_eda/movies/count_encode_changed.pdf\"\n",
    "custom_tick_boxplot(df=df_attribute_stats, \n",
    "                      by=by,\n",
    "                      columns=columns, \n",
    "                      filename=filename)"
   ]
  },
  {
   "cell_type": "markdown",
   "metadata": {},
   "source": [
    "### Which Condition _changed_ more attributes as  Encodings + Filters + Distribution Card Clicks?"
   ]
  },
  {
   "cell_type": "code",
   "execution_count": 64,
   "metadata": {},
   "outputs": [
    {
     "name": "stderr",
     "output_type": "stream",
     "text": [
      "/Users/curiosity/anaconda3/lib/python3.8/site-packages/numpy/core/_asarray.py:83: VisibleDeprecationWarning: Creating an ndarray from ragged nested sequences (which is a list-or-tuple of lists-or-tuples-or ndarrays with different lengths or shapes) is deprecated. If you meant to do this, you must specify 'dtype=object' when creating the ndarray\n",
      "  return array(a, dtype, copy=False, order=order)\n"
     ]
    },
    {
     "name": "stdout",
     "output_type": "stream",
     "text": [
      "                         column experiment_mode  mean  median   std\n",
      "0  total_attribute_interactions            CTRL  1.88       1  2.64\n",
      "1  total_attribute_interactions              RT  1.77       1  2.86\n",
      "2  total_attribute_interactions           RTSUM  3.11       1  5.63\n",
      "3  total_attribute_interactions             SUM  2.41       1  3.23\n"
     ]
    },
    {
     "data": {
      "image/png": "[encoded data removed]",
      "text/plain": [
       "<Figure size 360x1440 with 8 Axes>"
      ]
     },
     "metadata": {
      "needs_background": "light"
     },
     "output_type": "display_data"
    }
   ],
   "source": [
    "columns = [\"total_attribute_interactions\"]\n",
    "by = [\"experiment_mode\"]\n",
    "filename=\"charts/basic_eda/movies/total_attribute_interactions.pdf\"\n",
    "custom_tick_boxplot(df=df_attribute_stats, \n",
    "                      by=by,\n",
    "                      columns=columns, \n",
    "                      filename=filename)"
   ]
  },
  {
   "cell_type": "markdown",
   "metadata": {},
   "source": [
    "### AC final and avg"
   ]
  },
  {
   "cell_type": "code",
   "execution_count": 65,
   "metadata": {},
   "outputs": [
    {
     "name": "stderr",
     "output_type": "stream",
     "text": [
      "/Users/curiosity/anaconda3/lib/python3.8/site-packages/numpy/core/_asarray.py:83: VisibleDeprecationWarning: Creating an ndarray from ragged nested sequences (which is a list-or-tuple of lists-or-tuples-or ndarrays with different lengths or shapes) is deprecated. If you meant to do this, you must specify 'dtype=object' when creating the ndarray\n",
      "  return array(a, dtype, copy=False, order=order)\n"
     ]
    },
    {
     "name": "stdout",
     "output_type": "stream",
     "text": [
      "            column experiment_mode  mean  median   std\n",
      "0  ac_metric_final            CTRL  0.17    0.09  0.20\n",
      "1  ac_metric_final              RT  0.13    0.00  0.21\n",
      "2  ac_metric_final           RTSUM  0.11    0.00  0.18\n",
      "3  ac_metric_final             SUM  0.22    0.12  0.27\n"
     ]
    },
    {
     "data": {
      "image/png": "[encoded data removed]",
      "text/plain": [
       "<Figure size 360x1440 with 8 Axes>"
      ]
     },
     "metadata": {
      "needs_background": "light"
     },
     "output_type": "display_data"
    }
   ],
   "source": [
    "columns = [\"ac_metric_final\"]\n",
    "by = [\"experiment_mode\"]\n",
    "filename=\"charts/basic_eda/movies/ac_metric_final.pdf\"\n",
    "custom_bias_boxplot(df=df_attribute_stats, \n",
    "                      by=by,\n",
    "                      columns=columns, \n",
    "                      filename=filename)"
   ]
  },
  {
   "cell_type": "code",
   "execution_count": 66,
   "metadata": {},
   "outputs": [
    {
     "name": "stderr",
     "output_type": "stream",
     "text": [
      "/Users/curiosity/anaconda3/lib/python3.8/site-packages/numpy/core/_asarray.py:83: VisibleDeprecationWarning: Creating an ndarray from ragged nested sequences (which is a list-or-tuple of lists-or-tuples-or ndarrays with different lengths or shapes) is deprecated. If you meant to do this, you must specify 'dtype=object' when creating the ndarray\n",
      "  return array(a, dtype, copy=False, order=order)\n"
     ]
    },
    {
     "name": "stdout",
     "output_type": "stream",
     "text": [
      "          column experiment_mode  mean  median   std\n",
      "0  ac_metric_avg            CTRL  0.18    0.18  0.15\n",
      "1  ac_metric_avg              RT  0.17    0.10  0.17\n",
      "2  ac_metric_avg           RTSUM  0.12    0.05  0.15\n",
      "3  ac_metric_avg             SUM  0.21    0.15  0.21\n"
     ]
    },
    {
     "data": {
      "image/png": "[encoded data removed]",
      "text/plain": [
       "<Figure size 360x1440 with 8 Axes>"
      ]
     },
     "metadata": {
      "needs_background": "light"
     },
     "output_type": "display_data"
    }
   ],
   "source": [
    "columns = [\"ac_metric_avg\"]\n",
    "by = [\"experiment_mode\"]\n",
    "filename=\"charts/basic_eda/movies/ac_metric_avg.pdf\"\n",
    "custom_bias_boxplot(df=df_attribute_stats, \n",
    "                      by=by,\n",
    "                      columns=columns, \n",
    "                      filename=filename)"
   ]
  },
  {
   "cell_type": "markdown",
   "metadata": {},
   "source": [
    "### AD final and avg"
   ]
  },
  {
   "cell_type": "code",
   "execution_count": 67,
   "metadata": {},
   "outputs": [
    {
     "name": "stderr",
     "output_type": "stream",
     "text": [
      "/Users/curiosity/anaconda3/lib/python3.8/site-packages/numpy/core/_asarray.py:83: VisibleDeprecationWarning: Creating an ndarray from ragged nested sequences (which is a list-or-tuple of lists-or-tuples-or ndarrays with different lengths or shapes) is deprecated. If you meant to do this, you must specify 'dtype=object' when creating the ndarray\n",
      "  return array(a, dtype, copy=False, order=order)\n"
     ]
    },
    {
     "name": "stdout",
     "output_type": "stream",
     "text": [
      "            column experiment_mode  mean  median   std\n",
      "0  ad_metric_final            CTRL  0.55    0.46  0.34\n",
      "1  ad_metric_final              RT  0.54    0.43  0.36\n",
      "2  ad_metric_final           RTSUM  0.49    0.34  0.38\n",
      "3  ad_metric_final             SUM  0.58    0.46  0.36\n"
     ]
    },
    {
     "data": {
      "image/png": "[encoded data removed]",
      "text/plain": [
       "<Figure size 360x1440 with 8 Axes>"
      ]
     },
     "metadata": {
      "needs_background": "light"
     },
     "output_type": "display_data"
    }
   ],
   "source": [
    "columns = [\"ad_metric_final\"]\n",
    "by = [\"experiment_mode\"]\n",
    "filename=\"charts/basic_eda/movies/ad_metric_final.pdf\"\n",
    "custom_bias_boxplot(df=df_attribute_stats, \n",
    "                      by=by,\n",
    "                      columns=columns, \n",
    "                      filename=filename)"
   ]
  },
  {
   "cell_type": "code",
   "execution_count": 68,
   "metadata": {},
   "outputs": [
    {
     "name": "stderr",
     "output_type": "stream",
     "text": [
      "/Users/curiosity/anaconda3/lib/python3.8/site-packages/numpy/core/_asarray.py:83: VisibleDeprecationWarning: Creating an ndarray from ragged nested sequences (which is a list-or-tuple of lists-or-tuples-or ndarrays with different lengths or shapes) is deprecated. If you meant to do this, you must specify 'dtype=object' when creating the ndarray\n",
      "  return array(a, dtype, copy=False, order=order)\n"
     ]
    },
    {
     "name": "stdout",
     "output_type": "stream",
     "text": [
      "          column experiment_mode  mean  median   std\n",
      "0  ad_metric_avg            CTRL  0.40    0.32  0.24\n",
      "1  ad_metric_avg              RT  0.48    0.41  0.27\n",
      "2  ad_metric_avg           RTSUM  0.42    0.34  0.26\n",
      "3  ad_metric_avg             SUM  0.48    0.41  0.28\n"
     ]
    },
    {
     "data": {
      "image/png": "[encoded data removed]",
      "text/plain": [
       "<Figure size 360x1440 with 8 Axes>"
      ]
     },
     "metadata": {
      "needs_background": "light"
     },
     "output_type": "display_data"
    }
   ],
   "source": [
    "columns = [\"ad_metric_avg\"]\n",
    "by = [\"experiment_mode\"]\n",
    "filename=\"charts/basic_eda/movies/ad_metric_avg.pdf\"\n",
    "custom_bias_boxplot(df=df_attribute_stats, \n",
    "                      by=by,\n",
    "                      columns=columns, \n",
    "                      filename=filename)"
   ]
  },
  {
   "cell_type": "markdown",
   "metadata": {},
   "source": [
    "## AD and AC for different Attributes Across Conditions"
   ]
  },
  {
   "cell_type": "markdown",
   "metadata": {},
   "source": [
    "## Final"
   ]
  },
  {
   "cell_type": "code",
   "execution_count": 69,
   "metadata": {},
   "outputs": [
    {
     "data": {
      "text/html": [
       "<div>\n",
       "<style scoped>\n",
       "    .dataframe tbody tr th:only-of-type {\n",
       "        vertical-align: middle;\n",
       "    }\n",
       "\n",
       "    .dataframe tbody tr th {\n",
       "        vertical-align: top;\n",
       "    }\n",
       "\n",
       "    .dataframe thead th {\n",
       "        text-align: right;\n",
       "    }\n",
       "</style>\n",
       "<table border=\"1\" class=\"dataframe\">\n",
       "  <thead>\n",
       "    <tr style=\"text-align: right;\">\n",
       "      <th></th>\n",
       "      <th>experiment_mode</th>\n",
       "      <th>attribute</th>\n",
       "      <th>avg_ad</th>\n",
       "      <th>avg_ac</th>\n",
       "    </tr>\n",
       "  </thead>\n",
       "  <tbody>\n",
       "    <tr>\n",
       "      <th>0</th>\n",
       "      <td>CTRL</td>\n",
       "      <td>Content Rating</td>\n",
       "      <td>0.947062</td>\n",
       "      <td>0.288208</td>\n",
       "    </tr>\n",
       "  </tbody>\n",
       "</table>\n",
       "</div>"
      ],
      "text/plain": [
       "  experiment_mode       attribute    avg_ad    avg_ac\n",
       "0            CTRL  Content Rating  0.947062  0.288208"
      ]
     },
     "execution_count": 69,
     "metadata": {},
     "output_type": "execute_result"
    }
   ],
   "source": [
    "groupby_cols = [\"experiment_mode\", \"attribute\"]\n",
    "subset_cols = groupby_cols + [\"ad_metric_final\",\"ac_metric_final\"]\n",
    "df_ad_ac = df_attribute_stats[subset_cols].groupby(groupby_cols).agg(avg_ad=(\"ad_metric_final\",\"mean\"),\n",
    "                                                               avg_ac=(\"ac_metric_final\",\"mean\")\n",
    "                                                               )\n",
    "df_ad_ac.reset_index(inplace=True)\n",
    "df_ad_ac.head(1)"
   ]
  },
  {
   "cell_type": "markdown",
   "metadata": {},
   "source": [
    "### AD"
   ]
  },
  {
   "cell_type": "code",
   "execution_count": 70,
   "metadata": {},
   "outputs": [
    {
     "data": {
      "image/png": "[encoded data removed]",
      "text/plain": [
       "<Figure size 864x288 with 1 Axes>"
      ]
     },
     "metadata": {
      "needs_background": "light"
     },
     "output_type": "display_data"
    }
   ],
   "source": [
    "avg_ad_ctrl = df_ad_ac[df_ad_ac[\"experiment_mode\"]==\"CTRL\"][[\"attribute\",\"avg_ad\"]]\n",
    "avg_ad_ctrl.columns = ['attribute', 'avg_ad_ctrl']\n",
    "\n",
    "avg_ad_rt = df_ad_ac[df_ad_ac[\"experiment_mode\"]==\"RT\"][[\"attribute\",\"avg_ad\"]]\n",
    "avg_ad_rt.columns = ['attribute', 'avg_ad_rt']\n",
    "\n",
    "avg_ad_sum = df_ad_ac[df_ad_ac[\"experiment_mode\"]==\"SUM\"][[\"attribute\",\"avg_ad\"]]\n",
    "avg_ad_sum.columns = ['attribute', 'avg_ad_sum']\n",
    "\n",
    "avg_ad_rtsum = df_ad_ac[df_ad_ac[\"experiment_mode\"]==\"RTSUM\"][[\"attribute\",\"avg_ad\"]]\n",
    "avg_ad_rtsum.columns = ['attribute', 'avg_ad_rtsum']\n",
    "\n",
    "df_ad_merged_1 = avg_ad_ctrl.merge(avg_ad_rt, on=[\"attribute\"], how=\"left\")\n",
    "df_ad_merged_2 = avg_ad_sum.merge(avg_ad_rtsum, on=[\"attribute\"], how=\"left\")\n",
    "df_ad_merged = df_ad_merged_1.merge(df_ad_merged_2, on=[\"attribute\"], how=\"left\")\n",
    "\n",
    "labels = df_ad_merged[\"attribute\"]\n",
    "x = np.arange(len(labels))  # the label locations\n",
    "width = 0.2  # the width of the bars\n",
    "\n",
    "fig, ax = plt.subplots()\n",
    "rects1 = ax.bar(x - width*3/2, df_ad_merged[\"avg_ad_ctrl\"], width, label='CTRL')\n",
    "rects2 = ax.bar(x - width/2, df_ad_merged[\"avg_ad_rt\"], width, label='RT')\n",
    "rects3 = ax.bar(x + width/2, df_ad_merged[\"avg_ad_sum\"], width, label='SUM')\n",
    "rects4 = ax.bar(x + width*3/2, df_ad_merged[\"avg_ad_rtsum\"], width, label='RTSUM')\n",
    "\n",
    "# Add some text for labels, title and custom x-axis tick labels, etc.\n",
    "ax.set_ylabel('Avg of Final AD')\n",
    "ax.set_title('Avg of Final AD values across attributes across conditions - for MOVIES')\n",
    "ax.set_xticks(x)\n",
    "ax.set_xticklabels(labels)\n",
    "ax.set_yticks([0, 0.25, 0.5, 0.75, 1])\n",
    "ax.legend()\n",
    "\n",
    "plt.xticks(x, df_ad_merged[\"attribute\"], rotation=15, ha=\"right\") \n",
    "plt.legend([\"CTRL\", \"RT\", \"SUM\", \"RTSUM\"])\n",
    "fig = plt.gcf()\n",
    "fig.set_size_inches(12, 4)\n",
    "plt.savefig(\"charts/basic_eda/movies/final-ad-across-attributes-across-conditions.pdf\", bbox_inches = \"tight\")\n",
    "\n",
    "plt.show()"
   ]
  },
  {
   "cell_type": "markdown",
   "metadata": {},
   "source": [
    "### AC"
   ]
  },
  {
   "cell_type": "code",
   "execution_count": 71,
   "metadata": {},
   "outputs": [
    {
     "data": {
      "image/png": "[encoded data removed]",
      "text/plain": [
       "<Figure size 864x288 with 1 Axes>"
      ]
     },
     "metadata": {
      "needs_background": "light"
     },
     "output_type": "display_data"
    }
   ],
   "source": [
    "avg_ac_ctrl = df_ad_ac[df_ad_ac[\"experiment_mode\"]==\"CTRL\"][[\"attribute\",\"avg_ac\"]]\n",
    "avg_ac_ctrl.columns = ['attribute', 'avg_ac_ctrl']\n",
    "\n",
    "avg_ac_rt = df_ad_ac[df_ad_ac[\"experiment_mode\"]==\"RT\"][[\"attribute\",\"avg_ac\"]]\n",
    "avg_ac_rt.columns = ['attribute', 'avg_ac_rt']\n",
    "\n",
    "avg_ac_sum = df_ad_ac[df_ad_ac[\"experiment_mode\"]==\"SUM\"][[\"attribute\",\"avg_ac\"]]\n",
    "avg_ac_sum.columns = ['attribute', 'avg_ac_sum']\n",
    "\n",
    "avg_ac_rtsum = df_ad_ac[df_ad_ac[\"experiment_mode\"]==\"RTSUM\"][[\"attribute\",\"avg_ac\"]]\n",
    "avg_ac_rtsum.columns = ['attribute', 'avg_ac_rtsum']\n",
    "\n",
    "df_ac_merged_1 = avg_ac_ctrl.merge(avg_ac_rt, on=[\"attribute\"], how=\"left\")\n",
    "df_ac_merged_2 = avg_ac_sum.merge(avg_ac_rtsum, on=[\"attribute\"], how=\"left\")\n",
    "df_ac_merged = df_ac_merged_1.merge(df_ac_merged_2, on=[\"attribute\"], how=\"left\")\n",
    "\n",
    "labels = df_ac_merged[\"attribute\"]\n",
    "x = np.arange(len(labels))  # the label locations\n",
    "width = 0.2  # the width of the bars\n",
    "\n",
    "fig, ax = plt.subplots()\n",
    "rects1 = ax.bar(x - width*3/2, df_ac_merged[\"avg_ac_ctrl\"], width, label='CTRL')\n",
    "rects2 = ax.bar(x - width/2, df_ac_merged[\"avg_ac_rt\"], width, label='RT')\n",
    "rects3 = ax.bar(x + width/2, df_ac_merged[\"avg_ac_sum\"], width, label='SUM')\n",
    "rects4 = ax.bar(x + width*3/2, df_ac_merged[\"avg_ac_rtsum\"], width, label='RTSUM')\n",
    "\n",
    "# Add some text for labels, title and custom x-axis tick labels, etc.\n",
    "ax.set_ylabel('Avg of Final AC')\n",
    "ax.set_title('Avg of Final AC values across attributes across conditions - for MOVIES')\n",
    "ax.set_xticks(x)\n",
    "ax.set_xticklabels(labels)\n",
    "ax.legend()\n",
    "ax.set_yticks([0, 0.25, 0.5, 0.75, 1])\n",
    "\n",
    "plt.xticks(x, df_ac_merged[\"attribute\"], rotation=15, ha=\"right\") \n",
    "plt.legend([\"CTRL\", \"RT\", \"SUM\", \"RTSUM\"])\n",
    "fig = plt.gcf()\n",
    "fig.set_size_inches(12, 4)\n",
    "plt.savefig(\"charts/basic_eda/movies/final-ac-across-attributes-across-conditions.pdf\", bbox_inches = \"tight\")\n",
    "\n",
    "plt.show()"
   ]
  },
  {
   "cell_type": "markdown",
   "metadata": {},
   "source": [
    "## Average"
   ]
  },
  {
   "cell_type": "code",
   "execution_count": 72,
   "metadata": {},
   "outputs": [
    {
     "data": {
      "text/html": [
       "<div>\n",
       "<style scoped>\n",
       "    .dataframe tbody tr th:only-of-type {\n",
       "        vertical-align: middle;\n",
       "    }\n",
       "\n",
       "    .dataframe tbody tr th {\n",
       "        vertical-align: top;\n",
       "    }\n",
       "\n",
       "    .dataframe thead th {\n",
       "        text-align: right;\n",
       "    }\n",
       "</style>\n",
       "<table border=\"1\" class=\"dataframe\">\n",
       "  <thead>\n",
       "    <tr style=\"text-align: right;\">\n",
       "      <th></th>\n",
       "      <th>experiment_mode</th>\n",
       "      <th>attribute</th>\n",
       "      <th>avg_ad</th>\n",
       "      <th>avg_ac</th>\n",
       "    </tr>\n",
       "  </thead>\n",
       "  <tbody>\n",
       "    <tr>\n",
       "      <th>0</th>\n",
       "      <td>CTRL</td>\n",
       "      <td>Content Rating</td>\n",
       "      <td>0.649163</td>\n",
       "      <td>0.278184</td>\n",
       "    </tr>\n",
       "  </tbody>\n",
       "</table>\n",
       "</div>"
      ],
      "text/plain": [
       "  experiment_mode       attribute    avg_ad    avg_ac\n",
       "0            CTRL  Content Rating  0.649163  0.278184"
      ]
     },
     "execution_count": 72,
     "metadata": {},
     "output_type": "execute_result"
    }
   ],
   "source": [
    "groupby_cols = [\"experiment_mode\", \"attribute\"]\n",
    "subset_cols = groupby_cols + [\"ad_metric_avg\",\"ac_metric_avg\"]\n",
    "df_ad_ac = df_attribute_stats[subset_cols].groupby(groupby_cols).agg(avg_ad=(\"ad_metric_avg\",\"mean\"),\n",
    "                                                               avg_ac=(\"ac_metric_avg\",\"mean\")\n",
    "                                                               )\n",
    "df_ad_ac.reset_index(inplace=True)\n",
    "df_ad_ac.head(1)"
   ]
  },
  {
   "cell_type": "markdown",
   "metadata": {},
   "source": [
    "### AD"
   ]
  },
  {
   "cell_type": "code",
   "execution_count": 73,
   "metadata": {},
   "outputs": [
    {
     "data": {
      "image/png": "[encoded data removed]",
      "text/plain": [
       "<Figure size 864x288 with 1 Axes>"
      ]
     },
     "metadata": {
      "needs_background": "light"
     },
     "output_type": "display_data"
    }
   ],
   "source": [
    "avg_ad_ctrl = df_ad_ac[df_ad_ac[\"experiment_mode\"]==\"CTRL\"][[\"attribute\",\"avg_ad\"]]\n",
    "avg_ad_ctrl.columns = ['attribute', 'avg_ad_ctrl']\n",
    "\n",
    "avg_ad_rt = df_ad_ac[df_ad_ac[\"experiment_mode\"]==\"RT\"][[\"attribute\",\"avg_ad\"]]\n",
    "avg_ad_rt.columns = ['attribute', 'avg_ad_rt']\n",
    "\n",
    "avg_ad_sum = df_ad_ac[df_ad_ac[\"experiment_mode\"]==\"SUM\"][[\"attribute\",\"avg_ad\"]]\n",
    "avg_ad_sum.columns = ['attribute', 'avg_ad_sum']\n",
    "\n",
    "avg_ad_rtsum = df_ad_ac[df_ad_ac[\"experiment_mode\"]==\"RTSUM\"][[\"attribute\",\"avg_ad\"]]\n",
    "avg_ad_rtsum.columns = ['attribute', 'avg_ad_rtsum']\n",
    "\n",
    "df_ad_merged_1 = avg_ad_ctrl.merge(avg_ad_rt, on=[\"attribute\"], how=\"left\")\n",
    "df_ad_merged_2 = avg_ad_sum.merge(avg_ad_rtsum, on=[\"attribute\"], how=\"left\")\n",
    "df_ad_merged = df_ad_merged_1.merge(df_ad_merged_2, on=[\"attribute\"], how=\"left\")\n",
    "\n",
    "labels = df_ad_merged[\"attribute\"]\n",
    "x = np.arange(len(labels))  # the label locations\n",
    "width = 0.2  # the width of the bars\n",
    "\n",
    "fig, ax = plt.subplots()\n",
    "rects1 = ax.bar(x - width*3/2, df_ad_merged[\"avg_ad_ctrl\"], width, label='CTRL')\n",
    "rects2 = ax.bar(x - width/2, df_ad_merged[\"avg_ad_rt\"], width, label='RT')\n",
    "rects3 = ax.bar(x + width/2, df_ad_merged[\"avg_ad_sum\"], width, label='SUM')\n",
    "rects4 = ax.bar(x + width*3/2, df_ad_merged[\"avg_ad_rtsum\"], width, label='RTSUM')\n",
    "\n",
    "# Add some text for labels, title and custom x-axis tick labels, etc.\n",
    "ax.set_ylabel('Avg of Avg AD')\n",
    "ax.set_title('Avg of Average AD values across attributes across conditions for MOVIES')\n",
    "ax.set_xticks(x)\n",
    "ax.set_xticklabels(labels)\n",
    "ax.legend()\n",
    "ax.set_yticks([0, 0.25, 0.5, 0.75, 1])\n",
    "\n",
    "plt.xticks(x, df_ad_merged[\"attribute\"], rotation=15, ha=\"right\") \n",
    "plt.legend([\"CTRL\", \"RT\", \"SUM\", \"RTSUM\"])\n",
    "fig = plt.gcf()\n",
    "fig.set_size_inches(12, 4)\n",
    "plt.savefig(\"charts/basic_eda/movies/avg-ad-across-attributes-across-conditions.pdf\", bbox_inches = \"tight\")\n",
    "\n",
    "plt.show()"
   ]
  },
  {
   "cell_type": "markdown",
   "metadata": {},
   "source": [
    "### AC"
   ]
  },
  {
   "cell_type": "code",
   "execution_count": 74,
   "metadata": {},
   "outputs": [
    {
     "data": {
      "image/png": "[encoded data removed]",
      "text/plain": [
       "<Figure size 864x288 with 1 Axes>"
      ]
     },
     "metadata": {
      "needs_background": "light"
     },
     "output_type": "display_data"
    }
   ],
   "source": [
    "avg_ac_ctrl = df_ad_ac[df_ad_ac[\"experiment_mode\"]==\"CTRL\"][[\"attribute\",\"avg_ac\"]]\n",
    "avg_ac_ctrl.columns = ['attribute', 'avg_ac_ctrl']\n",
    "\n",
    "avg_ac_rt = df_ad_ac[df_ad_ac[\"experiment_mode\"]==\"RT\"][[\"attribute\",\"avg_ac\"]]\n",
    "avg_ac_rt.columns = ['attribute', 'avg_ac_rt']\n",
    "\n",
    "avg_ac_sum = df_ad_ac[df_ad_ac[\"experiment_mode\"]==\"SUM\"][[\"attribute\",\"avg_ac\"]]\n",
    "avg_ac_sum.columns = ['attribute', 'avg_ac_sum']\n",
    "\n",
    "avg_ac_rtsum = df_ad_ac[df_ad_ac[\"experiment_mode\"]==\"RTSUM\"][[\"attribute\",\"avg_ac\"]]\n",
    "avg_ac_rtsum.columns = ['attribute', 'avg_ac_rtsum']\n",
    "\n",
    "df_ac_merged_1 = avg_ac_ctrl.merge(avg_ac_rt, on=[\"attribute\"], how=\"left\")\n",
    "df_ac_merged_2 = avg_ac_sum.merge(avg_ac_rtsum, on=[\"attribute\"], how=\"left\")\n",
    "df_ac_merged = df_ac_merged_1.merge(df_ac_merged_2, on=[\"attribute\"], how=\"left\")\n",
    "\n",
    "labels = df_ac_merged[\"attribute\"]\n",
    "x = np.arange(len(labels))  # the label locations\n",
    "width = 0.2  # the width of the bars\n",
    "\n",
    "fig, ax = plt.subplots()\n",
    "rects1 = ax.bar(x - width*3/2, df_ac_merged[\"avg_ac_ctrl\"], width, label='CTRL')\n",
    "rects2 = ax.bar(x - width/2, df_ac_merged[\"avg_ac_rt\"], width, label='RT')\n",
    "rects3 = ax.bar(x + width/2, df_ac_merged[\"avg_ac_sum\"], width, label='SUM')\n",
    "rects4 = ax.bar(x + width*3/2, df_ac_merged[\"avg_ac_rtsum\"], width, label='RTSUM')\n",
    "\n",
    "# Add some text for labels, title and custom x-axis tick labels, etc.\n",
    "ax.set_ylabel('Avg of Average AC')\n",
    "ax.set_title('Avg of Average AC values across attributes across conditions for MOVIES')\n",
    "ax.set_xticks(x)\n",
    "ax.set_xticklabels(labels)\n",
    "ax.legend()\n",
    "ax.set_yticks([0, 0.25, 0.5, 0.75, 1])\n",
    "\n",
    "plt.xticks(x, df_ac_merged[\"attribute\"], rotation=15, ha=\"right\") \n",
    "plt.legend([\"CTRL\", \"RT\", \"SUM\", \"RTSUM\"])\n",
    "fig = plt.gcf()\n",
    "fig.set_size_inches(12, 4)\n",
    "plt.savefig(\"charts/basic_eda/movies/avg-ac-across-attributes-across-conditions.pdf\", bbox_inches = \"tight\")\n",
    "\n",
    "plt.show()"
   ]
  },
  {
   "cell_type": "markdown",
   "metadata": {},
   "source": [
    "### Which Condition interacted with more _Unique_ Attributes overall?"
   ]
  },
  {
   "cell_type": "code",
   "execution_count": 75,
   "metadata": {},
   "outputs": [
    {
     "name": "stderr",
     "output_type": "stream",
     "text": [
      "/Users/curiosity/anaconda3/lib/python3.8/site-packages/numpy/core/_asarray.py:83: VisibleDeprecationWarning: Creating an ndarray from ragged nested sequences (which is a list-or-tuple of lists-or-tuples-or ndarrays with different lengths or shapes) is deprecated. If you meant to do this, you must specify 'dtype=object' when creating the ndarray\n",
      "  return array(a, dtype, copy=False, order=order)\n"
     ]
    },
    {
     "name": "stdout",
     "output_type": "stream",
     "text": [
      "                          column experiment_mode  mean  median   std\n",
      "0  unique_attribute_interactions            CTRL  5.08     5.0  2.22\n",
      "1  unique_attribute_interactions              RT  5.55     5.0  2.62\n",
      "2  unique_attribute_interactions           RTSUM  5.67     6.0  2.50\n",
      "3  unique_attribute_interactions             SUM  5.57     5.5  1.95\n"
     ]
    },
    {
     "data": {
      "image/png": "[encoded data removed]",
      "text/plain": [
       "<Figure size 360x1440 with 8 Axes>"
      ]
     },
     "metadata": {
      "needs_background": "light"
     },
     "output_type": "display_data"
    }
   ],
   "source": [
    "groupby_cols = [\"experiment_mode\", \"pid\"]\n",
    "subset_cols = groupby_cols + [\"attribute\"]\n",
    "df_unique_interacted_attributes = df_attribute_stats[df_attribute_stats[\"total_attribute_interactions\"] > 0][subset_cols].groupby(groupby_cols).agg(unique_attribute_interactions=(\"attribute\",\"count\"))\n",
    "df_unique_interacted_attributes.reset_index(inplace=True)\n",
    "\n",
    "columns = [\"unique_attribute_interactions\"]\n",
    "by = [\"experiment_mode\"]\n",
    "filename=\"charts/basic_eda/movies/unique_attribute_interactions.pdf\"\n",
    "custom_tick_boxplot(df=df_unique_interacted_attributes, \n",
    "                      by=by,\n",
    "                      columns=columns, \n",
    "                      filename=filename)"
   ]
  },
  {
   "cell_type": "markdown",
   "metadata": {},
   "source": [
    "### Which Conditon had a higher Ratio of Total and Unique interacted Attributes?"
   ]
  },
  {
   "cell_type": "code",
   "execution_count": 76,
   "metadata": {},
   "outputs": [
    {
     "name": "stderr",
     "output_type": "stream",
     "text": [
      "/Users/curiosity/anaconda3/lib/python3.8/site-packages/numpy/core/_asarray.py:83: VisibleDeprecationWarning: Creating an ndarray from ragged nested sequences (which is a list-or-tuple of lists-or-tuples-or ndarrays with different lengths or shapes) is deprecated. If you meant to do this, you must specify 'dtype=object' when creating the ndarray\n",
      "  return array(a, dtype, copy=False, order=order)\n"
     ]
    },
    {
     "name": "stdout",
     "output_type": "stream",
     "text": [
      "                                     column experiment_mode  mean  median  \\\n",
      "0  ratio_total_unique_interacted_attributes            CTRL  0.33    0.20   \n",
      "1  ratio_total_unique_interacted_attributes              RT  0.26    0.22   \n",
      "2  ratio_total_unique_interacted_attributes           RTSUM  0.48    0.20   \n",
      "3  ratio_total_unique_interacted_attributes             SUM  0.40    0.22   \n",
      "\n",
      "    std  \n",
      "0  0.47  \n",
      "1  0.35  \n",
      "2  0.84  \n",
      "3  0.52  \n"
     ]
    },
    {
     "data": {
      "image/png": "[encoded data removed]",
      "text/plain": [
       "<Figure size 360x1440 with 8 Axes>"
      ]
     },
     "metadata": {
      "needs_background": "light"
     },
     "output_type": "display_data"
    }
   ],
   "source": [
    "df_total_vs_unique_attributes = df_unique_interacted_attributes.merge(df_attribute_stats, on=[\"experiment_mode\", \"pid\"], how=\"inner\")\n",
    "df_total_vs_unique_attributes[\"ratio_total_unique_interacted_attributes\"] = df_total_vs_unique_attributes[\"total_attribute_interactions\"] / df_total_vs_unique_attributes[\"unique_attribute_interactions\"]\n",
    "\n",
    "columns = [\"ratio_total_unique_interacted_attributes\"]\n",
    "by=[\"experiment_mode\"]\n",
    "filename=\"charts/basic_eda/movies/ratio_total_unique_interacted_attributes.pdf\"\n",
    "custom_tick_boxplot(df=df_total_vs_unique_attributes, \n",
    "                      by=by,\n",
    "                      columns=columns, \n",
    "                      filename=filename)"
   ]
  },
  {
   "cell_type": "markdown",
   "metadata": {},
   "source": [
    "### Which Attributes Were Not applied as Filters and by How many participants across Conditions?"
   ]
  },
  {
   "cell_type": "code",
   "execution_count": 77,
   "metadata": {},
   "outputs": [
    {
     "data": {
      "text/html": [
       "<div>\n",
       "<style scoped>\n",
       "    .dataframe tbody tr th:only-of-type {\n",
       "        vertical-align: middle;\n",
       "    }\n",
       "\n",
       "    .dataframe tbody tr th {\n",
       "        vertical-align: top;\n",
       "    }\n",
       "\n",
       "    .dataframe thead th {\n",
       "        text-align: right;\n",
       "    }\n",
       "</style>\n",
       "<table border=\"1\" class=\"dataframe\">\n",
       "  <thead>\n",
       "    <tr style=\"text-align: right;\">\n",
       "      <th></th>\n",
       "      <th></th>\n",
       "      <th>no_of_participants</th>\n",
       "    </tr>\n",
       "    <tr>\n",
       "      <th>experiment_mode</th>\n",
       "      <th>attribute</th>\n",
       "      <th></th>\n",
       "    </tr>\n",
       "  </thead>\n",
       "  <tbody>\n",
       "    <tr>\n",
       "      <th rowspan=\"9\" valign=\"top\">CTRL</th>\n",
       "      <th>Content Rating</th>\n",
       "      <td>7</td>\n",
       "    </tr>\n",
       "    <tr>\n",
       "      <th>Creative Type</th>\n",
       "      <td>12</td>\n",
       "    </tr>\n",
       "    <tr>\n",
       "      <th>Genre</th>\n",
       "      <td>6</td>\n",
       "    </tr>\n",
       "    <tr>\n",
       "      <th>IMDB Rating</th>\n",
       "      <td>10</td>\n",
       "    </tr>\n",
       "    <tr>\n",
       "      <th>Production Budget</th>\n",
       "      <td>11</td>\n",
       "    </tr>\n",
       "    <tr>\n",
       "      <th>Release Year</th>\n",
       "      <td>7</td>\n",
       "    </tr>\n",
       "    <tr>\n",
       "      <th>Rotten Tomatoes Rating</th>\n",
       "      <td>9</td>\n",
       "    </tr>\n",
       "    <tr>\n",
       "      <th>Running Time</th>\n",
       "      <td>10</td>\n",
       "    </tr>\n",
       "    <tr>\n",
       "      <th>Worldwide Gross</th>\n",
       "      <td>10</td>\n",
       "    </tr>\n",
       "    <tr>\n",
       "      <th rowspan=\"9\" valign=\"top\">RT</th>\n",
       "      <th>Content Rating</th>\n",
       "      <td>4</td>\n",
       "    </tr>\n",
       "    <tr>\n",
       "      <th>Creative Type</th>\n",
       "      <td>7</td>\n",
       "    </tr>\n",
       "    <tr>\n",
       "      <th>Genre</th>\n",
       "      <td>4</td>\n",
       "    </tr>\n",
       "    <tr>\n",
       "      <th>IMDB Rating</th>\n",
       "      <td>8</td>\n",
       "    </tr>\n",
       "    <tr>\n",
       "      <th>Production Budget</th>\n",
       "      <td>9</td>\n",
       "    </tr>\n",
       "    <tr>\n",
       "      <th>Release Year</th>\n",
       "      <td>8</td>\n",
       "    </tr>\n",
       "    <tr>\n",
       "      <th>Rotten Tomatoes Rating</th>\n",
       "      <td>8</td>\n",
       "    </tr>\n",
       "    <tr>\n",
       "      <th>Running Time</th>\n",
       "      <td>9</td>\n",
       "    </tr>\n",
       "    <tr>\n",
       "      <th>Worldwide Gross</th>\n",
       "      <td>9</td>\n",
       "    </tr>\n",
       "    <tr>\n",
       "      <th rowspan=\"9\" valign=\"top\">RTSUM</th>\n",
       "      <th>Content Rating</th>\n",
       "      <td>7</td>\n",
       "    </tr>\n",
       "    <tr>\n",
       "      <th>Creative Type</th>\n",
       "      <td>7</td>\n",
       "    </tr>\n",
       "    <tr>\n",
       "      <th>Genre</th>\n",
       "      <td>4</td>\n",
       "    </tr>\n",
       "    <tr>\n",
       "      <th>IMDB Rating</th>\n",
       "      <td>10</td>\n",
       "    </tr>\n",
       "    <tr>\n",
       "      <th>Production Budget</th>\n",
       "      <td>9</td>\n",
       "    </tr>\n",
       "    <tr>\n",
       "      <th>Release Year</th>\n",
       "      <td>6</td>\n",
       "    </tr>\n",
       "    <tr>\n",
       "      <th>Rotten Tomatoes Rating</th>\n",
       "      <td>9</td>\n",
       "    </tr>\n",
       "    <tr>\n",
       "      <th>Running Time</th>\n",
       "      <td>10</td>\n",
       "    </tr>\n",
       "    <tr>\n",
       "      <th>Worldwide Gross</th>\n",
       "      <td>10</td>\n",
       "    </tr>\n",
       "    <tr>\n",
       "      <th rowspan=\"9\" valign=\"top\">SUM</th>\n",
       "      <th>Content Rating</th>\n",
       "      <td>7</td>\n",
       "    </tr>\n",
       "    <tr>\n",
       "      <th>Creative Type</th>\n",
       "      <td>8</td>\n",
       "    </tr>\n",
       "    <tr>\n",
       "      <th>Genre</th>\n",
       "      <td>4</td>\n",
       "    </tr>\n",
       "    <tr>\n",
       "      <th>IMDB Rating</th>\n",
       "      <td>10</td>\n",
       "    </tr>\n",
       "    <tr>\n",
       "      <th>Production Budget</th>\n",
       "      <td>12</td>\n",
       "    </tr>\n",
       "    <tr>\n",
       "      <th>Release Year</th>\n",
       "      <td>11</td>\n",
       "    </tr>\n",
       "    <tr>\n",
       "      <th>Rotten Tomatoes Rating</th>\n",
       "      <td>10</td>\n",
       "    </tr>\n",
       "    <tr>\n",
       "      <th>Running Time</th>\n",
       "      <td>11</td>\n",
       "    </tr>\n",
       "    <tr>\n",
       "      <th>Worldwide Gross</th>\n",
       "      <td>11</td>\n",
       "    </tr>\n",
       "  </tbody>\n",
       "</table>\n",
       "</div>"
      ],
      "text/plain": [
       "                                        no_of_participants\n",
       "experiment_mode attribute                                 \n",
       "CTRL            Content Rating                           7\n",
       "                Creative Type                           12\n",
       "                Genre                                    6\n",
       "                IMDB Rating                             10\n",
       "                Production Budget                       11\n",
       "                Release Year                             7\n",
       "                Rotten Tomatoes Rating                   9\n",
       "                Running Time                            10\n",
       "                Worldwide Gross                         10\n",
       "RT              Content Rating                           4\n",
       "                Creative Type                            7\n",
       "                Genre                                    4\n",
       "                IMDB Rating                              8\n",
       "                Production Budget                        9\n",
       "                Release Year                             8\n",
       "                Rotten Tomatoes Rating                   8\n",
       "                Running Time                             9\n",
       "                Worldwide Gross                          9\n",
       "RTSUM           Content Rating                           7\n",
       "                Creative Type                            7\n",
       "                Genre                                    4\n",
       "                IMDB Rating                             10\n",
       "                Production Budget                        9\n",
       "                Release Year                             6\n",
       "                Rotten Tomatoes Rating                   9\n",
       "                Running Time                            10\n",
       "                Worldwide Gross                         10\n",
       "SUM             Content Rating                           7\n",
       "                Creative Type                            8\n",
       "                Genre                                    4\n",
       "                IMDB Rating                             10\n",
       "                Production Budget                       12\n",
       "                Release Year                            11\n",
       "                Rotten Tomatoes Rating                  10\n",
       "                Running Time                            11\n",
       "                Worldwide Gross                         11"
      ]
     },
     "execution_count": 77,
     "metadata": {},
     "output_type": "execute_result"
    }
   ],
   "source": [
    "groupby_cols = [\"experiment_mode\",\"attribute\"]\n",
    "subset_cols = groupby_cols + [\"pid\"]\n",
    "df_attribute_stats[df_attribute_stats[\"count_filter_changed\"] == 0][subset_cols].groupby(groupby_cols).agg(no_of_participants=(\"pid\",\"count\"))"
   ]
  },
  {
   "cell_type": "markdown",
   "metadata": {},
   "source": [
    "### Which Attributes Were Not Encoded in the VIS and by How many participants across Conditions?"
   ]
  },
  {
   "cell_type": "code",
   "execution_count": 78,
   "metadata": {},
   "outputs": [
    {
     "data": {
      "text/html": [
       "<div>\n",
       "<style scoped>\n",
       "    .dataframe tbody tr th:only-of-type {\n",
       "        vertical-align: middle;\n",
       "    }\n",
       "\n",
       "    .dataframe tbody tr th {\n",
       "        vertical-align: top;\n",
       "    }\n",
       "\n",
       "    .dataframe thead th {\n",
       "        text-align: right;\n",
       "    }\n",
       "</style>\n",
       "<table border=\"1\" class=\"dataframe\">\n",
       "  <thead>\n",
       "    <tr style=\"text-align: right;\">\n",
       "      <th></th>\n",
       "      <th></th>\n",
       "      <th>no_of_participants</th>\n",
       "    </tr>\n",
       "    <tr>\n",
       "      <th>experiment_mode</th>\n",
       "      <th>attribute</th>\n",
       "      <th></th>\n",
       "    </tr>\n",
       "  </thead>\n",
       "  <tbody>\n",
       "    <tr>\n",
       "      <th rowspan=\"9\" valign=\"top\">CTRL</th>\n",
       "      <th>Content Rating</th>\n",
       "      <td>13</td>\n",
       "    </tr>\n",
       "    <tr>\n",
       "      <th>Creative Type</th>\n",
       "      <td>13</td>\n",
       "    </tr>\n",
       "    <tr>\n",
       "      <th>Genre</th>\n",
       "      <td>13</td>\n",
       "    </tr>\n",
       "    <tr>\n",
       "      <th>IMDB Rating</th>\n",
       "      <td>3</td>\n",
       "    </tr>\n",
       "    <tr>\n",
       "      <th>Production Budget</th>\n",
       "      <td>6</td>\n",
       "    </tr>\n",
       "    <tr>\n",
       "      <th>Release Year</th>\n",
       "      <td>13</td>\n",
       "    </tr>\n",
       "    <tr>\n",
       "      <th>Rotten Tomatoes Rating</th>\n",
       "      <td>4</td>\n",
       "    </tr>\n",
       "    <tr>\n",
       "      <th>Running Time</th>\n",
       "      <td>6</td>\n",
       "    </tr>\n",
       "    <tr>\n",
       "      <th>Worldwide Gross</th>\n",
       "      <td>3</td>\n",
       "    </tr>\n",
       "    <tr>\n",
       "      <th rowspan=\"9\" valign=\"top\">RT</th>\n",
       "      <th>Content Rating</th>\n",
       "      <td>11</td>\n",
       "    </tr>\n",
       "    <tr>\n",
       "      <th>Creative Type</th>\n",
       "      <td>11</td>\n",
       "    </tr>\n",
       "    <tr>\n",
       "      <th>Genre</th>\n",
       "      <td>11</td>\n",
       "    </tr>\n",
       "    <tr>\n",
       "      <th>IMDB Rating</th>\n",
       "      <td>2</td>\n",
       "    </tr>\n",
       "    <tr>\n",
       "      <th>Production Budget</th>\n",
       "      <td>7</td>\n",
       "    </tr>\n",
       "    <tr>\n",
       "      <th>Release Year</th>\n",
       "      <td>11</td>\n",
       "    </tr>\n",
       "    <tr>\n",
       "      <th>Rotten Tomatoes Rating</th>\n",
       "      <td>3</td>\n",
       "    </tr>\n",
       "    <tr>\n",
       "      <th>Running Time</th>\n",
       "      <td>6</td>\n",
       "    </tr>\n",
       "    <tr>\n",
       "      <th>Worldwide Gross</th>\n",
       "      <td>4</td>\n",
       "    </tr>\n",
       "    <tr>\n",
       "      <th rowspan=\"9\" valign=\"top\">RTSUM</th>\n",
       "      <th>Content Rating</th>\n",
       "      <td>12</td>\n",
       "    </tr>\n",
       "    <tr>\n",
       "      <th>Creative Type</th>\n",
       "      <td>12</td>\n",
       "    </tr>\n",
       "    <tr>\n",
       "      <th>Genre</th>\n",
       "      <td>12</td>\n",
       "    </tr>\n",
       "    <tr>\n",
       "      <th>IMDB Rating</th>\n",
       "      <td>3</td>\n",
       "    </tr>\n",
       "    <tr>\n",
       "      <th>Production Budget</th>\n",
       "      <td>6</td>\n",
       "    </tr>\n",
       "    <tr>\n",
       "      <th>Release Year</th>\n",
       "      <td>12</td>\n",
       "    </tr>\n",
       "    <tr>\n",
       "      <th>Rotten Tomatoes Rating</th>\n",
       "      <td>5</td>\n",
       "    </tr>\n",
       "    <tr>\n",
       "      <th>Running Time</th>\n",
       "      <td>6</td>\n",
       "    </tr>\n",
       "    <tr>\n",
       "      <th>Worldwide Gross</th>\n",
       "      <td>3</td>\n",
       "    </tr>\n",
       "    <tr>\n",
       "      <th rowspan=\"9\" valign=\"top\">SUM</th>\n",
       "      <th>Content Rating</th>\n",
       "      <td>14</td>\n",
       "    </tr>\n",
       "    <tr>\n",
       "      <th>Creative Type</th>\n",
       "      <td>14</td>\n",
       "    </tr>\n",
       "    <tr>\n",
       "      <th>Genre</th>\n",
       "      <td>14</td>\n",
       "    </tr>\n",
       "    <tr>\n",
       "      <th>IMDB Rating</th>\n",
       "      <td>1</td>\n",
       "    </tr>\n",
       "    <tr>\n",
       "      <th>Production Budget</th>\n",
       "      <td>4</td>\n",
       "    </tr>\n",
       "    <tr>\n",
       "      <th>Release Year</th>\n",
       "      <td>14</td>\n",
       "    </tr>\n",
       "    <tr>\n",
       "      <th>Rotten Tomatoes Rating</th>\n",
       "      <td>4</td>\n",
       "    </tr>\n",
       "    <tr>\n",
       "      <th>Running Time</th>\n",
       "      <td>8</td>\n",
       "    </tr>\n",
       "    <tr>\n",
       "      <th>Worldwide Gross</th>\n",
       "      <td>3</td>\n",
       "    </tr>\n",
       "  </tbody>\n",
       "</table>\n",
       "</div>"
      ],
      "text/plain": [
       "                                        no_of_participants\n",
       "experiment_mode attribute                                 \n",
       "CTRL            Content Rating                          13\n",
       "                Creative Type                           13\n",
       "                Genre                                   13\n",
       "                IMDB Rating                              3\n",
       "                Production Budget                        6\n",
       "                Release Year                            13\n",
       "                Rotten Tomatoes Rating                   4\n",
       "                Running Time                             6\n",
       "                Worldwide Gross                          3\n",
       "RT              Content Rating                          11\n",
       "                Creative Type                           11\n",
       "                Genre                                   11\n",
       "                IMDB Rating                              2\n",
       "                Production Budget                        7\n",
       "                Release Year                            11\n",
       "                Rotten Tomatoes Rating                   3\n",
       "                Running Time                             6\n",
       "                Worldwide Gross                          4\n",
       "RTSUM           Content Rating                          12\n",
       "                Creative Type                           12\n",
       "                Genre                                   12\n",
       "                IMDB Rating                              3\n",
       "                Production Budget                        6\n",
       "                Release Year                            12\n",
       "                Rotten Tomatoes Rating                   5\n",
       "                Running Time                             6\n",
       "                Worldwide Gross                          3\n",
       "SUM             Content Rating                          14\n",
       "                Creative Type                           14\n",
       "                Genre                                   14\n",
       "                IMDB Rating                              1\n",
       "                Production Budget                        4\n",
       "                Release Year                            14\n",
       "                Rotten Tomatoes Rating                   4\n",
       "                Running Time                             8\n",
       "                Worldwide Gross                          3"
      ]
     },
     "execution_count": 78,
     "metadata": {},
     "output_type": "execute_result"
    }
   ],
   "source": [
    "groupby_cols = [\"experiment_mode\",\"attribute\"]\n",
    "subset_cols = groupby_cols + [\"pid\"]\n",
    "df_attribute_stats[df_attribute_stats[\"count_encode_changed\"] == 0][subset_cols].groupby(groupby_cols).agg(no_of_participants=(\"pid\",\"count\"))"
   ]
  },
  {
   "cell_type": "markdown",
   "metadata": {},
   "source": [
    "### Which Attributes Were Not Encoded in the VIS OR applied as Filters and by How many participants across Conditions?"
   ]
  },
  {
   "cell_type": "code",
   "execution_count": 79,
   "metadata": {},
   "outputs": [
    {
     "data": {
      "text/html": [
       "<div>\n",
       "<style scoped>\n",
       "    .dataframe tbody tr th:only-of-type {\n",
       "        vertical-align: middle;\n",
       "    }\n",
       "\n",
       "    .dataframe tbody tr th {\n",
       "        vertical-align: top;\n",
       "    }\n",
       "\n",
       "    .dataframe thead th {\n",
       "        text-align: right;\n",
       "    }\n",
       "</style>\n",
       "<table border=\"1\" class=\"dataframe\">\n",
       "  <thead>\n",
       "    <tr style=\"text-align: right;\">\n",
       "      <th></th>\n",
       "      <th></th>\n",
       "      <th>no_of_participants</th>\n",
       "    </tr>\n",
       "    <tr>\n",
       "      <th>experiment_mode</th>\n",
       "      <th>attribute</th>\n",
       "      <th></th>\n",
       "    </tr>\n",
       "  </thead>\n",
       "  <tbody>\n",
       "    <tr>\n",
       "      <th rowspan=\"9\" valign=\"top\">CTRL</th>\n",
       "      <th>Content Rating</th>\n",
       "      <td>7</td>\n",
       "    </tr>\n",
       "    <tr>\n",
       "      <th>Creative Type</th>\n",
       "      <td>12</td>\n",
       "    </tr>\n",
       "    <tr>\n",
       "      <th>Genre</th>\n",
       "      <td>6</td>\n",
       "    </tr>\n",
       "    <tr>\n",
       "      <th>IMDB Rating</th>\n",
       "      <td>2</td>\n",
       "    </tr>\n",
       "    <tr>\n",
       "      <th>Production Budget</th>\n",
       "      <td>6</td>\n",
       "    </tr>\n",
       "    <tr>\n",
       "      <th>Release Year</th>\n",
       "      <td>7</td>\n",
       "    </tr>\n",
       "    <tr>\n",
       "      <th>Rotten Tomatoes Rating</th>\n",
       "      <td>3</td>\n",
       "    </tr>\n",
       "    <tr>\n",
       "      <th>Running Time</th>\n",
       "      <td>5</td>\n",
       "    </tr>\n",
       "    <tr>\n",
       "      <th>Worldwide Gross</th>\n",
       "      <td>3</td>\n",
       "    </tr>\n",
       "    <tr>\n",
       "      <th rowspan=\"9\" valign=\"top\">RT</th>\n",
       "      <th>Content Rating</th>\n",
       "      <td>4</td>\n",
       "    </tr>\n",
       "    <tr>\n",
       "      <th>Creative Type</th>\n",
       "      <td>7</td>\n",
       "    </tr>\n",
       "    <tr>\n",
       "      <th>Genre</th>\n",
       "      <td>4</td>\n",
       "    </tr>\n",
       "    <tr>\n",
       "      <th>IMDB Rating</th>\n",
       "      <td>2</td>\n",
       "    </tr>\n",
       "    <tr>\n",
       "      <th>Production Budget</th>\n",
       "      <td>6</td>\n",
       "    </tr>\n",
       "    <tr>\n",
       "      <th>Release Year</th>\n",
       "      <td>8</td>\n",
       "    </tr>\n",
       "    <tr>\n",
       "      <th>Rotten Tomatoes Rating</th>\n",
       "      <td>1</td>\n",
       "    </tr>\n",
       "    <tr>\n",
       "      <th>Running Time</th>\n",
       "      <td>5</td>\n",
       "    </tr>\n",
       "    <tr>\n",
       "      <th>Worldwide Gross</th>\n",
       "      <td>4</td>\n",
       "    </tr>\n",
       "    <tr>\n",
       "      <th rowspan=\"9\" valign=\"top\">RTSUM</th>\n",
       "      <th>Content Rating</th>\n",
       "      <td>7</td>\n",
       "    </tr>\n",
       "    <tr>\n",
       "      <th>Creative Type</th>\n",
       "      <td>7</td>\n",
       "    </tr>\n",
       "    <tr>\n",
       "      <th>Genre</th>\n",
       "      <td>4</td>\n",
       "    </tr>\n",
       "    <tr>\n",
       "      <th>IMDB Rating</th>\n",
       "      <td>2</td>\n",
       "    </tr>\n",
       "    <tr>\n",
       "      <th>Production Budget</th>\n",
       "      <td>5</td>\n",
       "    </tr>\n",
       "    <tr>\n",
       "      <th>Release Year</th>\n",
       "      <td>6</td>\n",
       "    </tr>\n",
       "    <tr>\n",
       "      <th>Rotten Tomatoes Rating</th>\n",
       "      <td>4</td>\n",
       "    </tr>\n",
       "    <tr>\n",
       "      <th>Running Time</th>\n",
       "      <td>6</td>\n",
       "    </tr>\n",
       "    <tr>\n",
       "      <th>Worldwide Gross</th>\n",
       "      <td>3</td>\n",
       "    </tr>\n",
       "    <tr>\n",
       "      <th rowspan=\"8\" valign=\"top\">SUM</th>\n",
       "      <th>Content Rating</th>\n",
       "      <td>7</td>\n",
       "    </tr>\n",
       "    <tr>\n",
       "      <th>Creative Type</th>\n",
       "      <td>8</td>\n",
       "    </tr>\n",
       "    <tr>\n",
       "      <th>Genre</th>\n",
       "      <td>4</td>\n",
       "    </tr>\n",
       "    <tr>\n",
       "      <th>Production Budget</th>\n",
       "      <td>4</td>\n",
       "    </tr>\n",
       "    <tr>\n",
       "      <th>Release Year</th>\n",
       "      <td>11</td>\n",
       "    </tr>\n",
       "    <tr>\n",
       "      <th>Rotten Tomatoes Rating</th>\n",
       "      <td>4</td>\n",
       "    </tr>\n",
       "    <tr>\n",
       "      <th>Running Time</th>\n",
       "      <td>7</td>\n",
       "    </tr>\n",
       "    <tr>\n",
       "      <th>Worldwide Gross</th>\n",
       "      <td>3</td>\n",
       "    </tr>\n",
       "  </tbody>\n",
       "</table>\n",
       "</div>"
      ],
      "text/plain": [
       "                                        no_of_participants\n",
       "experiment_mode attribute                                 \n",
       "CTRL            Content Rating                           7\n",
       "                Creative Type                           12\n",
       "                Genre                                    6\n",
       "                IMDB Rating                              2\n",
       "                Production Budget                        6\n",
       "                Release Year                             7\n",
       "                Rotten Tomatoes Rating                   3\n",
       "                Running Time                             5\n",
       "                Worldwide Gross                          3\n",
       "RT              Content Rating                           4\n",
       "                Creative Type                            7\n",
       "                Genre                                    4\n",
       "                IMDB Rating                              2\n",
       "                Production Budget                        6\n",
       "                Release Year                             8\n",
       "                Rotten Tomatoes Rating                   1\n",
       "                Running Time                             5\n",
       "                Worldwide Gross                          4\n",
       "RTSUM           Content Rating                           7\n",
       "                Creative Type                            7\n",
       "                Genre                                    4\n",
       "                IMDB Rating                              2\n",
       "                Production Budget                        5\n",
       "                Release Year                             6\n",
       "                Rotten Tomatoes Rating                   4\n",
       "                Running Time                             6\n",
       "                Worldwide Gross                          3\n",
       "SUM             Content Rating                           7\n",
       "                Creative Type                            8\n",
       "                Genre                                    4\n",
       "                Production Budget                        4\n",
       "                Release Year                            11\n",
       "                Rotten Tomatoes Rating                   4\n",
       "                Running Time                             7\n",
       "                Worldwide Gross                          3"
      ]
     },
     "execution_count": 79,
     "metadata": {},
     "output_type": "execute_result"
    }
   ],
   "source": [
    "groupby_cols = [\"experiment_mode\",\"attribute\"]\n",
    "subset_cols = groupby_cols + [\"pid\"]\n",
    "df_attribute_stats[df_attribute_stats[\"count_encode_changed\"] + df_attribute_stats[\"count_filter_changed\"] == 0][subset_cols].groupby(groupby_cols).agg(no_of_participants=(\"pid\",\"count\"))"
   ]
  },
  {
   "cell_type": "markdown",
   "metadata": {},
   "source": [
    "## Summary plots - DataPoints"
   ]
  },
  {
   "cell_type": "code",
   "execution_count": 80,
   "metadata": {},
   "outputs": [],
   "source": [
    "df_datapoint_stats = pd.DataFrame()\n",
    "for experiment_mode in experiment_modes:\n",
    "    inputfile_datapoint_stats = f\"{experiment_mode}/all_{experiment_mode}_movies_datapoint_stats.csv\"\n",
    "    _df = pd.read_csv(inputfile_datapoint_stats, sep=\",\")\n",
    "    _df[\"experiment_mode\"] = experiment_mode\n",
    "    df_datapoint_stats = df_datapoint_stats.append(_df)\n",
    "    \n",
    "    \n",
    "df_datapoint_stats[\"count_hovers\"] = df_datapoint_stats[\"count_vis_hovers\"] + df_datapoint_stats[\"count_list_hovers\"]\n",
    "df_datapoint_stats[\"count_click_add\"] = df_datapoint_stats[\"count_vis_click_add\"] + df_datapoint_stats[\"count_card_click_add\"]\n",
    "df_datapoint_stats[\"count_click_remove\"] = df_datapoint_stats[\"count_list_click_remove\"] + df_datapoint_stats[\"count_card_click_remove\"]"
   ]
  },
  {
   "cell_type": "code",
   "execution_count": 81,
   "metadata": {},
   "outputs": [
    {
     "data": {
      "text/plain": [
       "Index(['pid', 'id', 'count_vis_hovers', 'count_vis_click_add',\n",
       "       'count_list_hovers', 'count_list_click_remove', 'count_card_click_add',\n",
       "       'count_card_click_remove', 'experiment_mode', 'count_hovers',\n",
       "       'count_click_add', 'count_click_remove'],\n",
       "      dtype='object')"
      ]
     },
     "execution_count": 81,
     "metadata": {},
     "output_type": "execute_result"
    }
   ],
   "source": [
    "df_datapoint_stats.columns"
   ]
  },
  {
   "cell_type": "code",
   "execution_count": 82,
   "metadata": {},
   "outputs": [
    {
     "data": {
      "text/html": [
       "<div>\n",
       "<style scoped>\n",
       "    .dataframe tbody tr th:only-of-type {\n",
       "        vertical-align: middle;\n",
       "    }\n",
       "\n",
       "    .dataframe tbody tr th {\n",
       "        vertical-align: top;\n",
       "    }\n",
       "\n",
       "    .dataframe thead th {\n",
       "        text-align: right;\n",
       "    }\n",
       "</style>\n",
       "<table border=\"1\" class=\"dataframe\">\n",
       "  <thead>\n",
       "    <tr style=\"text-align: right;\">\n",
       "      <th></th>\n",
       "      <th>experiment_mode</th>\n",
       "      <th>pid</th>\n",
       "      <th>count_hovers</th>\n",
       "      <th>count_click_add</th>\n",
       "      <th>count_click_remove</th>\n",
       "      <th>count_vis_hovers</th>\n",
       "      <th>count_vis_click_add</th>\n",
       "      <th>count_list_hovers</th>\n",
       "      <th>count_list_click_remove</th>\n",
       "      <th>count_card_click_add</th>\n",
       "      <th>count_card_click_remove</th>\n",
       "    </tr>\n",
       "  </thead>\n",
       "  <tbody>\n",
       "    <tr>\n",
       "      <th>0</th>\n",
       "      <td>CTRL</td>\n",
       "      <td>0Odg8Ya9cQZM</td>\n",
       "      <td>12</td>\n",
       "      <td>10</td>\n",
       "      <td>0</td>\n",
       "      <td>12</td>\n",
       "      <td>10</td>\n",
       "      <td>0</td>\n",
       "      <td>0</td>\n",
       "      <td>0</td>\n",
       "      <td>0</td>\n",
       "    </tr>\n",
       "  </tbody>\n",
       "</table>\n",
       "</div>"
      ],
      "text/plain": [
       "  experiment_mode           pid  count_hovers  count_click_add  \\\n",
       "0            CTRL  0Odg8Ya9cQZM            12               10   \n",
       "\n",
       "   count_click_remove  count_vis_hovers  count_vis_click_add  \\\n",
       "0                   0                12                   10   \n",
       "\n",
       "   count_list_hovers  count_list_click_remove  count_card_click_add  \\\n",
       "0                  0                        0                     0   \n",
       "\n",
       "   count_card_click_remove  \n",
       "0                        0  "
      ]
     },
     "execution_count": 82,
     "metadata": {},
     "output_type": "execute_result"
    }
   ],
   "source": [
    "df_datapoint_stats_agg = df_datapoint_stats.groupby([\"experiment_mode\",\"pid\"]).agg(\n",
    "    count_hovers=(\"count_hovers\", \"sum\"),\n",
    "    count_click_add=(\"count_click_add\", \"sum\"),\n",
    "    count_click_remove=(\"count_click_remove\", \"sum\"),\n",
    "    count_vis_hovers=(\"count_vis_hovers\",\"sum\"),\n",
    "    count_vis_click_add=(\"count_vis_click_add\",\"sum\"),\n",
    "    count_list_hovers=(\"count_list_hovers\",\"sum\"),\n",
    "    count_list_click_remove=(\"count_list_click_remove\",\"sum\"),\n",
    "    count_card_click_add=(\"count_card_click_add\", \"sum\"),\n",
    "    count_card_click_remove=(\"count_card_click_remove\", \"sum\")\n",
    ")\n",
    "df_datapoint_stats_agg.reset_index(inplace=True)\n",
    "df_datapoint_stats_agg.head(1)"
   ]
  },
  {
   "cell_type": "markdown",
   "metadata": {},
   "source": [
    "### How many Total DataPoints Did the Participants Interact With?"
   ]
  },
  {
   "cell_type": "code",
   "execution_count": 83,
   "metadata": {},
   "outputs": [
    {
     "data": {
      "text/html": [
       "<div>\n",
       "<style scoped>\n",
       "    .dataframe tbody tr th:only-of-type {\n",
       "        vertical-align: middle;\n",
       "    }\n",
       "\n",
       "    .dataframe tbody tr th {\n",
       "        vertical-align: top;\n",
       "    }\n",
       "\n",
       "    .dataframe thead th {\n",
       "        text-align: right;\n",
       "    }\n",
       "</style>\n",
       "<table border=\"1\" class=\"dataframe\">\n",
       "  <thead>\n",
       "    <tr style=\"text-align: right;\">\n",
       "      <th></th>\n",
       "      <th>experiment_mode</th>\n",
       "      <th>pid</th>\n",
       "      <th>total_no_of_interacted_datapoints</th>\n",
       "    </tr>\n",
       "  </thead>\n",
       "  <tbody>\n",
       "    <tr>\n",
       "      <th>0</th>\n",
       "      <td>CTRL</td>\n",
       "      <td>0Odg8Ya9cQZM</td>\n",
       "      <td>12</td>\n",
       "    </tr>\n",
       "  </tbody>\n",
       "</table>\n",
       "</div>"
      ],
      "text/plain": [
       "  experiment_mode           pid  total_no_of_interacted_datapoints\n",
       "0            CTRL  0Odg8Ya9cQZM                                 12"
      ]
     },
     "execution_count": 83,
     "metadata": {},
     "output_type": "execute_result"
    }
   ],
   "source": [
    "groupby_cols = [\"experiment_mode\", \"pid\"]\n",
    "subset_cols = groupby_cols + [\"count_hovers\"]\n",
    "df_total_interacted_datapoints = df_datapoint_stats_agg[df_datapoint_stats_agg[\"count_hovers\"] > 0][subset_cols].groupby(groupby_cols).agg(total_no_of_interacted_datapoints=(\"count_hovers\",\"sum\"))\n",
    "df_total_interacted_datapoints.reset_index(inplace=True)\n",
    "df_total_interacted_datapoints.head(1)"
   ]
  },
  {
   "cell_type": "markdown",
   "metadata": {},
   "source": [
    "### How many Unique DataPoints Did the Participants Interact With?"
   ]
  },
  {
   "cell_type": "code",
   "execution_count": 84,
   "metadata": {
    "scrolled": false
   },
   "outputs": [
    {
     "data": {
      "text/html": [
       "<div>\n",
       "<style scoped>\n",
       "    .dataframe tbody tr th:only-of-type {\n",
       "        vertical-align: middle;\n",
       "    }\n",
       "\n",
       "    .dataframe tbody tr th {\n",
       "        vertical-align: top;\n",
       "    }\n",
       "\n",
       "    .dataframe thead th {\n",
       "        text-align: right;\n",
       "    }\n",
       "</style>\n",
       "<table border=\"1\" class=\"dataframe\">\n",
       "  <thead>\n",
       "    <tr style=\"text-align: right;\">\n",
       "      <th></th>\n",
       "      <th>experiment_mode</th>\n",
       "      <th>pid</th>\n",
       "      <th>no_of_unique_interacted_datapoints</th>\n",
       "    </tr>\n",
       "  </thead>\n",
       "  <tbody>\n",
       "    <tr>\n",
       "      <th>0</th>\n",
       "      <td>CTRL</td>\n",
       "      <td>0Odg8Ya9cQZM</td>\n",
       "      <td>11</td>\n",
       "    </tr>\n",
       "  </tbody>\n",
       "</table>\n",
       "</div>"
      ],
      "text/plain": [
       "  experiment_mode           pid  no_of_unique_interacted_datapoints\n",
       "0            CTRL  0Odg8Ya9cQZM                                  11"
      ]
     },
     "execution_count": 84,
     "metadata": {},
     "output_type": "execute_result"
    }
   ],
   "source": [
    "groupby_cols = [\"experiment_mode\", \"pid\"]\n",
    "subset_cols = groupby_cols + [\"id\"]\n",
    "df_unique_interacted_datapoints = df_datapoint_stats[df_datapoint_stats[\"count_hovers\"] > 0][subset_cols].groupby(groupby_cols).agg(no_of_unique_interacted_datapoints=(\"id\",\"count\"))\n",
    "df_unique_interacted_datapoints.reset_index(inplace=True)\n",
    "df_unique_interacted_datapoints.head(1)"
   ]
  },
  {
   "cell_type": "markdown",
   "metadata": {},
   "source": [
    "### How many Datapoints were Hovered across Conditions?"
   ]
  },
  {
   "cell_type": "code",
   "execution_count": 85,
   "metadata": {},
   "outputs": [
    {
     "name": "stderr",
     "output_type": "stream",
     "text": [
      "/Users/curiosity/anaconda3/lib/python3.8/site-packages/numpy/core/_asarray.py:83: VisibleDeprecationWarning: Creating an ndarray from ragged nested sequences (which is a list-or-tuple of lists-or-tuples-or ndarrays with different lengths or shapes) is deprecated. If you meant to do this, you must specify 'dtype=object' when creating the ndarray\n",
      "  return array(a, dtype, copy=False, order=order)\n"
     ]
    },
    {
     "name": "stdout",
     "output_type": "stream",
     "text": [
      "         column experiment_mode   mean  median    std\n",
      "0  count_hovers            CTRL  23.62      22  10.50\n",
      "1  count_hovers              RT  56.73      45  36.38\n",
      "2  count_hovers           RTSUM  66.50      42  52.51\n",
      "3  count_hovers             SUM  55.29      46  37.89\n"
     ]
    },
    {
     "data": {
      "image/png": "[encoded data removed]",
      "text/plain": [
       "<Figure size 360x1440 with 8 Axes>"
      ]
     },
     "metadata": {
      "needs_background": "light"
     },
     "output_type": "display_data"
    }
   ],
   "source": [
    "columns = [\"count_hovers\"]\n",
    "by = [\"experiment_mode\"]\n",
    "filename=\"charts/basic_eda/movies/count_hovers.pdf\"\n",
    "custom_tick_boxplot(df=df_datapoint_stats_agg, \n",
    "                      by=by,\n",
    "                      columns=columns, \n",
    "                      filename=filename)"
   ]
  },
  {
   "cell_type": "markdown",
   "metadata": {},
   "source": [
    "### How many Datapoints were Clicked+Added across Conditions?"
   ]
  },
  {
   "cell_type": "code",
   "execution_count": 86,
   "metadata": {},
   "outputs": [
    {
     "name": "stderr",
     "output_type": "stream",
     "text": [
      "/Users/curiosity/anaconda3/lib/python3.8/site-packages/numpy/core/_asarray.py:83: VisibleDeprecationWarning: Creating an ndarray from ragged nested sequences (which is a list-or-tuple of lists-or-tuples-or ndarrays with different lengths or shapes) is deprecated. If you meant to do this, you must specify 'dtype=object' when creating the ndarray\n",
      "  return array(a, dtype, copy=False, order=order)\n"
     ]
    },
    {
     "name": "stdout",
     "output_type": "stream",
     "text": [
      "            column experiment_mode   mean  median    std\n",
      "0  count_click_add            CTRL  11.62      10   2.43\n",
      "1  count_click_add              RT  16.91      11  11.78\n",
      "2  count_click_add           RTSUM  12.25      11   3.33\n",
      "3  count_click_add             SUM  14.43      11   6.09\n"
     ]
    },
    {
     "data": {
      "image/png": "[encoded data removed]",
      "text/plain": [
       "<Figure size 360x1440 with 8 Axes>"
      ]
     },
     "metadata": {
      "needs_background": "light"
     },
     "output_type": "display_data"
    }
   ],
   "source": [
    "columns = [\"count_click_add\"]\n",
    "by = [\"experiment_mode\"]\n",
    "filename=\"charts/basic_eda/movies/count_click_add.pdf\"\n",
    "custom_tick_boxplot(df=df_datapoint_stats_agg, \n",
    "                      by=by,\n",
    "                      columns=columns, \n",
    "                      filename=filename)"
   ]
  },
  {
   "cell_type": "markdown",
   "metadata": {},
   "source": [
    "### How many Datapoints were Clicked+Removed across Conditions?"
   ]
  },
  {
   "cell_type": "code",
   "execution_count": 87,
   "metadata": {},
   "outputs": [
    {
     "name": "stderr",
     "output_type": "stream",
     "text": [
      "/Users/curiosity/anaconda3/lib/python3.8/site-packages/numpy/core/_asarray.py:83: VisibleDeprecationWarning: Creating an ndarray from ragged nested sequences (which is a list-or-tuple of lists-or-tuples-or ndarrays with different lengths or shapes) is deprecated. If you meant to do this, you must specify 'dtype=object' when creating the ndarray\n",
      "  return array(a, dtype, copy=False, order=order)\n"
     ]
    },
    {
     "name": "stdout",
     "output_type": "stream",
     "text": [
      "               column experiment_mode  mean  median    std\n",
      "0  count_click_remove            CTRL  1.31     0.0   1.84\n",
      "1  count_click_remove              RT  5.36     1.0  10.16\n",
      "2  count_click_remove           RTSUM  2.08     0.5   3.40\n",
      "3  count_click_remove             SUM  2.86     0.5   4.69\n"
     ]
    },
    {
     "data": {
      "image/png": "[encoded data removed]",
      "text/plain": [
       "<Figure size 360x1440 with 8 Axes>"
      ]
     },
     "metadata": {
      "needs_background": "light"
     },
     "output_type": "display_data"
    }
   ],
   "source": [
    "columns = [\"count_click_remove\"]\n",
    "by = [\"experiment_mode\"]\n",
    "filename=\"charts/basic_eda/movies/count_click_remove.pdf\"\n",
    "custom_tick_boxplot(df=df_datapoint_stats_agg, \n",
    "                      by=by,\n",
    "                      columns=columns, \n",
    "                      filename=filename)"
   ]
  },
  {
   "cell_type": "markdown",
   "metadata": {},
   "source": [
    "### How many Unique Datapoints interacted across Conditions?"
   ]
  },
  {
   "cell_type": "code",
   "execution_count": 88,
   "metadata": {},
   "outputs": [
    {
     "name": "stderr",
     "output_type": "stream",
     "text": [
      "/Users/curiosity/anaconda3/lib/python3.8/site-packages/numpy/core/_asarray.py:83: VisibleDeprecationWarning: Creating an ndarray from ragged nested sequences (which is a list-or-tuple of lists-or-tuples-or ndarrays with different lengths or shapes) is deprecated. If you meant to do this, you must specify 'dtype=object' when creating the ndarray\n",
      "  return array(a, dtype, copy=False, order=order)\n"
     ]
    },
    {
     "name": "stdout",
     "output_type": "stream",
     "text": [
      "                               column experiment_mode   mean  median    std\n",
      "0  no_of_unique_interacted_datapoints            CTRL  16.54    13.0   6.88\n",
      "1  no_of_unique_interacted_datapoints              RT  32.73    38.0  14.01\n",
      "2  no_of_unique_interacted_datapoints           RTSUM  43.67    30.0  37.82\n",
      "3  no_of_unique_interacted_datapoints             SUM  22.79    18.5  14.49\n"
     ]
    },
    {
     "data": {
      "image/png": "[encoded data removed]",
      "text/plain": [
       "<Figure size 360x1440 with 8 Axes>"
      ]
     },
     "metadata": {
      "needs_background": "light"
     },
     "output_type": "display_data"
    }
   ],
   "source": [
    "df_total_vs_unique_datapoints = df_unique_interacted_datapoints.merge(df_total_interacted_datapoints, on=[\"experiment_mode\", \"pid\"], how=\"inner\")\n",
    "df_total_vs_unique_datapoints[\"ratio_total_unique_interacted_datapoints\"] = df_total_vs_unique_datapoints[\"total_no_of_interacted_datapoints\"] / df_total_vs_unique_datapoints[\"no_of_unique_interacted_datapoints\"]\n",
    "df_total_vs_unique_datapoints.head(1)\n",
    "\n",
    "columns = [\"no_of_unique_interacted_datapoints\"]\n",
    "by = [\"experiment_mode\"]\n",
    "filename=\"charts/basic_eda/movies/unique-datapoints-across-condition.pdf\"\n",
    "custom_tick_boxplot(df=df_total_vs_unique_datapoints, \n",
    "                      by=by,\n",
    "                      columns=columns, \n",
    "                      filename=filename)"
   ]
  },
  {
   "cell_type": "markdown",
   "metadata": {},
   "source": [
    "### Ratio of Total and Unique Datapoints interacted across Conditions"
   ]
  },
  {
   "cell_type": "code",
   "execution_count": 89,
   "metadata": {
    "scrolled": false
   },
   "outputs": [
    {
     "name": "stderr",
     "output_type": "stream",
     "text": [
      "/Users/curiosity/anaconda3/lib/python3.8/site-packages/numpy/core/_asarray.py:83: VisibleDeprecationWarning: Creating an ndarray from ragged nested sequences (which is a list-or-tuple of lists-or-tuples-or ndarrays with different lengths or shapes) is deprecated. If you meant to do this, you must specify 'dtype=object' when creating the ndarray\n",
      "  return array(a, dtype, copy=False, order=order)\n"
     ]
    },
    {
     "name": "stdout",
     "output_type": "stream",
     "text": [
      "                                     column experiment_mode  mean  median  \\\n",
      "0  ratio_total_unique_interacted_datapoints            CTRL  1.45    1.29   \n",
      "1  ratio_total_unique_interacted_datapoints              RT  1.75    1.34   \n",
      "2  ratio_total_unique_interacted_datapoints           RTSUM  1.55    1.29   \n",
      "3  ratio_total_unique_interacted_datapoints             SUM  2.77    1.95   \n",
      "\n",
      "    std  \n",
      "0  0.42  \n",
      "1  0.63  \n",
      "2  0.53  \n",
      "3  2.23  \n"
     ]
    },
    {
     "data": {
      "image/png": "[encoded data removed]",
      "text/plain": [
       "<Figure size 360x1440 with 8 Axes>"
      ]
     },
     "metadata": {
      "needs_background": "light"
     },
     "output_type": "display_data"
    }
   ],
   "source": [
    "columns = [\"ratio_total_unique_interacted_datapoints\"]\n",
    "by = [\"experiment_mode\"]\n",
    "filename=\"charts/basic_eda/movies/ratio-total-unique-datapoints-across-condition.pdf\"\n",
    "custom_tick_boxplot(df=df_total_vs_unique_datapoints, \n",
    "                      by=by,\n",
    "                      columns=columns, \n",
    "                      filename=filename)"
   ]
  },
  {
   "cell_type": "markdown",
   "metadata": {},
   "source": [
    "## DPD and DPC (Wall et al.'s metrics)"
   ]
  },
  {
   "cell_type": "markdown",
   "metadata": {},
   "source": [
    "### FINAL"
   ]
  },
  {
   "cell_type": "code",
   "execution_count": 90,
   "metadata": {},
   "outputs": [],
   "source": [
    "df_dpc_dpd = df_attribute_stats[[\"experiment_mode\",\"pid\",\"dpc_metric_final\",\"dpd_metric_final\"]].groupby([\"experiment_mode\",\"pid\"]).first()\n",
    "df_dpc_dpd.reset_index(inplace=True)"
   ]
  },
  {
   "cell_type": "code",
   "execution_count": 91,
   "metadata": {},
   "outputs": [
    {
     "name": "stderr",
     "output_type": "stream",
     "text": [
      "/Users/curiosity/anaconda3/lib/python3.8/site-packages/numpy/core/_asarray.py:83: VisibleDeprecationWarning: Creating an ndarray from ragged nested sequences (which is a list-or-tuple of lists-or-tuples-or ndarrays with different lengths or shapes) is deprecated. If you meant to do this, you must specify 'dtype=object' when creating the ndarray\n",
      "  return array(a, dtype, copy=False, order=order)\n"
     ]
    },
    {
     "name": "stdout",
     "output_type": "stream",
     "text": [
      "             column experiment_mode  mean  median   std\n",
      "0  dpc_metric_final            CTRL  0.48    0.47  0.14\n",
      "1  dpc_metric_final              RT  0.44    0.48  0.18\n",
      "2  dpc_metric_final           RTSUM  0.37    0.39  0.17\n",
      "3  dpc_metric_final             SUM  0.55    0.54  0.21\n"
     ]
    },
    {
     "data": {
      "image/png": "[encoded data removed]",
      "text/plain": [
       "<Figure size 360x1440 with 8 Axes>"
      ]
     },
     "metadata": {
      "needs_background": "light"
     },
     "output_type": "display_data"
    }
   ],
   "source": [
    "columns = [\"dpc_metric_final\"]\n",
    "by = [\"experiment_mode\"]\n",
    "filename=\"charts/basic_eda/movies/dpc-metric-final-by-condition.pdf\"\n",
    "custom_bias_boxplot(df=df_dpc_dpd, \n",
    "                      by=by,\n",
    "                      columns=columns, \n",
    "                      filename=filename)"
   ]
  },
  {
   "cell_type": "code",
   "execution_count": 92,
   "metadata": {},
   "outputs": [
    {
     "name": "stderr",
     "output_type": "stream",
     "text": [
      "/Users/curiosity/anaconda3/lib/python3.8/site-packages/numpy/core/_asarray.py:83: VisibleDeprecationWarning: Creating an ndarray from ragged nested sequences (which is a list-or-tuple of lists-or-tuples-or ndarrays with different lengths or shapes) is deprecated. If you meant to do this, you must specify 'dtype=object' when creating the ndarray\n",
      "  return array(a, dtype, copy=False, order=order)\n"
     ]
    },
    {
     "name": "stdout",
     "output_type": "stream",
     "text": [
      "             column experiment_mode  mean  median   std\n",
      "0  dpd_metric_final            CTRL  1.00     1.0  0.00\n",
      "1  dpd_metric_final              RT  1.00     1.0  0.00\n",
      "2  dpd_metric_final           RTSUM  0.92     1.0  0.29\n",
      "3  dpd_metric_final             SUM  1.00     1.0  0.00\n"
     ]
    },
    {
     "data": {
      "image/png": "[encoded data removed]",
      "text/plain": [
       "<Figure size 360x1440 with 8 Axes>"
      ]
     },
     "metadata": {
      "needs_background": "light"
     },
     "output_type": "display_data"
    }
   ],
   "source": [
    "columns = [\"dpd_metric_final\"]\n",
    "by = [\"experiment_mode\"]\n",
    "filename=\"charts/basic_eda/movies/dpd-metric-final-by-condition.pdf\"\n",
    "custom_bias_boxplot(df=df_dpc_dpd, \n",
    "                      by=by,\n",
    "                      columns=columns, \n",
    "                      filename=filename)\n"
   ]
  },
  {
   "cell_type": "markdown",
   "metadata": {},
   "source": [
    "### Average"
   ]
  },
  {
   "cell_type": "code",
   "execution_count": 93,
   "metadata": {},
   "outputs": [],
   "source": [
    "df_dpc_dpd = df_attribute_stats[[\"experiment_mode\",\"pid\",\"dpc_metric_avg\",\"dpd_metric_avg\"]].groupby([\"experiment_mode\",\"pid\"]).first()\n",
    "df_dpc_dpd.reset_index(inplace=True)"
   ]
  },
  {
   "cell_type": "code",
   "execution_count": 94,
   "metadata": {},
   "outputs": [
    {
     "name": "stderr",
     "output_type": "stream",
     "text": [
      "/Users/curiosity/anaconda3/lib/python3.8/site-packages/numpy/core/_asarray.py:83: VisibleDeprecationWarning: Creating an ndarray from ragged nested sequences (which is a list-or-tuple of lists-or-tuples-or ndarrays with different lengths or shapes) is deprecated. If you meant to do this, you must specify 'dtype=object' when creating the ndarray\n",
      "  return array(a, dtype, copy=False, order=order)\n"
     ]
    },
    {
     "name": "stdout",
     "output_type": "stream",
     "text": [
      "           column experiment_mode  mean  median   std\n",
      "0  dpc_metric_avg            CTRL  0.33    0.32  0.13\n",
      "1  dpc_metric_avg              RT  0.34    0.36  0.16\n",
      "2  dpc_metric_avg           RTSUM  0.25    0.26  0.11\n",
      "3  dpc_metric_avg             SUM  0.41    0.36  0.20\n"
     ]
    },
    {
     "data": {
      "image/png": "[encoded data removed]",
      "text/plain": [
       "<Figure size 360x1440 with 8 Axes>"
      ]
     },
     "metadata": {
      "needs_background": "light"
     },
     "output_type": "display_data"
    }
   ],
   "source": [
    "columns = [\"dpc_metric_avg\"]\n",
    "by = [\"experiment_mode\"]\n",
    "filename=\"charts/basic_eda/movies/dpc-metric-avg-by-condition.pdf\"\n",
    "custom_bias_boxplot(df=df_dpc_dpd, \n",
    "                      by=by,\n",
    "                      columns=columns, \n",
    "                      filename=filename)"
   ]
  },
  {
   "cell_type": "code",
   "execution_count": 95,
   "metadata": {
    "scrolled": true
   },
   "outputs": [
    {
     "name": "stderr",
     "output_type": "stream",
     "text": [
      "/Users/curiosity/anaconda3/lib/python3.8/site-packages/numpy/core/_asarray.py:83: VisibleDeprecationWarning: Creating an ndarray from ragged nested sequences (which is a list-or-tuple of lists-or-tuples-or ndarrays with different lengths or shapes) is deprecated. If you meant to do this, you must specify 'dtype=object' when creating the ndarray\n",
      "  return array(a, dtype, copy=False, order=order)\n"
     ]
    },
    {
     "name": "stdout",
     "output_type": "stream",
     "text": [
      "           column experiment_mode  mean  median   std\n",
      "0  dpd_metric_avg            CTRL  0.73    0.74  0.08\n",
      "1  dpd_metric_avg              RT  0.84    0.85  0.09\n",
      "2  dpd_metric_avg           RTSUM  0.75    0.79  0.18\n",
      "3  dpd_metric_avg             SUM  0.81    0.84  0.11\n"
     ]
    },
    {
     "data": {
      "image/png": "[encoded data removed]",
      "text/plain": [
       "<Figure size 360x1440 with 8 Axes>"
      ]
     },
     "metadata": {
      "needs_background": "light"
     },
     "output_type": "display_data"
    }
   ],
   "source": [
    "columns = [\"dpd_metric_avg\"]\n",
    "by = [\"experiment_mode\"]\n",
    "filename=\"charts/basic_eda/movies/dpd-metric-avg-by-condition.pdf\"\n",
    "custom_bias_boxplot(df=df_dpc_dpd, \n",
    "                      by=by,\n",
    "                      columns=columns, \n",
    "                      filename=filename)\n"
   ]
  },
  {
   "cell_type": "code",
   "execution_count": null,
   "metadata": {},
   "outputs": [],
   "source": []
  }
 ],
 "metadata": {
  "kernelspec": {
   "display_name": "Python 3",
   "language": "python",
   "name": "python3"
  },
  "language_info": {
   "codemirror_mode": {
    "name": "ipython",
    "version": 3
   },
   "file_extension": ".py",
   "mimetype": "text/x-python",
   "name": "python",
   "nbconvert_exporter": "python",
   "pygments_lexer": "ipython3",
   "version": "3.7.9"
  }
 },
 "nbformat": 4,
 "nbformat_minor": 4
}
